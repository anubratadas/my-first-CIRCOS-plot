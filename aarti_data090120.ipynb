{
 "cells": [
  {
   "cell_type": "code",
   "execution_count": 1,
   "metadata": {},
   "outputs": [
    {
     "data": {
      "text/plain": [
       "'/home/anubrata/Documents/datascience'"
      ]
     },
     "execution_count": 1,
     "metadata": {},
     "output_type": "execute_result"
    }
   ],
   "source": [
    "import os\n",
    "import numpy as np\n",
    "import pandas as pd\n",
    "\n",
    "os.getcwd()"
   ]
  },
  {
   "cell_type": "code",
   "execution_count": 2,
   "metadata": {},
   "outputs": [],
   "source": [
    "arti_data=pd.read_csv(\"A_cip-1_SNP.csv\",encoding=\"utf-16\")"
   ]
  },
  {
   "cell_type": "code",
   "execution_count": 3,
   "metadata": {},
   "outputs": [
    {
     "data": {
      "text/html": [
       "<div>\n",
       "<style scoped>\n",
       "    .dataframe tbody tr th:only-of-type {\n",
       "        vertical-align: middle;\n",
       "    }\n",
       "\n",
       "    .dataframe tbody tr th {\n",
       "        vertical-align: top;\n",
       "    }\n",
       "\n",
       "    .dataframe thead th {\n",
       "        text-align: right;\n",
       "    }\n",
       "</style>\n",
       "<table border=\"1\" class=\"dataframe\">\n",
       "  <thead>\n",
       "    <tr style=\"text-align: right;\">\n",
       "      <th></th>\n",
       "      <th>Chrom</th>\n",
       "      <th>Position</th>\n",
       "      <th>Reference</th>\n",
       "      <th>Variant</th>\n",
       "      <th>Type</th>\n",
       "      <th>Zygosity</th>\n",
       "      <th>Quality</th>\n",
       "      <th>Coverage</th>\n",
       "      <th>Gene_ID</th>\n",
       "      <th>Trancript_ID</th>\n",
       "      <th>Exon_ID</th>\n",
       "      <th>Exon_Rank</th>\n",
       "      <th>Effect</th>\n",
       "      <th>old_AA/new_AA</th>\n",
       "      <th>Old_codon/New_codon</th>\n",
       "      <th>Codon_Num(CDS)</th>\n",
       "    </tr>\n",
       "  </thead>\n",
       "  <tbody>\n",
       "    <tr>\n",
       "      <td>0</td>\n",
       "      <td>NC_003197.2</td>\n",
       "      <td>507</td>\n",
       "      <td>C</td>\n",
       "      <td>T</td>\n",
       "      <td>SNP</td>\n",
       "      <td>Hom</td>\n",
       "      <td>221.999</td>\n",
       "      <td>1028</td>\n",
       "      <td>thrA</td>\n",
       "      <td>Transcript_gene1</td>\n",
       "      <td>Exon_NC_003197.2_336_2798</td>\n",
       "      <td>1</td>\n",
       "      <td>SYNONYMOUS_CODING</td>\n",
       "      <td>G/G</td>\n",
       "      <td>ggC/ggT</td>\n",
       "      <td>57.0</td>\n",
       "    </tr>\n",
       "    <tr>\n",
       "      <td>1</td>\n",
       "      <td>NC_003197.2</td>\n",
       "      <td>537</td>\n",
       "      <td>A</td>\n",
       "      <td>C</td>\n",
       "      <td>SNP</td>\n",
       "      <td>Hom</td>\n",
       "      <td>221.999</td>\n",
       "      <td>1130</td>\n",
       "      <td>thrA</td>\n",
       "      <td>Transcript_gene1</td>\n",
       "      <td>Exon_NC_003197.2_336_2798</td>\n",
       "      <td>1</td>\n",
       "      <td>SYNONYMOUS_CODING</td>\n",
       "      <td>A/A</td>\n",
       "      <td>gcA/gcC</td>\n",
       "      <td>67.0</td>\n",
       "    </tr>\n",
       "    <tr>\n",
       "      <td>2</td>\n",
       "      <td>NC_003197.2</td>\n",
       "      <td>744</td>\n",
       "      <td>A</td>\n",
       "      <td>C</td>\n",
       "      <td>SNP</td>\n",
       "      <td>Hom</td>\n",
       "      <td>221.999</td>\n",
       "      <td>1316</td>\n",
       "      <td>thrA</td>\n",
       "      <td>Transcript_gene1</td>\n",
       "      <td>Exon_NC_003197.2_336_2798</td>\n",
       "      <td>1</td>\n",
       "      <td>SYNONYMOUS_CODING</td>\n",
       "      <td>G/G</td>\n",
       "      <td>ggA/ggC</td>\n",
       "      <td>136.0</td>\n",
       "    </tr>\n",
       "    <tr>\n",
       "      <td>3</td>\n",
       "      <td>NC_003197.2</td>\n",
       "      <td>747</td>\n",
       "      <td>T</td>\n",
       "      <td>C</td>\n",
       "      <td>SNP</td>\n",
       "      <td>Hom</td>\n",
       "      <td>221.999</td>\n",
       "      <td>1431</td>\n",
       "      <td>thrA</td>\n",
       "      <td>Transcript_gene1</td>\n",
       "      <td>Exon_NC_003197.2_336_2798</td>\n",
       "      <td>1</td>\n",
       "      <td>SYNONYMOUS_CODING</td>\n",
       "      <td>L/L</td>\n",
       "      <td>ctT/ctC</td>\n",
       "      <td>137.0</td>\n",
       "    </tr>\n",
       "    <tr>\n",
       "      <td>4</td>\n",
       "      <td>NC_003197.2</td>\n",
       "      <td>762</td>\n",
       "      <td>G</td>\n",
       "      <td>A</td>\n",
       "      <td>SNP</td>\n",
       "      <td>Hom</td>\n",
       "      <td>221.999</td>\n",
       "      <td>1355</td>\n",
       "      <td>thrA</td>\n",
       "      <td>Transcript_gene1</td>\n",
       "      <td>Exon_NC_003197.2_336_2798</td>\n",
       "      <td>1</td>\n",
       "      <td>SYNONYMOUS_CODING</td>\n",
       "      <td>G/G</td>\n",
       "      <td>ggG/ggA</td>\n",
       "      <td>142.0</td>\n",
       "    </tr>\n",
       "  </tbody>\n",
       "</table>\n",
       "</div>"
      ],
      "text/plain": [
       "         Chrom  Position Reference Variant Type Zygosity  Quality  Coverage  \\\n",
       "0  NC_003197.2       507         C       T  SNP      Hom  221.999      1028   \n",
       "1  NC_003197.2       537         A       C  SNP      Hom  221.999      1130   \n",
       "2  NC_003197.2       744         A       C  SNP      Hom  221.999      1316   \n",
       "3  NC_003197.2       747         T       C  SNP      Hom  221.999      1431   \n",
       "4  NC_003197.2       762         G       A  SNP      Hom  221.999      1355   \n",
       "\n",
       "  Gene_ID      Trancript_ID                    Exon_ID Exon_Rank  \\\n",
       "0    thrA  Transcript_gene1  Exon_NC_003197.2_336_2798         1   \n",
       "1    thrA  Transcript_gene1  Exon_NC_003197.2_336_2798         1   \n",
       "2    thrA  Transcript_gene1  Exon_NC_003197.2_336_2798         1   \n",
       "3    thrA  Transcript_gene1  Exon_NC_003197.2_336_2798         1   \n",
       "4    thrA  Transcript_gene1  Exon_NC_003197.2_336_2798         1   \n",
       "\n",
       "              Effect old_AA/new_AA Old_codon/New_codon  Codon_Num(CDS)  \n",
       "0  SYNONYMOUS_CODING           G/G             ggC/ggT            57.0  \n",
       "1  SYNONYMOUS_CODING           A/A             gcA/gcC            67.0  \n",
       "2  SYNONYMOUS_CODING           G/G             ggA/ggC           136.0  \n",
       "3  SYNONYMOUS_CODING           L/L             ctT/ctC           137.0  \n",
       "4  SYNONYMOUS_CODING           G/G             ggG/ggA           142.0  "
      ]
     },
     "execution_count": 3,
     "metadata": {},
     "output_type": "execute_result"
    }
   ],
   "source": [
    "arti_data.head()"
   ]
  },
  {
   "cell_type": "code",
   "execution_count": 4,
   "metadata": {},
   "outputs": [
    {
     "data": {
      "text/html": [
       "<div>\n",
       "<style scoped>\n",
       "    .dataframe tbody tr th:only-of-type {\n",
       "        vertical-align: middle;\n",
       "    }\n",
       "\n",
       "    .dataframe tbody tr th {\n",
       "        vertical-align: top;\n",
       "    }\n",
       "\n",
       "    .dataframe thead th {\n",
       "        text-align: right;\n",
       "    }\n",
       "</style>\n",
       "<table border=\"1\" class=\"dataframe\">\n",
       "  <thead>\n",
       "    <tr style=\"text-align: right;\">\n",
       "      <th></th>\n",
       "      <th>Position</th>\n",
       "      <th>Reference</th>\n",
       "      <th>Variant</th>\n",
       "      <th>Quality</th>\n",
       "      <th>Coverage</th>\n",
       "      <th>Gene_ID</th>\n",
       "      <th>Exon_Rank</th>\n",
       "      <th>Effect</th>\n",
       "      <th>old_AA/new_AA</th>\n",
       "      <th>Old_codon/New_codon</th>\n",
       "      <th>Codon_Num(CDS)</th>\n",
       "    </tr>\n",
       "  </thead>\n",
       "  <tbody>\n",
       "    <tr>\n",
       "      <td>0</td>\n",
       "      <td>507</td>\n",
       "      <td>C</td>\n",
       "      <td>T</td>\n",
       "      <td>221.999</td>\n",
       "      <td>1028</td>\n",
       "      <td>thrA</td>\n",
       "      <td>1</td>\n",
       "      <td>SYNONYMOUS_CODING</td>\n",
       "      <td>G/G</td>\n",
       "      <td>ggC/ggT</td>\n",
       "      <td>57.0</td>\n",
       "    </tr>\n",
       "    <tr>\n",
       "      <td>1</td>\n",
       "      <td>537</td>\n",
       "      <td>A</td>\n",
       "      <td>C</td>\n",
       "      <td>221.999</td>\n",
       "      <td>1130</td>\n",
       "      <td>thrA</td>\n",
       "      <td>1</td>\n",
       "      <td>SYNONYMOUS_CODING</td>\n",
       "      <td>A/A</td>\n",
       "      <td>gcA/gcC</td>\n",
       "      <td>67.0</td>\n",
       "    </tr>\n",
       "    <tr>\n",
       "      <td>2</td>\n",
       "      <td>744</td>\n",
       "      <td>A</td>\n",
       "      <td>C</td>\n",
       "      <td>221.999</td>\n",
       "      <td>1316</td>\n",
       "      <td>thrA</td>\n",
       "      <td>1</td>\n",
       "      <td>SYNONYMOUS_CODING</td>\n",
       "      <td>G/G</td>\n",
       "      <td>ggA/ggC</td>\n",
       "      <td>136.0</td>\n",
       "    </tr>\n",
       "    <tr>\n",
       "      <td>3</td>\n",
       "      <td>747</td>\n",
       "      <td>T</td>\n",
       "      <td>C</td>\n",
       "      <td>221.999</td>\n",
       "      <td>1431</td>\n",
       "      <td>thrA</td>\n",
       "      <td>1</td>\n",
       "      <td>SYNONYMOUS_CODING</td>\n",
       "      <td>L/L</td>\n",
       "      <td>ctT/ctC</td>\n",
       "      <td>137.0</td>\n",
       "    </tr>\n",
       "    <tr>\n",
       "      <td>4</td>\n",
       "      <td>762</td>\n",
       "      <td>G</td>\n",
       "      <td>A</td>\n",
       "      <td>221.999</td>\n",
       "      <td>1355</td>\n",
       "      <td>thrA</td>\n",
       "      <td>1</td>\n",
       "      <td>SYNONYMOUS_CODING</td>\n",
       "      <td>G/G</td>\n",
       "      <td>ggG/ggA</td>\n",
       "      <td>142.0</td>\n",
       "    </tr>\n",
       "  </tbody>\n",
       "</table>\n",
       "</div>"
      ],
      "text/plain": [
       "   Position Reference Variant  Quality  Coverage Gene_ID Exon_Rank  \\\n",
       "0       507         C       T  221.999      1028    thrA         1   \n",
       "1       537         A       C  221.999      1130    thrA         1   \n",
       "2       744         A       C  221.999      1316    thrA         1   \n",
       "3       747         T       C  221.999      1431    thrA         1   \n",
       "4       762         G       A  221.999      1355    thrA         1   \n",
       "\n",
       "              Effect old_AA/new_AA Old_codon/New_codon  Codon_Num(CDS)  \n",
       "0  SYNONYMOUS_CODING           G/G             ggC/ggT            57.0  \n",
       "1  SYNONYMOUS_CODING           A/A             gcA/gcC            67.0  \n",
       "2  SYNONYMOUS_CODING           G/G             ggA/ggC           136.0  \n",
       "3  SYNONYMOUS_CODING           L/L             ctT/ctC           137.0  \n",
       "4  SYNONYMOUS_CODING           G/G             ggG/ggA           142.0  "
      ]
     },
     "execution_count": 4,
     "metadata": {},
     "output_type": "execute_result"
    }
   ],
   "source": [
    "rev_data=arti_data.drop(['Chrom','Type','Zygosity','Trancript_ID','Exon_ID'],axis=1)\n",
    "rev_data.head()"
   ]
  },
  {
   "cell_type": "code",
   "execution_count": null,
   "metadata": {},
   "outputs": [],
   "source": []
  },
  {
   "cell_type": "code",
   "execution_count": 5,
   "metadata": {},
   "outputs": [
    {
     "name": "stderr",
     "output_type": "stream",
     "text": [
      "/home/anubrata/anaconda3/lib/python3.7/site-packages/ipykernel_launcher.py:2: FutureWarning: The signature of `Series.to_csv` was aligned to that of `DataFrame.to_csv`, and argument 'header' will change its default value from False to True: please pass an explicit value to suppress this warning.\n",
      "  \n"
     ]
    }
   ],
   "source": [
    "out1=rev_data.groupby('Gene_ID')['Position'].value_counts()    \n",
    "out1.to_csv('out1.csv')"
   ]
  },
  {
   "cell_type": "code",
   "execution_count": 19,
   "metadata": {},
   "outputs": [
    {
     "name": "stderr",
     "output_type": "stream",
     "text": [
      "/home/anubrata/anaconda3/lib/python3.7/site-packages/ipykernel_launcher.py:3: FutureWarning: The signature of `Series.to_csv` was aligned to that of `DataFrame.to_csv`, and argument 'header' will change its default value from False to True: please pass an explicit value to suppress this warning.\n",
      "  This is separate from the ipykernel package so we can avoid doing imports until\n"
     ]
    }
   ],
   "source": [
    "out2=rev_data.groupby(['Gene_ID','Position','Old_codon/New_codon','Effect'])['Gene_ID'].count()    \n",
    "out2.head()\n",
    "out2.to_csv('out2.csv')"
   ]
  },
  {
   "cell_type": "code",
   "execution_count": 6,
   "metadata": {},
   "outputs": [
    {
     "name": "stderr",
     "output_type": "stream",
     "text": [
      "/home/anubrata/anaconda3/lib/python3.7/site-packages/pandas/core/frame.py:4102: SettingWithCopyWarning: \n",
      "A value is trying to be set on a copy of a slice from a DataFrame\n",
      "\n",
      "See the caveats in the documentation: http://pandas.pydata.org/pandas-docs/stable/user_guide/indexing.html#returning-a-view-versus-a-copy\n",
      "  errors=errors,\n"
     ]
    },
    {
     "data": {
      "text/html": [
       "<div>\n",
       "<style scoped>\n",
       "    .dataframe tbody tr th:only-of-type {\n",
       "        vertical-align: middle;\n",
       "    }\n",
       "\n",
       "    .dataframe tbody tr th {\n",
       "        vertical-align: top;\n",
       "    }\n",
       "\n",
       "    .dataframe thead th {\n",
       "        text-align: right;\n",
       "    }\n",
       "</style>\n",
       "<table border=\"1\" class=\"dataframe\">\n",
       "  <thead>\n",
       "    <tr style=\"text-align: right;\">\n",
       "      <th></th>\n",
       "      <th>Gene_ID</th>\n",
       "      <th>Position</th>\n",
       "      <th>Reference</th>\n",
       "      <th>Variant</th>\n",
       "      <th>OlCod_NwCod</th>\n",
       "    </tr>\n",
       "  </thead>\n",
       "  <tbody>\n",
       "    <tr>\n",
       "      <td>0</td>\n",
       "      <td>thrA</td>\n",
       "      <td>877</td>\n",
       "      <td>G</td>\n",
       "      <td>T</td>\n",
       "      <td>Gcc/Tcc</td>\n",
       "    </tr>\n",
       "    <tr>\n",
       "      <td>1</td>\n",
       "      <td>thrA</td>\n",
       "      <td>2455</td>\n",
       "      <td>A</td>\n",
       "      <td>G</td>\n",
       "      <td>Aac/Gac</td>\n",
       "    </tr>\n",
       "    <tr>\n",
       "      <td>2</td>\n",
       "      <td>thrA</td>\n",
       "      <td>2485</td>\n",
       "      <td>G</td>\n",
       "      <td>A</td>\n",
       "      <td>Gcc/Acc</td>\n",
       "    </tr>\n",
       "    <tr>\n",
       "      <td>3</td>\n",
       "      <td>thrC</td>\n",
       "      <td>3835</td>\n",
       "      <td>T</td>\n",
       "      <td>A</td>\n",
       "      <td>gaT/gaA</td>\n",
       "    </tr>\n",
       "    <tr>\n",
       "      <td>4</td>\n",
       "      <td>yaaJ</td>\n",
       "      <td>5984</td>\n",
       "      <td>C</td>\n",
       "      <td>A</td>\n",
       "      <td>gaG/gaT</td>\n",
       "    </tr>\n",
       "  </tbody>\n",
       "</table>\n",
       "</div>"
      ],
      "text/plain": [
       "  Gene_ID  Position Reference Variant OlCod_NwCod\n",
       "0    thrA       877         G       T     Gcc/Tcc\n",
       "1    thrA      2455         A       G     Aac/Gac\n",
       "2    thrA      2485         G       A     Gcc/Acc\n",
       "3    thrC      3835         T       A     gaT/gaA\n",
       "4    yaaJ      5984         C       A     gaG/gaT"
      ]
     },
     "execution_count": 6,
     "metadata": {},
     "output_type": "execute_result"
    }
   ],
   "source": [
    "arti_new_nonsyn=arti_data[arti_data.Effect=='NON_SYNONYMOUS_CODING']\n",
    "arti_new_syn=arti_data[arti_data.Effect=='SYNONYMOUS_CODING']\n",
    "arti_new_nonsyn.reset_index(inplace=True)\n",
    "arti_new_nonsyn.drop(\"index\",axis=1,inplace=True)\n",
    "arti_new_nonsyn=arti_new_nonsyn.loc[:,[\"Gene_ID\",\"Position\",\"Reference\",\"Variant\",\"Old_codon/New_codon\"]]\n",
    "l=list(arti_new_nonsyn.columns)\n",
    "l[4]=\"OlCod_NwCod\"\n",
    "arti_new_nonsyn.columns=l\n",
    "arti_new_nonsyn.head()"
   ]
  },
  {
   "cell_type": "code",
   "execution_count": null,
   "metadata": {},
   "outputs": [],
   "source": []
  },
  {
   "cell_type": "code",
   "execution_count": null,
   "metadata": {},
   "outputs": [],
   "source": []
  },
  {
   "cell_type": "code",
   "execution_count": null,
   "metadata": {},
   "outputs": [],
   "source": []
  },
  {
   "cell_type": "code",
   "execution_count": null,
   "metadata": {},
   "outputs": [],
   "source": []
  },
  {
   "cell_type": "code",
   "execution_count": null,
   "metadata": {},
   "outputs": [],
   "source": []
  },
  {
   "cell_type": "code",
   "execution_count": 7,
   "metadata": {},
   "outputs": [],
   "source": [
    "arti_new_nonsyn.to_csv('arti_new_nonsyn')"
   ]
  },
  {
   "cell_type": "code",
   "execution_count": 8,
   "metadata": {},
   "outputs": [],
   "source": [
    "arti_new_syn=arti_data[arti_data.Effect=='SYNONYMOUS_CODING']\n",
    "arti_new_syn=arti_new_syn.loc[:,[\"Gene_ID\",\"Position\",\"Reference\",\"Variant\",\"Old_codon/New_codon\"]]\n",
    "arti_new_syn.columns=l\n",
    "arti_new_syn.reset_index(inplace=True)\n",
    "arti_new_syn.drop(\"index\",axis=1,inplace=True)\n",
    "pd.value_counts(arti_new_syn.Gene_ID)\n",
    "a=arti_new_syn[arti_new_syn.Gene_ID==\"STM4261\"]\n",
    "b=arti_new_syn[arti_new_syn.Reference==\"G\"]\n",
    "\n",
    "#arti_new_syn.to_csv('arti_new_syn')"
   ]
  },
  {
   "cell_type": "code",
   "execution_count": 9,
   "metadata": {},
   "outputs": [
    {
     "ename": "NameError",
     "evalue": "name 'arti_old_nonsyn' is not defined",
     "output_type": "error",
     "traceback": [
      "\u001b[0;31m---------------------------------------------------------------------------\u001b[0m",
      "\u001b[0;31mNameError\u001b[0m                                 Traceback (most recent call last)",
      "\u001b[0;32m<ipython-input-9-dfa0bbb505b9>\u001b[0m in \u001b[0;36m<module>\u001b[0;34m\u001b[0m\n\u001b[1;32m      5\u001b[0m \u001b[0;31m#arti_old_nonsyn.reset_index(inplace=True)\u001b[0m\u001b[0;34m\u001b[0m\u001b[0;34m\u001b[0m\u001b[0;34m\u001b[0m\u001b[0m\n\u001b[1;32m      6\u001b[0m \u001b[0;31m#arti_old_nonsyn.drop(\"index\",axis=1,inplace=True)\u001b[0m\u001b[0;34m\u001b[0m\u001b[0;34m\u001b[0m\u001b[0;34m\u001b[0m\u001b[0m\n\u001b[0;32m----> 7\u001b[0;31m \u001b[0marti_old_nonsyn\u001b[0m\u001b[0;34m=\u001b[0m\u001b[0marti_old_nonsyn\u001b[0m\u001b[0;34m.\u001b[0m\u001b[0mloc\u001b[0m\u001b[0;34m[\u001b[0m\u001b[0;34m:\u001b[0m\u001b[0;34m,\u001b[0m\u001b[0;34m[\u001b[0m\u001b[0;34m\"Gene_ID\"\u001b[0m\u001b[0;34m,\u001b[0m\u001b[0;34m\"Position\"\u001b[0m\u001b[0;34m,\u001b[0m\u001b[0;34m\"Reference\"\u001b[0m\u001b[0;34m,\u001b[0m\u001b[0;34m\"Variant\"\u001b[0m\u001b[0;34m,\u001b[0m\u001b[0;34m\"Old_codon/New_codon\"\u001b[0m\u001b[0;34m]\u001b[0m\u001b[0;34m]\u001b[0m\u001b[0;34m\u001b[0m\u001b[0;34m\u001b[0m\u001b[0m\n\u001b[0m\u001b[1;32m      8\u001b[0m \u001b[0marti_old_nonsyn\u001b[0m\u001b[0;34m.\u001b[0m\u001b[0mhead\u001b[0m\u001b[0;34m(\u001b[0m\u001b[0;34m)\u001b[0m\u001b[0;34m\u001b[0m\u001b[0;34m\u001b[0m\u001b[0m\n\u001b[1;32m      9\u001b[0m \u001b[0marti_old_nonsyn\u001b[0m\u001b[0;34m.\u001b[0m\u001b[0mto_csv\u001b[0m\u001b[0;34m(\u001b[0m\u001b[0;34m'arti_old_nonsyn'\u001b[0m\u001b[0;34m)\u001b[0m\u001b[0;34m\u001b[0m\u001b[0;34m\u001b[0m\u001b[0m\n",
      "\u001b[0;31mNameError\u001b[0m: name 'arti_old_nonsyn' is not defined"
     ]
    }
   ],
   "source": [
    "#arti_old_data=pd.read_csv(\"Cip_2B_SNP.csv\",encoding=\"utf-16\")\n",
    "#arti_old_data.info()\n",
    "#arti_old_nonsyn=arti_old_data[arti_old_data.Effect=='NON_SYNONYMOUS_CODING']\n",
    "#arti_old_syn=arti_old_data[arti_old_data.Effect=='SYNONYMOUS_CODING']\n",
    "#arti_old_nonsyn.reset_index(inplace=True)\n",
    "#arti_old_nonsyn.drop(\"index\",axis=1,inplace=True)\n",
    "arti_old_nonsyn=arti_old_nonsyn.loc[:,[\"Gene_ID\",\"Position\",\"Reference\",\"Variant\",\"Old_codon/New_codon\"]]\n",
    "arti_old_nonsyn.head()\n",
    "arti_old_nonsyn.to_csv('arti_old_nonsyn')"
   ]
  },
  {
   "cell_type": "code",
   "execution_count": null,
   "metadata": {},
   "outputs": [],
   "source": [
    "arti_old_syn=arti_old_data[arti_old_data.Effect=='SYNONYMOUS_CODING']\n",
    "arti_old_syn=arti_old_syn.loc[:,[\"Gene_ID\",\"Position\",\"Reference\",\"Variant\",\"Old_codon/New_codon\"]]\n",
    "arti_old_syn.head()\n",
    "arti_old_syn.to_csv('arti_old_syn')"
   ]
  },
  {
   "cell_type": "code",
   "execution_count": null,
   "metadata": {},
   "outputs": [],
   "source": [
    "arti_old_syn.head()"
   ]
  },
  {
   "cell_type": "code",
   "execution_count": null,
   "metadata": {},
   "outputs": [],
   "source": [
    "#arti_new_syn.drop('index',axis=1,inplace=True)\n",
    "arti_new_syn_counts=pd.value_counts(arti_new_syn.Gene_ID)\n",
    "arti_new_syn_counts=pd.DataFrame(arti_new_syn_counts)\n",
    "arti_new_syn_counts.reset_index(inplace=True)\n",
    "\n",
    "arti_new_syn_counts.columns=[\"Gene_ID\",\"count\"]\n",
    "arti_new_syn_counts.head()\n",
    "arti_new_syn_counts.to_csv('new_syn_counts')"
   ]
  },
  {
   "cell_type": "code",
   "execution_count": null,
   "metadata": {},
   "outputs": [],
   "source": []
  }
 ],
 "metadata": {
  "kernelspec": {
   "display_name": "Python 3",
   "language": "python",
   "name": "python3"
  },
  "language_info": {
   "codemirror_mode": {
    "name": "ipython",
    "version": 3
   },
   "file_extension": ".py",
   "mimetype": "text/x-python",
   "name": "python",
   "nbconvert_exporter": "python",
   "pygments_lexer": "ipython3",
   "version": "3.7.4"
  }
 },
 "nbformat": 4,
 "nbformat_minor": 4
}
