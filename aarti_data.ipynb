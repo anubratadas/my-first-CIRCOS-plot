{
 "cells": [
  {
   "cell_type": "code",
   "execution_count": 3,
   "metadata": {},
   "outputs": [
    {
     "data": {
      "text/plain": [
       "'/home/anubrata/Documents/datascience'"
      ]
     },
     "execution_count": 3,
     "metadata": {},
     "output_type": "execute_result"
    }
   ],
   "source": [
    "import os\n",
    "import numpy as np\n",
    "import pandas as pd\n",
    "\n",
    "os.getcwd()"
   ]
  },
  {
   "cell_type": "code",
   "execution_count": 4,
   "metadata": {},
   "outputs": [],
   "source": [
    "arti_data=pd.read_csv(\"A_cip-1_SNP.csv\",encoding=\"utf-16\")"
   ]
  },
  {
   "cell_type": "code",
   "execution_count": 5,
   "metadata": {},
   "outputs": [
    {
     "name": "stderr",
     "output_type": "stream",
     "text": [
      "/home/anubrata/anaconda3/lib/python3.7/site-packages/pandas/core/frame.py:4102: SettingWithCopyWarning: \n",
      "A value is trying to be set on a copy of a slice from a DataFrame\n",
      "\n",
      "See the caveats in the documentation: http://pandas.pydata.org/pandas-docs/stable/user_guide/indexing.html#returning-a-view-versus-a-copy\n",
      "  errors=errors,\n"
     ]
    },
    {
     "data": {
      "text/html": [
       "<div>\n",
       "<style scoped>\n",
       "    .dataframe tbody tr th:only-of-type {\n",
       "        vertical-align: middle;\n",
       "    }\n",
       "\n",
       "    .dataframe tbody tr th {\n",
       "        vertical-align: top;\n",
       "    }\n",
       "\n",
       "    .dataframe thead th {\n",
       "        text-align: right;\n",
       "    }\n",
       "</style>\n",
       "<table border=\"1\" class=\"dataframe\">\n",
       "  <thead>\n",
       "    <tr style=\"text-align: right;\">\n",
       "      <th></th>\n",
       "      <th>Gene_ID</th>\n",
       "      <th>Position</th>\n",
       "      <th>Reference</th>\n",
       "      <th>Variant</th>\n",
       "      <th>OlCod_NwCod</th>\n",
       "    </tr>\n",
       "  </thead>\n",
       "  <tbody>\n",
       "    <tr>\n",
       "      <td>0</td>\n",
       "      <td>thrA</td>\n",
       "      <td>877</td>\n",
       "      <td>G</td>\n",
       "      <td>T</td>\n",
       "      <td>Gcc/Tcc</td>\n",
       "    </tr>\n",
       "    <tr>\n",
       "      <td>1</td>\n",
       "      <td>thrA</td>\n",
       "      <td>2455</td>\n",
       "      <td>A</td>\n",
       "      <td>G</td>\n",
       "      <td>Aac/Gac</td>\n",
       "    </tr>\n",
       "    <tr>\n",
       "      <td>2</td>\n",
       "      <td>thrA</td>\n",
       "      <td>2485</td>\n",
       "      <td>G</td>\n",
       "      <td>A</td>\n",
       "      <td>Gcc/Acc</td>\n",
       "    </tr>\n",
       "    <tr>\n",
       "      <td>3</td>\n",
       "      <td>thrC</td>\n",
       "      <td>3835</td>\n",
       "      <td>T</td>\n",
       "      <td>A</td>\n",
       "      <td>gaT/gaA</td>\n",
       "    </tr>\n",
       "    <tr>\n",
       "      <td>4</td>\n",
       "      <td>yaaJ</td>\n",
       "      <td>5984</td>\n",
       "      <td>C</td>\n",
       "      <td>A</td>\n",
       "      <td>gaG/gaT</td>\n",
       "    </tr>\n",
       "  </tbody>\n",
       "</table>\n",
       "</div>"
      ],
      "text/plain": [
       "  Gene_ID  Position Reference Variant OlCod_NwCod\n",
       "0    thrA       877         G       T     Gcc/Tcc\n",
       "1    thrA      2455         A       G     Aac/Gac\n",
       "2    thrA      2485         G       A     Gcc/Acc\n",
       "3    thrC      3835         T       A     gaT/gaA\n",
       "4    yaaJ      5984         C       A     gaG/gaT"
      ]
     },
     "execution_count": 5,
     "metadata": {},
     "output_type": "execute_result"
    }
   ],
   "source": [
    "arti_new_nonsyn=arti_data[arti_data.Effect=='NON_SYNONYMOUS_CODING']\n",
    "arti_new_syn=arti_data[arti_data.Effect=='SYNONYMOUS_CODING']\n",
    "arti_new_nonsyn.reset_index(inplace=True)\n",
    "arti_new_nonsyn.drop(\"index\",axis=1,inplace=True)\n",
    "arti_new_nonsyn=arti_new_nonsyn.loc[:,[\"Gene_ID\",\"Position\",\"Reference\",\"Variant\",\"Old_codon/New_codon\"]]\n",
    "l=list(arti_new_nonsyn.columns)\n",
    "l[4]=\"OlCod_NwCod\"\n",
    "arti_new_nonsyn.columns=l\n",
    "arti_new_nonsyn.head()"
   ]
  },
  {
   "cell_type": "code",
   "execution_count": 56,
   "metadata": {},
   "outputs": [],
   "source": [
    "arti_new_nonsyn.to_csv('arti_new_nonsyn')"
   ]
  },
  {
   "cell_type": "code",
   "execution_count": 17,
   "metadata": {},
   "outputs": [],
   "source": [
    "arti_new_syn=arti_data[arti_data.Effect=='SYNONYMOUS_CODING']\n",
    "arti_new_syn=arti_new_syn.loc[:,[\"Gene_ID\",\"Position\",\"Reference\",\"Variant\",\"Old_codon/New_codon\"]]\n",
    "arti_new_syn.columns=l\n",
    "arti_new_syn.reset_index(inplace=True)\n",
    "arti_new_syn.drop(\"index\",axis=1,inplace=True)\n",
    "pd.value_counts(arti_new_syn.Gene_ID)\n",
    "a=arti_new_syn[arti_new_syn.Gene_ID==\"STM4261\"]\n",
    "b=arti_new_syn[arti_new_syn.Reference==\"G\"]\n",
    "\n",
    "#arti_new_syn.to_csv('arti_new_syn')"
   ]
  },
  {
   "cell_type": "code",
   "execution_count": 70,
   "metadata": {},
   "outputs": [],
   "source": [
    "#arti_old_data=pd.read_csv(\"Cip_2B_SNP.csv\",encoding=\"utf-16\")\n",
    "#arti_old_data.info()\n",
    "#arti_old_nonsyn=arti_old_data[arti_old_data.Effect=='NON_SYNONYMOUS_CODING']\n",
    "#arti_old_syn=arti_old_data[arti_old_data.Effect=='SYNONYMOUS_CODING']\n",
    "#arti_old_nonsyn.reset_index(inplace=True)\n",
    "#arti_old_nonsyn.drop(\"index\",axis=1,inplace=True)\n",
    "arti_old_nonsyn=arti_old_nonsyn.loc[:,[\"Gene_ID\",\"Position\",\"Reference\",\"Variant\",\"Old_codon/New_codon\"]]\n",
    "arti_old_nonsyn.head()\n",
    "arti_old_nonsyn.to_csv('arti_old_nonsyn')"
   ]
  },
  {
   "cell_type": "code",
   "execution_count": 72,
   "metadata": {},
   "outputs": [],
   "source": [
    "arti_old_syn=arti_old_data[arti_old_data.Effect=='SYNONYMOUS_CODING']\n",
    "arti_old_syn=arti_old_syn.loc[:,[\"Gene_ID\",\"Position\",\"Reference\",\"Variant\",\"Old_codon/New_codon\"]]\n",
    "arti_old_syn.head()\n",
    "arti_old_syn.to_csv('arti_old_syn')"
   ]
  },
  {
   "cell_type": "code",
   "execution_count": 73,
   "metadata": {},
   "outputs": [
    {
     "data": {
      "text/html": [
       "<div>\n",
       "<style scoped>\n",
       "    .dataframe tbody tr th:only-of-type {\n",
       "        vertical-align: middle;\n",
       "    }\n",
       "\n",
       "    .dataframe tbody tr th {\n",
       "        vertical-align: top;\n",
       "    }\n",
       "\n",
       "    .dataframe thead th {\n",
       "        text-align: right;\n",
       "    }\n",
       "</style>\n",
       "<table border=\"1\" class=\"dataframe\">\n",
       "  <thead>\n",
       "    <tr style=\"text-align: right;\">\n",
       "      <th></th>\n",
       "      <th>Gene_ID</th>\n",
       "      <th>Position</th>\n",
       "      <th>Reference</th>\n",
       "      <th>Variant</th>\n",
       "      <th>Old_codon/New_codon</th>\n",
       "    </tr>\n",
       "  </thead>\n",
       "  <tbody>\n",
       "    <tr>\n",
       "      <td>0</td>\n",
       "      <td>thrA</td>\n",
       "      <td>507</td>\n",
       "      <td>C</td>\n",
       "      <td>T</td>\n",
       "      <td>ggC/ggT</td>\n",
       "    </tr>\n",
       "    <tr>\n",
       "      <td>1</td>\n",
       "      <td>thrA</td>\n",
       "      <td>537</td>\n",
       "      <td>A</td>\n",
       "      <td>C</td>\n",
       "      <td>gcA/gcC</td>\n",
       "    </tr>\n",
       "    <tr>\n",
       "      <td>2</td>\n",
       "      <td>thrA</td>\n",
       "      <td>744</td>\n",
       "      <td>A</td>\n",
       "      <td>C</td>\n",
       "      <td>ggA/ggC</td>\n",
       "    </tr>\n",
       "    <tr>\n",
       "      <td>3</td>\n",
       "      <td>thrA</td>\n",
       "      <td>747</td>\n",
       "      <td>T</td>\n",
       "      <td>C</td>\n",
       "      <td>ctT/ctC</td>\n",
       "    </tr>\n",
       "    <tr>\n",
       "      <td>4</td>\n",
       "      <td>thrA</td>\n",
       "      <td>762</td>\n",
       "      <td>G</td>\n",
       "      <td>A</td>\n",
       "      <td>ggG/ggA</td>\n",
       "    </tr>\n",
       "  </tbody>\n",
       "</table>\n",
       "</div>"
      ],
      "text/plain": [
       "  Gene_ID  Position Reference Variant Old_codon/New_codon\n",
       "0    thrA       507         C       T             ggC/ggT\n",
       "1    thrA       537         A       C             gcA/gcC\n",
       "2    thrA       744         A       C             ggA/ggC\n",
       "3    thrA       747         T       C             ctT/ctC\n",
       "4    thrA       762         G       A             ggG/ggA"
      ]
     },
     "execution_count": 73,
     "metadata": {},
     "output_type": "execute_result"
    }
   ],
   "source": [
    "arti_old_syn.head()"
   ]
  },
  {
   "cell_type": "code",
   "execution_count": 112,
   "metadata": {},
   "outputs": [],
   "source": [
    "#arti_new_syn.drop('index',axis=1,inplace=True)\n",
    "arti_new_syn_counts=pd.value_counts(arti_new_syn.Gene_ID)\n",
    "arti_new_syn_counts=pd.DataFrame(arti_new_syn_counts)\n",
    "arti_new_syn_counts.reset_index(inplace=True)\n",
    "\n",
    "arti_new_syn_counts.columns=[\"Gene_ID\",\"count\"]\n",
    "arti_new_syn_counts.head()\n",
    "arti_new_syn_counts.to_csv('new_syn_counts')"
   ]
  },
  {
   "cell_type": "code",
   "execution_count": null,
   "metadata": {},
   "outputs": [],
   "source": []
  }
 ],
 "metadata": {
  "kernelspec": {
   "display_name": "Python 3",
   "language": "python",
   "name": "python3"
  },
  "language_info": {
   "codemirror_mode": {
    "name": "ipython",
    "version": 3
   },
   "file_extension": ".py",
   "mimetype": "text/x-python",
   "name": "python",
   "nbconvert_exporter": "python",
   "pygments_lexer": "ipython3",
   "version": "3.7.4"
  }
 },
 "nbformat": 4,
 "nbformat_minor": 4
}
