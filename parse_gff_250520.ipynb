{
 "cells": [
  {
   "cell_type": "code",
   "execution_count": 5,
   "metadata": {},
   "outputs": [],
   "source": [
    "import pandas as pd\n",
    "import numpy as np"
   ]
  },
  {
   "cell_type": "code",
   "execution_count": 6,
   "metadata": {},
   "outputs": [],
   "source": [
    "gff=pd.read_table('s_enterica_genome.gff',sep='\\t',comment='#',header=None)             "
   ]
  },
  {
   "cell_type": "code",
   "execution_count": 3,
   "metadata": {},
   "outputs": [],
   "source": []
  },
  {
   "cell_type": "code",
   "execution_count": 7,
   "metadata": {},
   "outputs": [
    {
     "data": {
      "text/html": [
       "<div>\n",
       "<style scoped>\n",
       "    .dataframe tbody tr th:only-of-type {\n",
       "        vertical-align: middle;\n",
       "    }\n",
       "\n",
       "    .dataframe tbody tr th {\n",
       "        vertical-align: top;\n",
       "    }\n",
       "\n",
       "    .dataframe thead th {\n",
       "        text-align: right;\n",
       "    }\n",
       "</style>\n",
       "<table border=\"1\" class=\"dataframe\">\n",
       "  <thead>\n",
       "    <tr style=\"text-align: right;\">\n",
       "      <th></th>\n",
       "      <th>0</th>\n",
       "      <th>1</th>\n",
       "      <th>2</th>\n",
       "      <th>3</th>\n",
       "      <th>4</th>\n",
       "      <th>5</th>\n",
       "      <th>6</th>\n",
       "      <th>7</th>\n",
       "      <th>8</th>\n",
       "    </tr>\n",
       "  </thead>\n",
       "  <tbody>\n",
       "    <tr>\n",
       "      <td>0</td>\n",
       "      <td>NC_003197.2</td>\n",
       "      <td>RefSeq</td>\n",
       "      <td>region</td>\n",
       "      <td>1</td>\n",
       "      <td>4857450</td>\n",
       "      <td>.</td>\n",
       "      <td>+</td>\n",
       "      <td>.</td>\n",
       "      <td>ID=NC_003197.2:1..4857450;Dbxref=taxon:99287;I...</td>\n",
       "    </tr>\n",
       "    <tr>\n",
       "      <td>1</td>\n",
       "      <td>NC_003197.2</td>\n",
       "      <td>RefSeq</td>\n",
       "      <td>gene</td>\n",
       "      <td>190</td>\n",
       "      <td>255</td>\n",
       "      <td>.</td>\n",
       "      <td>+</td>\n",
       "      <td>.</td>\n",
       "      <td>ID=gene-STM0001;Dbxref=GeneID:1251519;Name=thr...</td>\n",
       "    </tr>\n",
       "  </tbody>\n",
       "</table>\n",
       "</div>"
      ],
      "text/plain": [
       "             0       1       2    3        4  5  6  7  \\\n",
       "0  NC_003197.2  RefSeq  region    1  4857450  .  +  .   \n",
       "1  NC_003197.2  RefSeq    gene  190      255  .  +  .   \n",
       "\n",
       "                                                   8  \n",
       "0  ID=NC_003197.2:1..4857450;Dbxref=taxon:99287;I...  \n",
       "1  ID=gene-STM0001;Dbxref=GeneID:1251519;Name=thr...  "
      ]
     },
     "execution_count": 7,
     "metadata": {},
     "output_type": "execute_result"
    }
   ],
   "source": [
    "pd.set_option('display.max_columns',None)\n",
    "gff.head(n=2)"
   ]
  },
  {
   "cell_type": "code",
   "execution_count": 8,
   "metadata": {},
   "outputs": [],
   "source": [
    "genes=gff[gff[2]==\"gene\"]"
   ]
  },
  {
   "cell_type": "code",
   "execution_count": 9,
   "metadata": {},
   "outputs": [],
   "source": [
    "ids=genes.iloc[:,8]"
   ]
  },
  {
   "cell_type": "code",
   "execution_count": 10,
   "metadata": {},
   "outputs": [],
   "source": [
    "def func1(item):    \n",
    "    spit=item.split(';')\n",
    "    return spit[2][5:]"
   ]
  },
  {
   "cell_type": "code",
   "execution_count": 11,
   "metadata": {},
   "outputs": [],
   "source": [
    "gene_lst=ids.map(func1)"
   ]
  },
  {
   "cell_type": "code",
   "execution_count": 12,
   "metadata": {},
   "outputs": [],
   "source": [
    "genes=gff[gff[2]==\"gene\"]"
   ]
  },
  {
   "cell_type": "code",
   "execution_count": 13,
   "metadata": {},
   "outputs": [],
   "source": [
    "def func2(n):    \n",
    "    split_n=n.split(';')\n",
    "    return split_n[0][8:]"
   ]
  },
  {
   "cell_type": "code",
   "execution_count": 14,
   "metadata": {},
   "outputs": [],
   "source": [
    "ids=genes.iloc[:,8]"
   ]
  },
  {
   "cell_type": "code",
   "execution_count": 15,
   "metadata": {},
   "outputs": [],
   "source": [
    "id_lst=ids.map(func2)"
   ]
  },
  {
   "cell_type": "code",
   "execution_count": 16,
   "metadata": {},
   "outputs": [
    {
     "data": {
      "text/plain": [
       "1        STM0001\n",
       "3        STM0002\n",
       "6        STM0003\n",
       "10       STM0004\n",
       "12       STM0005\n",
       "          ...   \n",
       "14368    PSLT107\n",
       "14370    PSLT108\n",
       "14372    PSLT109\n",
       "14373    PSLT110\n",
       "14375    PSLT111\n",
       "Name: 8, Length: 4673, dtype: object"
      ]
     },
     "execution_count": 16,
     "metadata": {},
     "output_type": "execute_result"
    }
   ],
   "source": [
    "id_lst    "
   ]
  },
  {
   "cell_type": "code",
   "execution_count": 17,
   "metadata": {},
   "outputs": [],
   "source": [
    "df=genes.drop([1,5,6,7],axis=1)"
   ]
  },
  {
   "cell_type": "code",
   "execution_count": 78,
   "metadata": {},
   "outputs": [
    {
     "data": {
      "text/html": [
       "<div>\n",
       "<style scoped>\n",
       "    .dataframe tbody tr th:only-of-type {\n",
       "        vertical-align: middle;\n",
       "    }\n",
       "\n",
       "    .dataframe tbody tr th {\n",
       "        vertical-align: top;\n",
       "    }\n",
       "\n",
       "    .dataframe thead th {\n",
       "        text-align: right;\n",
       "    }\n",
       "</style>\n",
       "<table border=\"1\" class=\"dataframe\">\n",
       "  <thead>\n",
       "    <tr style=\"text-align: right;\">\n",
       "      <th></th>\n",
       "      <th>0</th>\n",
       "      <th>2</th>\n",
       "      <th>3</th>\n",
       "      <th>4</th>\n",
       "      <th>8</th>\n",
       "    </tr>\n",
       "  </thead>\n",
       "  <tbody>\n",
       "    <tr>\n",
       "      <td>1</td>\n",
       "      <td>NC_003197.2</td>\n",
       "      <td>gene</td>\n",
       "      <td>190</td>\n",
       "      <td>255</td>\n",
       "      <td>ID=gene-STM0001;Dbxref=GeneID:1251519;Name=thr...</td>\n",
       "    </tr>\n",
       "    <tr>\n",
       "      <td>3</td>\n",
       "      <td>NC_003197.2</td>\n",
       "      <td>gene</td>\n",
       "      <td>325</td>\n",
       "      <td>2799</td>\n",
       "      <td>ID=gene-STM0002;Dbxref=GeneID:1251520;Name=thr...</td>\n",
       "    </tr>\n",
       "    <tr>\n",
       "      <td>6</td>\n",
       "      <td>NC_003197.2</td>\n",
       "      <td>gene</td>\n",
       "      <td>2789</td>\n",
       "      <td>3730</td>\n",
       "      <td>ID=gene-STM0003;Dbxref=GeneID:1251521;Name=thr...</td>\n",
       "    </tr>\n",
       "    <tr>\n",
       "      <td>10</td>\n",
       "      <td>NC_003197.2</td>\n",
       "      <td>gene</td>\n",
       "      <td>3722</td>\n",
       "      <td>5020</td>\n",
       "      <td>ID=gene-STM0004;Dbxref=GeneID:1251522;Name=thr...</td>\n",
       "    </tr>\n",
       "    <tr>\n",
       "      <td>12</td>\n",
       "      <td>NC_003197.2</td>\n",
       "      <td>gene</td>\n",
       "      <td>5114</td>\n",
       "      <td>5898</td>\n",
       "      <td>ID=gene-STM0005;Dbxref=GeneID:1251523;Name=yaa...</td>\n",
       "    </tr>\n",
       "  </tbody>\n",
       "</table>\n",
       "</div>"
      ],
      "text/plain": [
       "              0     2     3     4  \\\n",
       "1   NC_003197.2  gene   190   255   \n",
       "3   NC_003197.2  gene   325  2799   \n",
       "6   NC_003197.2  gene  2789  3730   \n",
       "10  NC_003197.2  gene  3722  5020   \n",
       "12  NC_003197.2  gene  5114  5898   \n",
       "\n",
       "                                                    8  \n",
       "1   ID=gene-STM0001;Dbxref=GeneID:1251519;Name=thr...  \n",
       "3   ID=gene-STM0002;Dbxref=GeneID:1251520;Name=thr...  \n",
       "6   ID=gene-STM0003;Dbxref=GeneID:1251521;Name=thr...  \n",
       "10  ID=gene-STM0004;Dbxref=GeneID:1251522;Name=thr...  \n",
       "12  ID=gene-STM0005;Dbxref=GeneID:1251523;Name=yaa...  "
      ]
     },
     "execution_count": 78,
     "metadata": {},
     "output_type": "execute_result"
    }
   ],
   "source": [
    "pd.set_option('display.max_columns',None)\n",
    "df.head()"
   ]
  },
  {
   "cell_type": "code",
   "execution_count": 80,
   "metadata": {},
   "outputs": [
    {
     "data": {
      "text/plain": [
       "array(['NC_003197.2', 'NC_003277.2'], dtype=object)"
      ]
     },
     "execution_count": 80,
     "metadata": {},
     "output_type": "execute_result"
    }
   ],
   "source": [
    "df[0].unique()"
   ]
  },
  {
   "cell_type": "code",
   "execution_count": 18,
   "metadata": {},
   "outputs": [],
   "source": [
    "df[0]=np.where(df[0]==\"NC_003197.2\",\"chr1\",df[0])"
   ]
  },
  {
   "cell_type": "code",
   "execution_count": 85,
   "metadata": {},
   "outputs": [
    {
     "data": {
      "text/html": [
       "<div>\n",
       "<style scoped>\n",
       "    .dataframe tbody tr th:only-of-type {\n",
       "        vertical-align: middle;\n",
       "    }\n",
       "\n",
       "    .dataframe tbody tr th {\n",
       "        vertical-align: top;\n",
       "    }\n",
       "\n",
       "    .dataframe thead th {\n",
       "        text-align: right;\n",
       "    }\n",
       "</style>\n",
       "<table border=\"1\" class=\"dataframe\">\n",
       "  <thead>\n",
       "    <tr style=\"text-align: right;\">\n",
       "      <th></th>\n",
       "      <th>0</th>\n",
       "      <th>2</th>\n",
       "      <th>3</th>\n",
       "      <th>4</th>\n",
       "      <th>8</th>\n",
       "    </tr>\n",
       "  </thead>\n",
       "  <tbody>\n",
       "    <tr>\n",
       "      <td>1</td>\n",
       "      <td>chr1</td>\n",
       "      <td>gene</td>\n",
       "      <td>190</td>\n",
       "      <td>255</td>\n",
       "      <td>ID=gene-STM0001;Dbxref=GeneID:1251519;Name=thr...</td>\n",
       "    </tr>\n",
       "    <tr>\n",
       "      <td>3</td>\n",
       "      <td>chr1</td>\n",
       "      <td>gene</td>\n",
       "      <td>325</td>\n",
       "      <td>2799</td>\n",
       "      <td>ID=gene-STM0002;Dbxref=GeneID:1251520;Name=thr...</td>\n",
       "    </tr>\n",
       "    <tr>\n",
       "      <td>6</td>\n",
       "      <td>chr1</td>\n",
       "      <td>gene</td>\n",
       "      <td>2789</td>\n",
       "      <td>3730</td>\n",
       "      <td>ID=gene-STM0003;Dbxref=GeneID:1251521;Name=thr...</td>\n",
       "    </tr>\n",
       "    <tr>\n",
       "      <td>10</td>\n",
       "      <td>chr1</td>\n",
       "      <td>gene</td>\n",
       "      <td>3722</td>\n",
       "      <td>5020</td>\n",
       "      <td>ID=gene-STM0004;Dbxref=GeneID:1251522;Name=thr...</td>\n",
       "    </tr>\n",
       "    <tr>\n",
       "      <td>12</td>\n",
       "      <td>chr1</td>\n",
       "      <td>gene</td>\n",
       "      <td>5114</td>\n",
       "      <td>5898</td>\n",
       "      <td>ID=gene-STM0005;Dbxref=GeneID:1251523;Name=yaa...</td>\n",
       "    </tr>\n",
       "  </tbody>\n",
       "</table>\n",
       "</div>"
      ],
      "text/plain": [
       "       0     2     3     4                                                  8\n",
       "1   chr1  gene   190   255  ID=gene-STM0001;Dbxref=GeneID:1251519;Name=thr...\n",
       "3   chr1  gene   325  2799  ID=gene-STM0002;Dbxref=GeneID:1251520;Name=thr...\n",
       "6   chr1  gene  2789  3730  ID=gene-STM0003;Dbxref=GeneID:1251521;Name=thr...\n",
       "10  chr1  gene  3722  5020  ID=gene-STM0004;Dbxref=GeneID:1251522;Name=thr...\n",
       "12  chr1  gene  5114  5898  ID=gene-STM0005;Dbxref=GeneID:1251523;Name=yaa..."
      ]
     },
     "execution_count": 85,
     "metadata": {},
     "output_type": "execute_result"
    }
   ],
   "source": [
    "df.head()"
   ]
  },
  {
   "cell_type": "code",
   "execution_count": 19,
   "metadata": {},
   "outputs": [],
   "source": [
    "df[0]=np.where(df[0]==\"NC_003277.2\",\"chr2\",df[0])"
   ]
  },
  {
   "cell_type": "code",
   "execution_count": 87,
   "metadata": {},
   "outputs": [
    {
     "data": {
      "text/plain": [
       "array(['chr1', 'chr2'], dtype=object)"
      ]
     },
     "execution_count": 87,
     "metadata": {},
     "output_type": "execute_result"
    }
   ],
   "source": [
    "df[0].unique()"
   ]
  },
  {
   "cell_type": "code",
   "execution_count": 20,
   "metadata": {},
   "outputs": [
    {
     "data": {
      "text/html": [
       "<div>\n",
       "<style scoped>\n",
       "    .dataframe tbody tr th:only-of-type {\n",
       "        vertical-align: middle;\n",
       "    }\n",
       "\n",
       "    .dataframe tbody tr th {\n",
       "        vertical-align: top;\n",
       "    }\n",
       "\n",
       "    .dataframe thead th {\n",
       "        text-align: right;\n",
       "    }\n",
       "</style>\n",
       "<table border=\"1\" class=\"dataframe\">\n",
       "  <thead>\n",
       "    <tr style=\"text-align: right;\">\n",
       "      <th></th>\n",
       "      <th>0</th>\n",
       "      <th>3</th>\n",
       "      <th>4</th>\n",
       "      <th>8</th>\n",
       "    </tr>\n",
       "  </thead>\n",
       "  <tbody>\n",
       "    <tr>\n",
       "      <td>1</td>\n",
       "      <td>chr1</td>\n",
       "      <td>190</td>\n",
       "      <td>255</td>\n",
       "      <td>ID=gene-STM0001;Dbxref=GeneID:1251519;Name=thr...</td>\n",
       "    </tr>\n",
       "    <tr>\n",
       "      <td>3</td>\n",
       "      <td>chr1</td>\n",
       "      <td>325</td>\n",
       "      <td>2799</td>\n",
       "      <td>ID=gene-STM0002;Dbxref=GeneID:1251520;Name=thr...</td>\n",
       "    </tr>\n",
       "    <tr>\n",
       "      <td>6</td>\n",
       "      <td>chr1</td>\n",
       "      <td>2789</td>\n",
       "      <td>3730</td>\n",
       "      <td>ID=gene-STM0003;Dbxref=GeneID:1251521;Name=thr...</td>\n",
       "    </tr>\n",
       "    <tr>\n",
       "      <td>10</td>\n",
       "      <td>chr1</td>\n",
       "      <td>3722</td>\n",
       "      <td>5020</td>\n",
       "      <td>ID=gene-STM0004;Dbxref=GeneID:1251522;Name=thr...</td>\n",
       "    </tr>\n",
       "    <tr>\n",
       "      <td>12</td>\n",
       "      <td>chr1</td>\n",
       "      <td>5114</td>\n",
       "      <td>5898</td>\n",
       "      <td>ID=gene-STM0005;Dbxref=GeneID:1251523;Name=yaa...</td>\n",
       "    </tr>\n",
       "  </tbody>\n",
       "</table>\n",
       "</div>"
      ],
      "text/plain": [
       "       0     3     4                                                  8\n",
       "1   chr1   190   255  ID=gene-STM0001;Dbxref=GeneID:1251519;Name=thr...\n",
       "3   chr1   325  2799  ID=gene-STM0002;Dbxref=GeneID:1251520;Name=thr...\n",
       "6   chr1  2789  3730  ID=gene-STM0003;Dbxref=GeneID:1251521;Name=thr...\n",
       "10  chr1  3722  5020  ID=gene-STM0004;Dbxref=GeneID:1251522;Name=thr...\n",
       "12  chr1  5114  5898  ID=gene-STM0005;Dbxref=GeneID:1251523;Name=yaa..."
      ]
     },
     "execution_count": 20,
     "metadata": {},
     "output_type": "execute_result"
    }
   ],
   "source": [
    "df=df.drop([2],axis=1)\n",
    "df.head()"
   ]
  },
  {
   "cell_type": "code",
   "execution_count": 89,
   "metadata": {},
   "outputs": [
    {
     "data": {
      "text/plain": [
       "1     STM0001\n",
       "3     STM0002\n",
       "6     STM0003\n",
       "10    STM0004\n",
       "12    STM0005\n",
       "Name: 8, dtype: object"
      ]
     },
     "execution_count": 89,
     "metadata": {},
     "output_type": "execute_result"
    }
   ],
   "source": [
    "id_lst.head()"
   ]
  },
  {
   "cell_type": "code",
   "execution_count": 98,
   "metadata": {},
   "outputs": [
    {
     "data": {
      "text/plain": [
       "1     thrL\n",
       "3     thrA\n",
       "6     thrB\n",
       "10    thrC\n",
       "12    yaaA\n",
       "Name: 8, dtype: object"
      ]
     },
     "execution_count": 98,
     "metadata": {},
     "output_type": "execute_result"
    }
   ],
   "source": [
    "gene_lst.head()"
   ]
  },
  {
   "cell_type": "code",
   "execution_count": 21,
   "metadata": {},
   "outputs": [],
   "source": [
    "ndf=pd.merge(df,id_lst,left_index=True,right_index=True,validate=\"1:1\")"
   ]
  },
  {
   "cell_type": "code",
   "execution_count": 22,
   "metadata": {},
   "outputs": [],
   "source": [
    "final_df=pd.merge(ndf,gene_lst,left_index=True,right_index=True,validate=\"1:1\")"
   ]
  },
  {
   "cell_type": "code",
   "execution_count": 23,
   "metadata": {},
   "outputs": [
    {
     "data": {
      "text/html": [
       "<div>\n",
       "<style scoped>\n",
       "    .dataframe tbody tr th:only-of-type {\n",
       "        vertical-align: middle;\n",
       "    }\n",
       "\n",
       "    .dataframe tbody tr th {\n",
       "        vertical-align: top;\n",
       "    }\n",
       "\n",
       "    .dataframe thead th {\n",
       "        text-align: right;\n",
       "    }\n",
       "</style>\n",
       "<table border=\"1\" class=\"dataframe\">\n",
       "  <thead>\n",
       "    <tr style=\"text-align: right;\">\n",
       "      <th></th>\n",
       "      <th>0</th>\n",
       "      <th>3</th>\n",
       "      <th>4</th>\n",
       "      <th>8_x</th>\n",
       "      <th>8_y</th>\n",
       "      <th>8</th>\n",
       "    </tr>\n",
       "  </thead>\n",
       "  <tbody>\n",
       "    <tr>\n",
       "      <td>1</td>\n",
       "      <td>chr1</td>\n",
       "      <td>190</td>\n",
       "      <td>255</td>\n",
       "      <td>ID=gene-STM0001;Dbxref=GeneID:1251519;Name=thr...</td>\n",
       "      <td>STM0001</td>\n",
       "      <td>thrL</td>\n",
       "    </tr>\n",
       "    <tr>\n",
       "      <td>3</td>\n",
       "      <td>chr1</td>\n",
       "      <td>325</td>\n",
       "      <td>2799</td>\n",
       "      <td>ID=gene-STM0002;Dbxref=GeneID:1251520;Name=thr...</td>\n",
       "      <td>STM0002</td>\n",
       "      <td>thrA</td>\n",
       "    </tr>\n",
       "    <tr>\n",
       "      <td>6</td>\n",
       "      <td>chr1</td>\n",
       "      <td>2789</td>\n",
       "      <td>3730</td>\n",
       "      <td>ID=gene-STM0003;Dbxref=GeneID:1251521;Name=thr...</td>\n",
       "      <td>STM0003</td>\n",
       "      <td>thrB</td>\n",
       "    </tr>\n",
       "    <tr>\n",
       "      <td>10</td>\n",
       "      <td>chr1</td>\n",
       "      <td>3722</td>\n",
       "      <td>5020</td>\n",
       "      <td>ID=gene-STM0004;Dbxref=GeneID:1251522;Name=thr...</td>\n",
       "      <td>STM0004</td>\n",
       "      <td>thrC</td>\n",
       "    </tr>\n",
       "    <tr>\n",
       "      <td>12</td>\n",
       "      <td>chr1</td>\n",
       "      <td>5114</td>\n",
       "      <td>5898</td>\n",
       "      <td>ID=gene-STM0005;Dbxref=GeneID:1251523;Name=yaa...</td>\n",
       "      <td>STM0005</td>\n",
       "      <td>yaaA</td>\n",
       "    </tr>\n",
       "  </tbody>\n",
       "</table>\n",
       "</div>"
      ],
      "text/plain": [
       "       0     3     4                                                8_x  \\\n",
       "1   chr1   190   255  ID=gene-STM0001;Dbxref=GeneID:1251519;Name=thr...   \n",
       "3   chr1   325  2799  ID=gene-STM0002;Dbxref=GeneID:1251520;Name=thr...   \n",
       "6   chr1  2789  3730  ID=gene-STM0003;Dbxref=GeneID:1251521;Name=thr...   \n",
       "10  chr1  3722  5020  ID=gene-STM0004;Dbxref=GeneID:1251522;Name=thr...   \n",
       "12  chr1  5114  5898  ID=gene-STM0005;Dbxref=GeneID:1251523;Name=yaa...   \n",
       "\n",
       "        8_y     8  \n",
       "1   STM0001  thrL  \n",
       "3   STM0002  thrA  \n",
       "6   STM0003  thrB  \n",
       "10  STM0004  thrC  \n",
       "12  STM0005  yaaA  "
      ]
     },
     "execution_count": 23,
     "metadata": {},
     "output_type": "execute_result"
    }
   ],
   "source": [
    "final_df.head()"
   ]
  },
  {
   "cell_type": "code",
   "execution_count": 24,
   "metadata": {},
   "outputs": [
    {
     "data": {
      "text/html": [
       "<div>\n",
       "<style scoped>\n",
       "    .dataframe tbody tr th:only-of-type {\n",
       "        vertical-align: middle;\n",
       "    }\n",
       "\n",
       "    .dataframe tbody tr th {\n",
       "        vertical-align: top;\n",
       "    }\n",
       "\n",
       "    .dataframe thead th {\n",
       "        text-align: right;\n",
       "    }\n",
       "</style>\n",
       "<table border=\"1\" class=\"dataframe\">\n",
       "  <thead>\n",
       "    <tr style=\"text-align: right;\">\n",
       "      <th></th>\n",
       "      <th>0</th>\n",
       "      <th>3</th>\n",
       "      <th>4</th>\n",
       "      <th>8_y</th>\n",
       "      <th>8</th>\n",
       "    </tr>\n",
       "  </thead>\n",
       "  <tbody>\n",
       "    <tr>\n",
       "      <td>1</td>\n",
       "      <td>chr1</td>\n",
       "      <td>190</td>\n",
       "      <td>255</td>\n",
       "      <td>STM0001</td>\n",
       "      <td>thrL</td>\n",
       "    </tr>\n",
       "    <tr>\n",
       "      <td>3</td>\n",
       "      <td>chr1</td>\n",
       "      <td>325</td>\n",
       "      <td>2799</td>\n",
       "      <td>STM0002</td>\n",
       "      <td>thrA</td>\n",
       "    </tr>\n",
       "    <tr>\n",
       "      <td>6</td>\n",
       "      <td>chr1</td>\n",
       "      <td>2789</td>\n",
       "      <td>3730</td>\n",
       "      <td>STM0003</td>\n",
       "      <td>thrB</td>\n",
       "    </tr>\n",
       "    <tr>\n",
       "      <td>10</td>\n",
       "      <td>chr1</td>\n",
       "      <td>3722</td>\n",
       "      <td>5020</td>\n",
       "      <td>STM0004</td>\n",
       "      <td>thrC</td>\n",
       "    </tr>\n",
       "    <tr>\n",
       "      <td>12</td>\n",
       "      <td>chr1</td>\n",
       "      <td>5114</td>\n",
       "      <td>5898</td>\n",
       "      <td>STM0005</td>\n",
       "      <td>yaaA</td>\n",
       "    </tr>\n",
       "  </tbody>\n",
       "</table>\n",
       "</div>"
      ],
      "text/plain": [
       "       0     3     4      8_y     8\n",
       "1   chr1   190   255  STM0001  thrL\n",
       "3   chr1   325  2799  STM0002  thrA\n",
       "6   chr1  2789  3730  STM0003  thrB\n",
       "10  chr1  3722  5020  STM0004  thrC\n",
       "12  chr1  5114  5898  STM0005  yaaA"
      ]
     },
     "execution_count": 24,
     "metadata": {},
     "output_type": "execute_result"
    }
   ],
   "source": [
    "final_df.drop(['8_x'],axis=1,inplace=True)\n",
    "final_df.head()"
   ]
  },
  {
   "cell_type": "code",
   "execution_count": 25,
   "metadata": {},
   "outputs": [
    {
     "data": {
      "text/html": [
       "<div>\n",
       "<style scoped>\n",
       "    .dataframe tbody tr th:only-of-type {\n",
       "        vertical-align: middle;\n",
       "    }\n",
       "\n",
       "    .dataframe tbody tr th {\n",
       "        vertical-align: top;\n",
       "    }\n",
       "\n",
       "    .dataframe thead th {\n",
       "        text-align: right;\n",
       "    }\n",
       "</style>\n",
       "<table border=\"1\" class=\"dataframe\">\n",
       "  <thead>\n",
       "    <tr style=\"text-align: right;\">\n",
       "      <th></th>\n",
       "      <th>chrm</th>\n",
       "      <th>start</th>\n",
       "      <th>end</th>\n",
       "      <th>id</th>\n",
       "      <th>gene</th>\n",
       "    </tr>\n",
       "  </thead>\n",
       "  <tbody>\n",
       "    <tr>\n",
       "      <td>1</td>\n",
       "      <td>chr1</td>\n",
       "      <td>190</td>\n",
       "      <td>255</td>\n",
       "      <td>STM0001</td>\n",
       "      <td>thrL</td>\n",
       "    </tr>\n",
       "    <tr>\n",
       "      <td>3</td>\n",
       "      <td>chr1</td>\n",
       "      <td>325</td>\n",
       "      <td>2799</td>\n",
       "      <td>STM0002</td>\n",
       "      <td>thrA</td>\n",
       "    </tr>\n",
       "    <tr>\n",
       "      <td>6</td>\n",
       "      <td>chr1</td>\n",
       "      <td>2789</td>\n",
       "      <td>3730</td>\n",
       "      <td>STM0003</td>\n",
       "      <td>thrB</td>\n",
       "    </tr>\n",
       "    <tr>\n",
       "      <td>10</td>\n",
       "      <td>chr1</td>\n",
       "      <td>3722</td>\n",
       "      <td>5020</td>\n",
       "      <td>STM0004</td>\n",
       "      <td>thrC</td>\n",
       "    </tr>\n",
       "    <tr>\n",
       "      <td>12</td>\n",
       "      <td>chr1</td>\n",
       "      <td>5114</td>\n",
       "      <td>5898</td>\n",
       "      <td>STM0005</td>\n",
       "      <td>yaaA</td>\n",
       "    </tr>\n",
       "  </tbody>\n",
       "</table>\n",
       "</div>"
      ],
      "text/plain": [
       "    chrm  start   end       id  gene\n",
       "1   chr1    190   255  STM0001  thrL\n",
       "3   chr1    325  2799  STM0002  thrA\n",
       "6   chr1   2789  3730  STM0003  thrB\n",
       "10  chr1   3722  5020  STM0004  thrC\n",
       "12  chr1   5114  5898  STM0005  yaaA"
      ]
     },
     "execution_count": 25,
     "metadata": {},
     "output_type": "execute_result"
    }
   ],
   "source": [
    "final_df.columns=['chrm','start','end','id','gene' ]\n",
    "final_df.head()"
   ]
  },
  {
   "cell_type": "code",
   "execution_count": 26,
   "metadata": {},
   "outputs": [
    {
     "data": {
      "text/html": [
       "<div>\n",
       "<style scoped>\n",
       "    .dataframe tbody tr th:only-of-type {\n",
       "        vertical-align: middle;\n",
       "    }\n",
       "\n",
       "    .dataframe tbody tr th {\n",
       "        vertical-align: top;\n",
       "    }\n",
       "\n",
       "    .dataframe thead th {\n",
       "        text-align: right;\n",
       "    }\n",
       "</style>\n",
       "<table border=\"1\" class=\"dataframe\">\n",
       "  <thead>\n",
       "    <tr style=\"text-align: right;\">\n",
       "      <th></th>\n",
       "      <th>gene</th>\n",
       "      <th>start</th>\n",
       "      <th>end</th>\n",
       "    </tr>\n",
       "  </thead>\n",
       "  <tbody>\n",
       "    <tr>\n",
       "      <td>1</td>\n",
       "      <td>thrL</td>\n",
       "      <td>190</td>\n",
       "      <td>255</td>\n",
       "    </tr>\n",
       "    <tr>\n",
       "      <td>3</td>\n",
       "      <td>thrA</td>\n",
       "      <td>325</td>\n",
       "      <td>2799</td>\n",
       "    </tr>\n",
       "    <tr>\n",
       "      <td>6</td>\n",
       "      <td>thrB</td>\n",
       "      <td>2789</td>\n",
       "      <td>3730</td>\n",
       "    </tr>\n",
       "    <tr>\n",
       "      <td>10</td>\n",
       "      <td>thrC</td>\n",
       "      <td>3722</td>\n",
       "      <td>5020</td>\n",
       "    </tr>\n",
       "    <tr>\n",
       "      <td>12</td>\n",
       "      <td>yaaA</td>\n",
       "      <td>5114</td>\n",
       "      <td>5898</td>\n",
       "    </tr>\n",
       "  </tbody>\n",
       "</table>\n",
       "</div>"
      ],
      "text/plain": [
       "    gene  start   end\n",
       "1   thrL    190   255\n",
       "3   thrA    325  2799\n",
       "6   thrB   2789  3730\n",
       "10  thrC   3722  5020\n",
       "12  yaaA   5114  5898"
      ]
     },
     "execution_count": 26,
     "metadata": {},
     "output_type": "execute_result"
    }
   ],
   "source": [
    "crs_mtx=final_df[[\"gene\",\"start\",\"end\"]]\n",
    "crs_mtx.head()"
   ]
  },
  {
   "cell_type": "code",
   "execution_count": 29,
   "metadata": {},
   "outputs": [],
   "source": [
    "crs_mtx.to_csv(\"crs_mtx_salmonella.csv\")\n"
   ]
  },
  {
   "cell_type": "code",
   "execution_count": null,
   "metadata": {},
   "outputs": [],
   "source": []
  }
 ],
 "metadata": {
  "kernelspec": {
   "display_name": "Python 3",
   "language": "python",
   "name": "python3"
  },
  "language_info": {
   "codemirror_mode": {
    "name": "ipython",
    "version": 3
   },
   "file_extension": ".py",
   "mimetype": "text/x-python",
   "name": "python",
   "nbconvert_exporter": "python",
   "pygments_lexer": "ipython3",
   "version": "3.7.6"
  }
 },
 "nbformat": 4,
 "nbformat_minor": 4
}
