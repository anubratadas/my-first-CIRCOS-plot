{
 "cells": [
  {
   "cell_type": "code",
   "execution_count": 1,
   "metadata": {},
   "outputs": [],
   "source": [
    "import pandas as pd\n",
    "import numpy as np"
   ]
  },
  {
   "cell_type": "code",
   "execution_count": 2,
   "metadata": {},
   "outputs": [],
   "source": [
    "# genome index file was obtained from 'https://www.ncbi.nlm.nih.gov/genome/152?genome_assembly_id=364693'\n",
    "gff=pd.read_table('s_enterica_genome.gff',sep='\\t',comment='#',header=None)  # comment '#' means ignore lines beginning with these           "
   ]
  },
  {
   "cell_type": "code",
   "execution_count": 3,
   "metadata": {},
   "outputs": [
    {
     "data": {
      "text/html": [
       "<div>\n",
       "<style scoped>\n",
       "    .dataframe tbody tr th:only-of-type {\n",
       "        vertical-align: middle;\n",
       "    }\n",
       "\n",
       "    .dataframe tbody tr th {\n",
       "        vertical-align: top;\n",
       "    }\n",
       "\n",
       "    .dataframe thead th {\n",
       "        text-align: right;\n",
       "    }\n",
       "</style>\n",
       "<table border=\"1\" class=\"dataframe\">\n",
       "  <thead>\n",
       "    <tr style=\"text-align: right;\">\n",
       "      <th></th>\n",
       "      <th>0</th>\n",
       "      <th>1</th>\n",
       "      <th>2</th>\n",
       "      <th>3</th>\n",
       "      <th>4</th>\n",
       "      <th>5</th>\n",
       "      <th>6</th>\n",
       "      <th>7</th>\n",
       "      <th>8</th>\n",
       "    </tr>\n",
       "  </thead>\n",
       "  <tbody>\n",
       "    <tr>\n",
       "      <th>0</th>\n",
       "      <td>NC_003197.2</td>\n",
       "      <td>RefSeq</td>\n",
       "      <td>region</td>\n",
       "      <td>1</td>\n",
       "      <td>4857450</td>\n",
       "      <td>.</td>\n",
       "      <td>+</td>\n",
       "      <td>.</td>\n",
       "      <td>ID=NC_003197.2:1..4857450;Dbxref=taxon:99287;I...</td>\n",
       "    </tr>\n",
       "    <tr>\n",
       "      <th>1</th>\n",
       "      <td>NC_003197.2</td>\n",
       "      <td>RefSeq</td>\n",
       "      <td>gene</td>\n",
       "      <td>190</td>\n",
       "      <td>255</td>\n",
       "      <td>.</td>\n",
       "      <td>+</td>\n",
       "      <td>.</td>\n",
       "      <td>ID=gene-STM0001;Dbxref=GeneID:1251519;Name=thr...</td>\n",
       "    </tr>\n",
       "  </tbody>\n",
       "</table>\n",
       "</div>"
      ],
      "text/plain": [
       "             0       1       2    3        4  5  6  7  \\\n",
       "0  NC_003197.2  RefSeq  region    1  4857450  .  +  .   \n",
       "1  NC_003197.2  RefSeq    gene  190      255  .  +  .   \n",
       "\n",
       "                                                   8  \n",
       "0  ID=NC_003197.2:1..4857450;Dbxref=taxon:99287;I...  \n",
       "1  ID=gene-STM0001;Dbxref=GeneID:1251519;Name=thr...  "
      ]
     },
     "execution_count": 3,
     "metadata": {},
     "output_type": "execute_result"
    }
   ],
   "source": [
    "pd.set_option('display.max_columns',None)\n",
    "gff.head(n=2)"
   ]
  },
  {
   "cell_type": "code",
   "execution_count": 4,
   "metadata": {},
   "outputs": [],
   "source": [
    "genes=gff[gff[2]==\"gene\"] # select entries annotated as genes"
   ]
  },
  {
   "cell_type": "code",
   "execution_count": 5,
   "metadata": {},
   "outputs": [
    {
     "data": {
      "text/html": [
       "<div>\n",
       "<style scoped>\n",
       "    .dataframe tbody tr th:only-of-type {\n",
       "        vertical-align: middle;\n",
       "    }\n",
       "\n",
       "    .dataframe tbody tr th {\n",
       "        vertical-align: top;\n",
       "    }\n",
       "\n",
       "    .dataframe thead th {\n",
       "        text-align: right;\n",
       "    }\n",
       "</style>\n",
       "<table border=\"1\" class=\"dataframe\">\n",
       "  <thead>\n",
       "    <tr style=\"text-align: right;\">\n",
       "      <th></th>\n",
       "      <th>0</th>\n",
       "      <th>1</th>\n",
       "      <th>2</th>\n",
       "      <th>3</th>\n",
       "      <th>4</th>\n",
       "      <th>5</th>\n",
       "      <th>6</th>\n",
       "      <th>7</th>\n",
       "      <th>8</th>\n",
       "    </tr>\n",
       "  </thead>\n",
       "  <tbody>\n",
       "    <tr>\n",
       "      <th>1</th>\n",
       "      <td>NC_003197.2</td>\n",
       "      <td>RefSeq</td>\n",
       "      <td>gene</td>\n",
       "      <td>190</td>\n",
       "      <td>255</td>\n",
       "      <td>.</td>\n",
       "      <td>+</td>\n",
       "      <td>.</td>\n",
       "      <td>ID=gene-STM0001;Dbxref=GeneID:1251519;Name=thr...</td>\n",
       "    </tr>\n",
       "    <tr>\n",
       "      <th>3</th>\n",
       "      <td>NC_003197.2</td>\n",
       "      <td>RefSeq</td>\n",
       "      <td>gene</td>\n",
       "      <td>325</td>\n",
       "      <td>2799</td>\n",
       "      <td>.</td>\n",
       "      <td>+</td>\n",
       "      <td>.</td>\n",
       "      <td>ID=gene-STM0002;Dbxref=GeneID:1251520;Name=thr...</td>\n",
       "    </tr>\n",
       "    <tr>\n",
       "      <th>6</th>\n",
       "      <td>NC_003197.2</td>\n",
       "      <td>RefSeq</td>\n",
       "      <td>gene</td>\n",
       "      <td>2789</td>\n",
       "      <td>3730</td>\n",
       "      <td>.</td>\n",
       "      <td>+</td>\n",
       "      <td>.</td>\n",
       "      <td>ID=gene-STM0003;Dbxref=GeneID:1251521;Name=thr...</td>\n",
       "    </tr>\n",
       "    <tr>\n",
       "      <th>10</th>\n",
       "      <td>NC_003197.2</td>\n",
       "      <td>RefSeq</td>\n",
       "      <td>gene</td>\n",
       "      <td>3722</td>\n",
       "      <td>5020</td>\n",
       "      <td>.</td>\n",
       "      <td>+</td>\n",
       "      <td>.</td>\n",
       "      <td>ID=gene-STM0004;Dbxref=GeneID:1251522;Name=thr...</td>\n",
       "    </tr>\n",
       "    <tr>\n",
       "      <th>12</th>\n",
       "      <td>NC_003197.2</td>\n",
       "      <td>RefSeq</td>\n",
       "      <td>gene</td>\n",
       "      <td>5114</td>\n",
       "      <td>5898</td>\n",
       "      <td>.</td>\n",
       "      <td>-</td>\n",
       "      <td>.</td>\n",
       "      <td>ID=gene-STM0005;Dbxref=GeneID:1251523;Name=yaa...</td>\n",
       "    </tr>\n",
       "  </tbody>\n",
       "</table>\n",
       "</div>"
      ],
      "text/plain": [
       "              0       1     2     3     4  5  6  7  \\\n",
       "1   NC_003197.2  RefSeq  gene   190   255  .  +  .   \n",
       "3   NC_003197.2  RefSeq  gene   325  2799  .  +  .   \n",
       "6   NC_003197.2  RefSeq  gene  2789  3730  .  +  .   \n",
       "10  NC_003197.2  RefSeq  gene  3722  5020  .  +  .   \n",
       "12  NC_003197.2  RefSeq  gene  5114  5898  .  -  .   \n",
       "\n",
       "                                                    8  \n",
       "1   ID=gene-STM0001;Dbxref=GeneID:1251519;Name=thr...  \n",
       "3   ID=gene-STM0002;Dbxref=GeneID:1251520;Name=thr...  \n",
       "6   ID=gene-STM0003;Dbxref=GeneID:1251521;Name=thr...  \n",
       "10  ID=gene-STM0004;Dbxref=GeneID:1251522;Name=thr...  \n",
       "12  ID=gene-STM0005;Dbxref=GeneID:1251523;Name=yaa...  "
      ]
     },
     "execution_count": 5,
     "metadata": {},
     "output_type": "execute_result"
    }
   ],
   "source": [
    "genes.head()"
   ]
  },
  {
   "cell_type": "code",
   "execution_count": 6,
   "metadata": {},
   "outputs": [],
   "source": [
    "ids=genes.iloc[:,8] # select the column with ID details"
   ]
  },
  {
   "cell_type": "code",
   "execution_count": 9,
   "metadata": {},
   "outputs": [
    {
     "data": {
      "text/plain": [
       "1     ID=gene-STM0001;Dbxref=GeneID:1251519;Name=thr...\n",
       "3     ID=gene-STM0002;Dbxref=GeneID:1251520;Name=thr...\n",
       "6     ID=gene-STM0003;Dbxref=GeneID:1251521;Name=thr...\n",
       "10    ID=gene-STM0004;Dbxref=GeneID:1251522;Name=thr...\n",
       "12    ID=gene-STM0005;Dbxref=GeneID:1251523;Name=yaa...\n",
       "Name: 8, dtype: object"
      ]
     },
     "execution_count": 9,
     "metadata": {},
     "output_type": "execute_result"
    }
   ],
   "source": [
    "ids.head()"
   ]
  },
  {
   "cell_type": "code",
   "execution_count": 9,
   "metadata": {},
   "outputs": [],
   "source": [
    "# function to return gene list\n",
    "def func1(item):    \n",
    "    spit=item.split(';')\n",
    "    return spit[2][5:]"
   ]
  },
  {
   "cell_type": "code",
   "execution_count": 10,
   "metadata": {},
   "outputs": [],
   "source": [
    "gene_lst=ids.map(func1) # obtaining names of genes from ID details coloumn derived from gff file"
   ]
  },
  {
   "cell_type": "code",
   "execution_count": 11,
   "metadata": {},
   "outputs": [
    {
     "data": {
      "text/plain": [
       "1     thrL\n",
       "3     thrA\n",
       "6     thrB\n",
       "10    thrC\n",
       "12    yaaA\n",
       "Name: 8, dtype: object"
      ]
     },
     "execution_count": 11,
     "metadata": {},
     "output_type": "execute_result"
    }
   ],
   "source": [
    "gene_lst.head()"
   ]
  },
  {
   "cell_type": "code",
   "execution_count": 13,
   "metadata": {},
   "outputs": [],
   "source": [
    "genes=gff[gff[2]==\"gene\"]"
   ]
  },
  {
   "cell_type": "code",
   "execution_count": 14,
   "metadata": {},
   "outputs": [],
   "source": [
    "# function to obtain gene IDs from ID details column of gff file\n",
    "def func2(n):    \n",
    "    split_n=n.split(';')\n",
    "    return split_n[0][8:] "
   ]
  },
  {
   "cell_type": "code",
   "execution_count": 15,
   "metadata": {},
   "outputs": [],
   "source": [
    "ids=genes.iloc[:,8]"
   ]
  },
  {
   "cell_type": "code",
   "execution_count": 16,
   "metadata": {},
   "outputs": [],
   "source": [
    "id_lst=ids.map(func2)"
   ]
  },
  {
   "cell_type": "code",
   "execution_count": 17,
   "metadata": {},
   "outputs": [
    {
     "data": {
      "text/plain": [
       "1     STM0001\n",
       "3     STM0002\n",
       "6     STM0003\n",
       "10    STM0004\n",
       "12    STM0005\n",
       "Name: 8, dtype: object"
      ]
     },
     "execution_count": 17,
     "metadata": {},
     "output_type": "execute_result"
    }
   ],
   "source": [
    "id_lst.head()    "
   ]
  },
  {
   "cell_type": "code",
   "execution_count": 18,
   "metadata": {},
   "outputs": [],
   "source": [
    "df=genes.drop([1,5,6,7],axis=1)"
   ]
  },
  {
   "cell_type": "code",
   "execution_count": 19,
   "metadata": {},
   "outputs": [
    {
     "data": {
      "text/html": [
       "<div>\n",
       "<style scoped>\n",
       "    .dataframe tbody tr th:only-of-type {\n",
       "        vertical-align: middle;\n",
       "    }\n",
       "\n",
       "    .dataframe tbody tr th {\n",
       "        vertical-align: top;\n",
       "    }\n",
       "\n",
       "    .dataframe thead th {\n",
       "        text-align: right;\n",
       "    }\n",
       "</style>\n",
       "<table border=\"1\" class=\"dataframe\">\n",
       "  <thead>\n",
       "    <tr style=\"text-align: right;\">\n",
       "      <th></th>\n",
       "      <th>0</th>\n",
       "      <th>2</th>\n",
       "      <th>3</th>\n",
       "      <th>4</th>\n",
       "      <th>8</th>\n",
       "    </tr>\n",
       "  </thead>\n",
       "  <tbody>\n",
       "    <tr>\n",
       "      <th>1</th>\n",
       "      <td>NC_003197.2</td>\n",
       "      <td>gene</td>\n",
       "      <td>190</td>\n",
       "      <td>255</td>\n",
       "      <td>ID=gene-STM0001;Dbxref=GeneID:1251519;Name=thr...</td>\n",
       "    </tr>\n",
       "    <tr>\n",
       "      <th>3</th>\n",
       "      <td>NC_003197.2</td>\n",
       "      <td>gene</td>\n",
       "      <td>325</td>\n",
       "      <td>2799</td>\n",
       "      <td>ID=gene-STM0002;Dbxref=GeneID:1251520;Name=thr...</td>\n",
       "    </tr>\n",
       "    <tr>\n",
       "      <th>6</th>\n",
       "      <td>NC_003197.2</td>\n",
       "      <td>gene</td>\n",
       "      <td>2789</td>\n",
       "      <td>3730</td>\n",
       "      <td>ID=gene-STM0003;Dbxref=GeneID:1251521;Name=thr...</td>\n",
       "    </tr>\n",
       "    <tr>\n",
       "      <th>10</th>\n",
       "      <td>NC_003197.2</td>\n",
       "      <td>gene</td>\n",
       "      <td>3722</td>\n",
       "      <td>5020</td>\n",
       "      <td>ID=gene-STM0004;Dbxref=GeneID:1251522;Name=thr...</td>\n",
       "    </tr>\n",
       "    <tr>\n",
       "      <th>12</th>\n",
       "      <td>NC_003197.2</td>\n",
       "      <td>gene</td>\n",
       "      <td>5114</td>\n",
       "      <td>5898</td>\n",
       "      <td>ID=gene-STM0005;Dbxref=GeneID:1251523;Name=yaa...</td>\n",
       "    </tr>\n",
       "  </tbody>\n",
       "</table>\n",
       "</div>"
      ],
      "text/plain": [
       "              0     2     3     4  \\\n",
       "1   NC_003197.2  gene   190   255   \n",
       "3   NC_003197.2  gene   325  2799   \n",
       "6   NC_003197.2  gene  2789  3730   \n",
       "10  NC_003197.2  gene  3722  5020   \n",
       "12  NC_003197.2  gene  5114  5898   \n",
       "\n",
       "                                                    8  \n",
       "1   ID=gene-STM0001;Dbxref=GeneID:1251519;Name=thr...  \n",
       "3   ID=gene-STM0002;Dbxref=GeneID:1251520;Name=thr...  \n",
       "6   ID=gene-STM0003;Dbxref=GeneID:1251521;Name=thr...  \n",
       "10  ID=gene-STM0004;Dbxref=GeneID:1251522;Name=thr...  \n",
       "12  ID=gene-STM0005;Dbxref=GeneID:1251523;Name=yaa...  "
      ]
     },
     "execution_count": 19,
     "metadata": {},
     "output_type": "execute_result"
    }
   ],
   "source": [
    "pd.set_option('display.max_columns',None)\n",
    "df.head()"
   ]
  },
  {
   "cell_type": "code",
   "execution_count": 80,
   "metadata": {},
   "outputs": [
    {
     "data": {
      "text/plain": [
       "array(['NC_003197.2', 'NC_003277.2'], dtype=object)"
      ]
     },
     "execution_count": 80,
     "metadata": {},
     "output_type": "execute_result"
    }
   ],
   "source": [
    "# the S. enterica genome has a chromosome and a plasmid. these 2 appear with unique IDs\n",
    "df[0].unique()"
   ]
  },
  {
   "cell_type": "code",
   "execution_count": 20,
   "metadata": {},
   "outputs": [],
   "source": [
    "df[0]=np.where(df[0]==\"NC_003197.2\",\"chr1\",df[0]) # using np.where to rename chromosome as \"chr1\""
   ]
  },
  {
   "cell_type": "code",
   "execution_count": 85,
   "metadata": {},
   "outputs": [
    {
     "data": {
      "text/html": [
       "<div>\n",
       "<style scoped>\n",
       "    .dataframe tbody tr th:only-of-type {\n",
       "        vertical-align: middle;\n",
       "    }\n",
       "\n",
       "    .dataframe tbody tr th {\n",
       "        vertical-align: top;\n",
       "    }\n",
       "\n",
       "    .dataframe thead th {\n",
       "        text-align: right;\n",
       "    }\n",
       "</style>\n",
       "<table border=\"1\" class=\"dataframe\">\n",
       "  <thead>\n",
       "    <tr style=\"text-align: right;\">\n",
       "      <th></th>\n",
       "      <th>0</th>\n",
       "      <th>2</th>\n",
       "      <th>3</th>\n",
       "      <th>4</th>\n",
       "      <th>8</th>\n",
       "    </tr>\n",
       "  </thead>\n",
       "  <tbody>\n",
       "    <tr>\n",
       "      <td>1</td>\n",
       "      <td>chr1</td>\n",
       "      <td>gene</td>\n",
       "      <td>190</td>\n",
       "      <td>255</td>\n",
       "      <td>ID=gene-STM0001;Dbxref=GeneID:1251519;Name=thr...</td>\n",
       "    </tr>\n",
       "    <tr>\n",
       "      <td>3</td>\n",
       "      <td>chr1</td>\n",
       "      <td>gene</td>\n",
       "      <td>325</td>\n",
       "      <td>2799</td>\n",
       "      <td>ID=gene-STM0002;Dbxref=GeneID:1251520;Name=thr...</td>\n",
       "    </tr>\n",
       "    <tr>\n",
       "      <td>6</td>\n",
       "      <td>chr1</td>\n",
       "      <td>gene</td>\n",
       "      <td>2789</td>\n",
       "      <td>3730</td>\n",
       "      <td>ID=gene-STM0003;Dbxref=GeneID:1251521;Name=thr...</td>\n",
       "    </tr>\n",
       "    <tr>\n",
       "      <td>10</td>\n",
       "      <td>chr1</td>\n",
       "      <td>gene</td>\n",
       "      <td>3722</td>\n",
       "      <td>5020</td>\n",
       "      <td>ID=gene-STM0004;Dbxref=GeneID:1251522;Name=thr...</td>\n",
       "    </tr>\n",
       "    <tr>\n",
       "      <td>12</td>\n",
       "      <td>chr1</td>\n",
       "      <td>gene</td>\n",
       "      <td>5114</td>\n",
       "      <td>5898</td>\n",
       "      <td>ID=gene-STM0005;Dbxref=GeneID:1251523;Name=yaa...</td>\n",
       "    </tr>\n",
       "  </tbody>\n",
       "</table>\n",
       "</div>"
      ],
      "text/plain": [
       "       0     2     3     4                                                  8\n",
       "1   chr1  gene   190   255  ID=gene-STM0001;Dbxref=GeneID:1251519;Name=thr...\n",
       "3   chr1  gene   325  2799  ID=gene-STM0002;Dbxref=GeneID:1251520;Name=thr...\n",
       "6   chr1  gene  2789  3730  ID=gene-STM0003;Dbxref=GeneID:1251521;Name=thr...\n",
       "10  chr1  gene  3722  5020  ID=gene-STM0004;Dbxref=GeneID:1251522;Name=thr...\n",
       "12  chr1  gene  5114  5898  ID=gene-STM0005;Dbxref=GeneID:1251523;Name=yaa..."
      ]
     },
     "execution_count": 85,
     "metadata": {},
     "output_type": "execute_result"
    }
   ],
   "source": [
    "df.head()"
   ]
  },
  {
   "cell_type": "code",
   "execution_count": 21,
   "metadata": {},
   "outputs": [],
   "source": [
    "df[0]=np.where(df[0]==\"NC_003277.2\",\"pSLT\",df[0]) # using np.where to rename plasmid as \"pSLT\""
   ]
  },
  {
   "cell_type": "code",
   "execution_count": 22,
   "metadata": {},
   "outputs": [
    {
     "data": {
      "text/plain": [
       "array(['chr1', 'pSLT'], dtype=object)"
      ]
     },
     "execution_count": 22,
     "metadata": {},
     "output_type": "execute_result"
    }
   ],
   "source": [
    "df[0].unique()"
   ]
  },
  {
   "cell_type": "code",
   "execution_count": 34,
   "metadata": {},
   "outputs": [],
   "source": [
    "final_df=pd.merge(df,gene_lst,left_index=True,right_index=True,validate=\"1:1\") # dataframe merged with concise gene list"
   ]
  },
  {
   "cell_type": "code",
   "execution_count": 36,
   "metadata": {},
   "outputs": [
    {
     "data": {
      "text/html": [
       "<div>\n",
       "<style scoped>\n",
       "    .dataframe tbody tr th:only-of-type {\n",
       "        vertical-align: middle;\n",
       "    }\n",
       "\n",
       "    .dataframe tbody tr th {\n",
       "        vertical-align: top;\n",
       "    }\n",
       "\n",
       "    .dataframe thead th {\n",
       "        text-align: right;\n",
       "    }\n",
       "</style>\n",
       "<table border=\"1\" class=\"dataframe\">\n",
       "  <thead>\n",
       "    <tr style=\"text-align: right;\">\n",
       "      <th></th>\n",
       "      <th>0</th>\n",
       "      <th>3</th>\n",
       "      <th>4</th>\n",
       "      <th>8_x</th>\n",
       "      <th>8_y</th>\n",
       "    </tr>\n",
       "  </thead>\n",
       "  <tbody>\n",
       "    <tr>\n",
       "      <th>1</th>\n",
       "      <td>chr1</td>\n",
       "      <td>190</td>\n",
       "      <td>255</td>\n",
       "      <td>ID=gene-STM0001;Dbxref=GeneID:1251519;Name=thr...</td>\n",
       "      <td>thrL</td>\n",
       "    </tr>\n",
       "    <tr>\n",
       "      <th>3</th>\n",
       "      <td>chr1</td>\n",
       "      <td>325</td>\n",
       "      <td>2799</td>\n",
       "      <td>ID=gene-STM0002;Dbxref=GeneID:1251520;Name=thr...</td>\n",
       "      <td>thrA</td>\n",
       "    </tr>\n",
       "    <tr>\n",
       "      <th>6</th>\n",
       "      <td>chr1</td>\n",
       "      <td>2789</td>\n",
       "      <td>3730</td>\n",
       "      <td>ID=gene-STM0003;Dbxref=GeneID:1251521;Name=thr...</td>\n",
       "      <td>thrB</td>\n",
       "    </tr>\n",
       "    <tr>\n",
       "      <th>10</th>\n",
       "      <td>chr1</td>\n",
       "      <td>3722</td>\n",
       "      <td>5020</td>\n",
       "      <td>ID=gene-STM0004;Dbxref=GeneID:1251522;Name=thr...</td>\n",
       "      <td>thrC</td>\n",
       "    </tr>\n",
       "    <tr>\n",
       "      <th>12</th>\n",
       "      <td>chr1</td>\n",
       "      <td>5114</td>\n",
       "      <td>5898</td>\n",
       "      <td>ID=gene-STM0005;Dbxref=GeneID:1251523;Name=yaa...</td>\n",
       "      <td>yaaA</td>\n",
       "    </tr>\n",
       "  </tbody>\n",
       "</table>\n",
       "</div>"
      ],
      "text/plain": [
       "       0     3     4                                                8_x   8_y\n",
       "1   chr1   190   255  ID=gene-STM0001;Dbxref=GeneID:1251519;Name=thr...  thrL\n",
       "3   chr1   325  2799  ID=gene-STM0002;Dbxref=GeneID:1251520;Name=thr...  thrA\n",
       "6   chr1  2789  3730  ID=gene-STM0003;Dbxref=GeneID:1251521;Name=thr...  thrB\n",
       "10  chr1  3722  5020  ID=gene-STM0004;Dbxref=GeneID:1251522;Name=thr...  thrC\n",
       "12  chr1  5114  5898  ID=gene-STM0005;Dbxref=GeneID:1251523;Name=yaa...  yaaA"
      ]
     },
     "execution_count": 36,
     "metadata": {},
     "output_type": "execute_result"
    }
   ],
   "source": [
    "final_df.head()"
   ]
  },
  {
   "cell_type": "code",
   "execution_count": 37,
   "metadata": {},
   "outputs": [
    {
     "data": {
      "text/html": [
       "<div>\n",
       "<style scoped>\n",
       "    .dataframe tbody tr th:only-of-type {\n",
       "        vertical-align: middle;\n",
       "    }\n",
       "\n",
       "    .dataframe tbody tr th {\n",
       "        vertical-align: top;\n",
       "    }\n",
       "\n",
       "    .dataframe thead th {\n",
       "        text-align: right;\n",
       "    }\n",
       "</style>\n",
       "<table border=\"1\" class=\"dataframe\">\n",
       "  <thead>\n",
       "    <tr style=\"text-align: right;\">\n",
       "      <th></th>\n",
       "      <th>0</th>\n",
       "      <th>3</th>\n",
       "      <th>4</th>\n",
       "      <th>8_y</th>\n",
       "    </tr>\n",
       "  </thead>\n",
       "  <tbody>\n",
       "    <tr>\n",
       "      <th>1</th>\n",
       "      <td>chr1</td>\n",
       "      <td>190</td>\n",
       "      <td>255</td>\n",
       "      <td>thrL</td>\n",
       "    </tr>\n",
       "    <tr>\n",
       "      <th>3</th>\n",
       "      <td>chr1</td>\n",
       "      <td>325</td>\n",
       "      <td>2799</td>\n",
       "      <td>thrA</td>\n",
       "    </tr>\n",
       "    <tr>\n",
       "      <th>6</th>\n",
       "      <td>chr1</td>\n",
       "      <td>2789</td>\n",
       "      <td>3730</td>\n",
       "      <td>thrB</td>\n",
       "    </tr>\n",
       "    <tr>\n",
       "      <th>10</th>\n",
       "      <td>chr1</td>\n",
       "      <td>3722</td>\n",
       "      <td>5020</td>\n",
       "      <td>thrC</td>\n",
       "    </tr>\n",
       "    <tr>\n",
       "      <th>12</th>\n",
       "      <td>chr1</td>\n",
       "      <td>5114</td>\n",
       "      <td>5898</td>\n",
       "      <td>yaaA</td>\n",
       "    </tr>\n",
       "  </tbody>\n",
       "</table>\n",
       "</div>"
      ],
      "text/plain": [
       "       0     3     4   8_y\n",
       "1   chr1   190   255  thrL\n",
       "3   chr1   325  2799  thrA\n",
       "6   chr1  2789  3730  thrB\n",
       "10  chr1  3722  5020  thrC\n",
       "12  chr1  5114  5898  yaaA"
      ]
     },
     "execution_count": 37,
     "metadata": {},
     "output_type": "execute_result"
    }
   ],
   "source": [
    "final_df.drop(['8_x'],axis=1,inplace=True)\n",
    "final_df.head()"
   ]
  },
  {
   "cell_type": "code",
   "execution_count": 38,
   "metadata": {},
   "outputs": [
    {
     "data": {
      "text/html": [
       "<div>\n",
       "<style scoped>\n",
       "    .dataframe tbody tr th:only-of-type {\n",
       "        vertical-align: middle;\n",
       "    }\n",
       "\n",
       "    .dataframe tbody tr th {\n",
       "        vertical-align: top;\n",
       "    }\n",
       "\n",
       "    .dataframe thead th {\n",
       "        text-align: right;\n",
       "    }\n",
       "</style>\n",
       "<table border=\"1\" class=\"dataframe\">\n",
       "  <thead>\n",
       "    <tr style=\"text-align: right;\">\n",
       "      <th></th>\n",
       "      <th>chrm</th>\n",
       "      <th>start</th>\n",
       "      <th>end</th>\n",
       "      <th>gene</th>\n",
       "    </tr>\n",
       "  </thead>\n",
       "  <tbody>\n",
       "    <tr>\n",
       "      <th>1</th>\n",
       "      <td>chr1</td>\n",
       "      <td>190</td>\n",
       "      <td>255</td>\n",
       "      <td>thrL</td>\n",
       "    </tr>\n",
       "    <tr>\n",
       "      <th>3</th>\n",
       "      <td>chr1</td>\n",
       "      <td>325</td>\n",
       "      <td>2799</td>\n",
       "      <td>thrA</td>\n",
       "    </tr>\n",
       "    <tr>\n",
       "      <th>6</th>\n",
       "      <td>chr1</td>\n",
       "      <td>2789</td>\n",
       "      <td>3730</td>\n",
       "      <td>thrB</td>\n",
       "    </tr>\n",
       "    <tr>\n",
       "      <th>10</th>\n",
       "      <td>chr1</td>\n",
       "      <td>3722</td>\n",
       "      <td>5020</td>\n",
       "      <td>thrC</td>\n",
       "    </tr>\n",
       "    <tr>\n",
       "      <th>12</th>\n",
       "      <td>chr1</td>\n",
       "      <td>5114</td>\n",
       "      <td>5898</td>\n",
       "      <td>yaaA</td>\n",
       "    </tr>\n",
       "  </tbody>\n",
       "</table>\n",
       "</div>"
      ],
      "text/plain": [
       "    chrm  start   end  gene\n",
       "1   chr1    190   255  thrL\n",
       "3   chr1    325  2799  thrA\n",
       "6   chr1   2789  3730  thrB\n",
       "10  chr1   3722  5020  thrC\n",
       "12  chr1   5114  5898  yaaA"
      ]
     },
     "execution_count": 38,
     "metadata": {},
     "output_type": "execute_result"
    }
   ],
   "source": [
    "final_df.columns=['chrm','start','end','gene' ]\n"
   ]
  },
  {
   "cell_type": "code",
   "execution_count": 40,
   "metadata": {},
   "outputs": [
    {
     "data": {
      "text/html": [
       "<div>\n",
       "<style scoped>\n",
       "    .dataframe tbody tr th:only-of-type {\n",
       "        vertical-align: middle;\n",
       "    }\n",
       "\n",
       "    .dataframe tbody tr th {\n",
       "        vertical-align: top;\n",
       "    }\n",
       "\n",
       "    .dataframe thead th {\n",
       "        text-align: right;\n",
       "    }\n",
       "</style>\n",
       "<table border=\"1\" class=\"dataframe\">\n",
       "  <thead>\n",
       "    <tr style=\"text-align: right;\">\n",
       "      <th></th>\n",
       "      <th>chrm</th>\n",
       "      <th>start</th>\n",
       "      <th>end</th>\n",
       "      <th>gene</th>\n",
       "    </tr>\n",
       "  </thead>\n",
       "  <tbody>\n",
       "    <tr>\n",
       "      <th>1</th>\n",
       "      <td>chr1</td>\n",
       "      <td>190</td>\n",
       "      <td>255</td>\n",
       "      <td>thrL</td>\n",
       "    </tr>\n",
       "    <tr>\n",
       "      <th>3</th>\n",
       "      <td>chr1</td>\n",
       "      <td>325</td>\n",
       "      <td>2799</td>\n",
       "      <td>thrA</td>\n",
       "    </tr>\n",
       "    <tr>\n",
       "      <th>6</th>\n",
       "      <td>chr1</td>\n",
       "      <td>2789</td>\n",
       "      <td>3730</td>\n",
       "      <td>thrB</td>\n",
       "    </tr>\n",
       "    <tr>\n",
       "      <th>10</th>\n",
       "      <td>chr1</td>\n",
       "      <td>3722</td>\n",
       "      <td>5020</td>\n",
       "      <td>thrC</td>\n",
       "    </tr>\n",
       "    <tr>\n",
       "      <th>12</th>\n",
       "      <td>chr1</td>\n",
       "      <td>5114</td>\n",
       "      <td>5898</td>\n",
       "      <td>yaaA</td>\n",
       "    </tr>\n",
       "  </tbody>\n",
       "</table>\n",
       "</div>"
      ],
      "text/plain": [
       "    chrm  start   end  gene\n",
       "1   chr1    190   255  thrL\n",
       "3   chr1    325  2799  thrA\n",
       "6   chr1   2789  3730  thrB\n",
       "10  chr1   3722  5020  thrC\n",
       "12  chr1   5114  5898  yaaA"
      ]
     },
     "execution_count": 40,
     "metadata": {},
     "output_type": "execute_result"
    }
   ],
   "source": [
    "final_df[final_df.chrm==\"chr1\"].head()"
   ]
  },
  {
   "cell_type": "code",
   "execution_count": 39,
   "metadata": {},
   "outputs": [
    {
     "data": {
      "text/html": [
       "<div>\n",
       "<style scoped>\n",
       "    .dataframe tbody tr th:only-of-type {\n",
       "        vertical-align: middle;\n",
       "    }\n",
       "\n",
       "    .dataframe tbody tr th {\n",
       "        vertical-align: top;\n",
       "    }\n",
       "\n",
       "    .dataframe thead th {\n",
       "        text-align: right;\n",
       "    }\n",
       "</style>\n",
       "<table border=\"1\" class=\"dataframe\">\n",
       "  <thead>\n",
       "    <tr style=\"text-align: right;\">\n",
       "      <th></th>\n",
       "      <th>chrm</th>\n",
       "      <th>start</th>\n",
       "      <th>end</th>\n",
       "      <th>gene</th>\n",
       "    </tr>\n",
       "  </thead>\n",
       "  <tbody>\n",
       "    <tr>\n",
       "      <th>14164</th>\n",
       "      <td>pSLT</td>\n",
       "      <td>94</td>\n",
       "      <td>378</td>\n",
       "      <td>PSLT001</td>\n",
       "    </tr>\n",
       "    <tr>\n",
       "      <th>14166</th>\n",
       "      <td>pSLT</td>\n",
       "      <td>712</td>\n",
       "      <td>1155</td>\n",
       "      <td>PSLT002</td>\n",
       "    </tr>\n",
       "    <tr>\n",
       "      <th>14168</th>\n",
       "      <td>pSLT</td>\n",
       "      <td>1334</td>\n",
       "      <td>1600</td>\n",
       "      <td>repC</td>\n",
       "    </tr>\n",
       "    <tr>\n",
       "      <th>14170</th>\n",
       "      <td>pSLT</td>\n",
       "      <td>1723</td>\n",
       "      <td>1845</td>\n",
       "      <td>repA3</td>\n",
       "    </tr>\n",
       "    <tr>\n",
       "      <th>14172</th>\n",
       "      <td>pSLT</td>\n",
       "      <td>1850</td>\n",
       "      <td>1927</td>\n",
       "      <td>tap</td>\n",
       "    </tr>\n",
       "  </tbody>\n",
       "</table>\n",
       "</div>"
      ],
      "text/plain": [
       "       chrm  start   end     gene\n",
       "14164  pSLT     94   378  PSLT001\n",
       "14166  pSLT    712  1155  PSLT002\n",
       "14168  pSLT   1334  1600     repC\n",
       "14170  pSLT   1723  1845    repA3\n",
       "14172  pSLT   1850  1927      tap"
      ]
     },
     "execution_count": 39,
     "metadata": {},
     "output_type": "execute_result"
    }
   ],
   "source": [
    "final_df[final_df.chrm==\"pSLT\"].head()"
   ]
  },
  {
   "cell_type": "code",
   "execution_count": 42,
   "metadata": {},
   "outputs": [],
   "source": [
    "final_df.to_csv(\"250520_salmonella_genes_position.csv\",index=False)"
   ]
  },
  {
   "cell_type": "code",
   "execution_count": 26,
   "metadata": {},
   "outputs": [
    {
     "data": {
      "text/html": [
       "<div>\n",
       "<style scoped>\n",
       "    .dataframe tbody tr th:only-of-type {\n",
       "        vertical-align: middle;\n",
       "    }\n",
       "\n",
       "    .dataframe tbody tr th {\n",
       "        vertical-align: top;\n",
       "    }\n",
       "\n",
       "    .dataframe thead th {\n",
       "        text-align: right;\n",
       "    }\n",
       "</style>\n",
       "<table border=\"1\" class=\"dataframe\">\n",
       "  <thead>\n",
       "    <tr style=\"text-align: right;\">\n",
       "      <th></th>\n",
       "      <th>gene</th>\n",
       "      <th>start</th>\n",
       "      <th>end</th>\n",
       "    </tr>\n",
       "  </thead>\n",
       "  <tbody>\n",
       "    <tr>\n",
       "      <td>1</td>\n",
       "      <td>thrL</td>\n",
       "      <td>190</td>\n",
       "      <td>255</td>\n",
       "    </tr>\n",
       "    <tr>\n",
       "      <td>3</td>\n",
       "      <td>thrA</td>\n",
       "      <td>325</td>\n",
       "      <td>2799</td>\n",
       "    </tr>\n",
       "    <tr>\n",
       "      <td>6</td>\n",
       "      <td>thrB</td>\n",
       "      <td>2789</td>\n",
       "      <td>3730</td>\n",
       "    </tr>\n",
       "    <tr>\n",
       "      <td>10</td>\n",
       "      <td>thrC</td>\n",
       "      <td>3722</td>\n",
       "      <td>5020</td>\n",
       "    </tr>\n",
       "    <tr>\n",
       "      <td>12</td>\n",
       "      <td>yaaA</td>\n",
       "      <td>5114</td>\n",
       "      <td>5898</td>\n",
       "    </tr>\n",
       "  </tbody>\n",
       "</table>\n",
       "</div>"
      ],
      "text/plain": [
       "    gene  start   end\n",
       "1   thrL    190   255\n",
       "3   thrA    325  2799\n",
       "6   thrB   2789  3730\n",
       "10  thrC   3722  5020\n",
       "12  yaaA   5114  5898"
      ]
     },
     "execution_count": 26,
     "metadata": {},
     "output_type": "execute_result"
    }
   ],
   "source": [
    "crs_mtx=final_df[[\"gene\",\"start\",\"end\"]]\n",
    "crs_mtx.head()"
   ]
  },
  {
   "cell_type": "code",
   "execution_count": 46,
   "metadata": {},
   "outputs": [],
   "source": [
    "df_for_circos=df"
   ]
  },
  {
   "cell_type": "code",
   "execution_count": 47,
   "metadata": {},
   "outputs": [],
   "source": [
    "df_for_circos[0]=np.where(df[0]==\"chr1\",\"sal1\",df[0]) # using np.where to rename chromosome as \"sal1\" for CIRCOS annotation"
   ]
  },
  {
   "cell_type": "code",
   "execution_count": 48,
   "metadata": {},
   "outputs": [],
   "source": [
    "df_for_circos[0]=np.where(df[0]==\"pSLT\",\"sal2\",df[0]) # using np.where to rename plasmid as \"sal2\" for CIRCOS annotation"
   ]
  },
  {
   "cell_type": "code",
   "execution_count": 49,
   "metadata": {},
   "outputs": [
    {
     "data": {
      "text/html": [
       "<div>\n",
       "<style scoped>\n",
       "    .dataframe tbody tr th:only-of-type {\n",
       "        vertical-align: middle;\n",
       "    }\n",
       "\n",
       "    .dataframe tbody tr th {\n",
       "        vertical-align: top;\n",
       "    }\n",
       "\n",
       "    .dataframe thead th {\n",
       "        text-align: right;\n",
       "    }\n",
       "</style>\n",
       "<table border=\"1\" class=\"dataframe\">\n",
       "  <thead>\n",
       "    <tr style=\"text-align: right;\">\n",
       "      <th></th>\n",
       "      <th>0</th>\n",
       "      <th>3</th>\n",
       "      <th>4</th>\n",
       "      <th>8</th>\n",
       "    </tr>\n",
       "  </thead>\n",
       "  <tbody>\n",
       "    <tr>\n",
       "      <th>1</th>\n",
       "      <td>sal1</td>\n",
       "      <td>190</td>\n",
       "      <td>255</td>\n",
       "      <td>ID=gene-STM0001;Dbxref=GeneID:1251519;Name=thr...</td>\n",
       "    </tr>\n",
       "    <tr>\n",
       "      <th>3</th>\n",
       "      <td>sal1</td>\n",
       "      <td>325</td>\n",
       "      <td>2799</td>\n",
       "      <td>ID=gene-STM0002;Dbxref=GeneID:1251520;Name=thr...</td>\n",
       "    </tr>\n",
       "    <tr>\n",
       "      <th>6</th>\n",
       "      <td>sal1</td>\n",
       "      <td>2789</td>\n",
       "      <td>3730</td>\n",
       "      <td>ID=gene-STM0003;Dbxref=GeneID:1251521;Name=thr...</td>\n",
       "    </tr>\n",
       "    <tr>\n",
       "      <th>10</th>\n",
       "      <td>sal1</td>\n",
       "      <td>3722</td>\n",
       "      <td>5020</td>\n",
       "      <td>ID=gene-STM0004;Dbxref=GeneID:1251522;Name=thr...</td>\n",
       "    </tr>\n",
       "    <tr>\n",
       "      <th>12</th>\n",
       "      <td>sal1</td>\n",
       "      <td>5114</td>\n",
       "      <td>5898</td>\n",
       "      <td>ID=gene-STM0005;Dbxref=GeneID:1251523;Name=yaa...</td>\n",
       "    </tr>\n",
       "  </tbody>\n",
       "</table>\n",
       "</div>"
      ],
      "text/plain": [
       "       0     3     4                                                  8\n",
       "1   sal1   190   255  ID=gene-STM0001;Dbxref=GeneID:1251519;Name=thr...\n",
       "3   sal1   325  2799  ID=gene-STM0002;Dbxref=GeneID:1251520;Name=thr...\n",
       "6   sal1  2789  3730  ID=gene-STM0003;Dbxref=GeneID:1251521;Name=thr...\n",
       "10  sal1  3722  5020  ID=gene-STM0004;Dbxref=GeneID:1251522;Name=thr...\n",
       "12  sal1  5114  5898  ID=gene-STM0005;Dbxref=GeneID:1251523;Name=yaa..."
      ]
     },
     "execution_count": 49,
     "metadata": {},
     "output_type": "execute_result"
    }
   ],
   "source": [
    "df_for_circos.head()"
   ]
  },
  {
   "cell_type": "code",
   "execution_count": 50,
   "metadata": {},
   "outputs": [],
   "source": [
    "dfc=pd.merge(df_for_circos,gene_lst,left_index=True,right_index=True,validate=\"1:1\") # dataframe merged with concise gene list"
   ]
  },
  {
   "cell_type": "code",
   "execution_count": 63,
   "metadata": {},
   "outputs": [],
   "source": [
    "dfc.columns=['chrm','start','end','gene']"
   ]
  },
  {
   "cell_type": "code",
   "execution_count": 65,
   "metadata": {},
   "outputs": [],
   "source": [
    "circos_gene_list=dfc.drop('gene',axis=1)"
   ]
  },
  {
   "cell_type": "code",
   "execution_count": 68,
   "metadata": {},
   "outputs": [],
   "source": [
    "circos_gene_list.to_csv('genes_sal.txt',index=False,sep='\\t',header=False) # tab seperated file with circos annotation and gene position"
   ]
  },
  {
   "cell_type": "code",
   "execution_count": null,
   "metadata": {},
   "outputs": [],
   "source": []
  }
 ],
 "metadata": {
  "kernelspec": {
   "display_name": "Python 3",
   "language": "python",
   "name": "python3"
  },
  "language_info": {
   "codemirror_mode": {
    "name": "ipython",
    "version": 3
   },
   "file_extension": ".py",
   "mimetype": "text/x-python",
   "name": "python",
   "nbconvert_exporter": "python",
   "pygments_lexer": "ipython3",
   "version": "3.7.6"
  }
 },
 "nbformat": 4,
 "nbformat_minor": 4
}
