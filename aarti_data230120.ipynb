{
 "cells": [
  {
   "cell_type": "code",
   "execution_count": null,
   "metadata": {},
   "outputs": [],
   "source": [
    "import os\n",
    "import numpy as np\n",
    "import pandas as pd\n",
    "import matplotlib.pyplot as plt\n",
    "import seaborn as sns\n",
    "%matplotlib inline\n",
    "#os.chdir(\"/home/anubrata/Documents/datascience\")\n",
    "os.getcwd()"
   ]
  },
  {
   "cell_type": "code",
   "execution_count": 9,
   "metadata": {},
   "outputs": [],
   "source": [
    "arti_data=pd.read_csv(\"A_cip-1_SNP.csv\",encoding=\"utf-16\")"
   ]
  },
  {
   "cell_type": "code",
   "execution_count": 17,
   "metadata": {},
   "outputs": [
    {
     "data": {
      "text/html": [
       "<div>\n",
       "<style scoped>\n",
       "    .dataframe tbody tr th:only-of-type {\n",
       "        vertical-align: middle;\n",
       "    }\n",
       "\n",
       "    .dataframe tbody tr th {\n",
       "        vertical-align: top;\n",
       "    }\n",
       "\n",
       "    .dataframe thead th {\n",
       "        text-align: right;\n",
       "    }\n",
       "</style>\n",
       "<table border=\"1\" class=\"dataframe\">\n",
       "  <thead>\n",
       "    <tr style=\"text-align: right;\">\n",
       "      <th></th>\n",
       "      <th>Chrom</th>\n",
       "      <th>Position</th>\n",
       "      <th>Reference</th>\n",
       "      <th>Variant</th>\n",
       "      <th>Type</th>\n",
       "      <th>Zygosity</th>\n",
       "      <th>Quality</th>\n",
       "      <th>Coverage</th>\n",
       "      <th>Gene_ID</th>\n",
       "      <th>Trancript_ID</th>\n",
       "      <th>Exon_ID</th>\n",
       "      <th>Exon_Rank</th>\n",
       "      <th>Effect</th>\n",
       "      <th>old_AA/new_AA</th>\n",
       "      <th>Old_codon/New_codon</th>\n",
       "      <th>Codon_Num(CDS)</th>\n",
       "    </tr>\n",
       "  </thead>\n",
       "  <tbody>\n",
       "    <tr>\n",
       "      <td>42</td>\n",
       "      <td>NC_003197.2</td>\n",
       "      <td>5890</td>\n",
       "      <td>T</td>\n",
       "      <td>C</td>\n",
       "      <td>SNP</td>\n",
       "      <td>Hom</td>\n",
       "      <td>221.9990</td>\n",
       "      <td>1221</td>\n",
       "      <td>--</td>\n",
       "      <td>--</td>\n",
       "      <td>--</td>\n",
       "      <td>--</td>\n",
       "      <td>INTERGENIC</td>\n",
       "      <td>NaN</td>\n",
       "      <td>NaN</td>\n",
       "      <td>NaN</td>\n",
       "    </tr>\n",
       "    <tr>\n",
       "      <td>62</td>\n",
       "      <td>NC_003197.2</td>\n",
       "      <td>7420</td>\n",
       "      <td>G</td>\n",
       "      <td>T</td>\n",
       "      <td>SNP</td>\n",
       "      <td>Hom</td>\n",
       "      <td>221.9990</td>\n",
       "      <td>1090</td>\n",
       "      <td>--</td>\n",
       "      <td>--</td>\n",
       "      <td>--</td>\n",
       "      <td>--</td>\n",
       "      <td>INTERGENIC</td>\n",
       "      <td>NaN</td>\n",
       "      <td>NaN</td>\n",
       "      <td>NaN</td>\n",
       "    </tr>\n",
       "    <tr>\n",
       "      <td>63</td>\n",
       "      <td>NC_003197.2</td>\n",
       "      <td>7432</td>\n",
       "      <td>A</td>\n",
       "      <td>G</td>\n",
       "      <td>SNP</td>\n",
       "      <td>Hom</td>\n",
       "      <td>221.9990</td>\n",
       "      <td>1125</td>\n",
       "      <td>--</td>\n",
       "      <td>--</td>\n",
       "      <td>--</td>\n",
       "      <td>--</td>\n",
       "      <td>INTERGENIC</td>\n",
       "      <td>NaN</td>\n",
       "      <td>NaN</td>\n",
       "      <td>NaN</td>\n",
       "    </tr>\n",
       "    <tr>\n",
       "      <td>64</td>\n",
       "      <td>NC_003197.2</td>\n",
       "      <td>7508</td>\n",
       "      <td>T</td>\n",
       "      <td>C</td>\n",
       "      <td>SNP</td>\n",
       "      <td>Hom</td>\n",
       "      <td>221.9990</td>\n",
       "      <td>1287</td>\n",
       "      <td>--</td>\n",
       "      <td>--</td>\n",
       "      <td>--</td>\n",
       "      <td>--</td>\n",
       "      <td>INTERGENIC</td>\n",
       "      <td>NaN</td>\n",
       "      <td>NaN</td>\n",
       "      <td>NaN</td>\n",
       "    </tr>\n",
       "    <tr>\n",
       "      <td>78</td>\n",
       "      <td>NC_003197.2</td>\n",
       "      <td>9326</td>\n",
       "      <td>A</td>\n",
       "      <td>G</td>\n",
       "      <td>SNP</td>\n",
       "      <td>Hom</td>\n",
       "      <td>221.9990</td>\n",
       "      <td>1440</td>\n",
       "      <td>--</td>\n",
       "      <td>--</td>\n",
       "      <td>--</td>\n",
       "      <td>--</td>\n",
       "      <td>INTERGENIC</td>\n",
       "      <td>NaN</td>\n",
       "      <td>NaN</td>\n",
       "      <td>NaN</td>\n",
       "    </tr>\n",
       "    <tr>\n",
       "      <td>...</td>\n",
       "      <td>...</td>\n",
       "      <td>...</td>\n",
       "      <td>...</td>\n",
       "      <td>...</td>\n",
       "      <td>...</td>\n",
       "      <td>...</td>\n",
       "      <td>...</td>\n",
       "      <td>...</td>\n",
       "      <td>...</td>\n",
       "      <td>...</td>\n",
       "      <td>...</td>\n",
       "      <td>...</td>\n",
       "      <td>...</td>\n",
       "      <td>...</td>\n",
       "      <td>...</td>\n",
       "      <td>...</td>\n",
       "    </tr>\n",
       "    <tr>\n",
       "      <td>40840</td>\n",
       "      <td>NC_003197.2</td>\n",
       "      <td>4855324</td>\n",
       "      <td>A</td>\n",
       "      <td>G</td>\n",
       "      <td>SNP</td>\n",
       "      <td>Hom</td>\n",
       "      <td>88.9974</td>\n",
       "      <td>1039</td>\n",
       "      <td>--</td>\n",
       "      <td>--</td>\n",
       "      <td>--</td>\n",
       "      <td>--</td>\n",
       "      <td>INTERGENIC</td>\n",
       "      <td>NaN</td>\n",
       "      <td>NaN</td>\n",
       "      <td>NaN</td>\n",
       "    </tr>\n",
       "    <tr>\n",
       "      <td>40841</td>\n",
       "      <td>NC_003197.2</td>\n",
       "      <td>4855368</td>\n",
       "      <td>A</td>\n",
       "      <td>G</td>\n",
       "      <td>SNP</td>\n",
       "      <td>Hom</td>\n",
       "      <td>221.9990</td>\n",
       "      <td>1083</td>\n",
       "      <td>--</td>\n",
       "      <td>--</td>\n",
       "      <td>--</td>\n",
       "      <td>--</td>\n",
       "      <td>INTERGENIC</td>\n",
       "      <td>NaN</td>\n",
       "      <td>NaN</td>\n",
       "      <td>NaN</td>\n",
       "    </tr>\n",
       "    <tr>\n",
       "      <td>40842</td>\n",
       "      <td>NC_003197.2</td>\n",
       "      <td>4855382</td>\n",
       "      <td>G</td>\n",
       "      <td>A</td>\n",
       "      <td>SNP</td>\n",
       "      <td>Hom</td>\n",
       "      <td>221.9990</td>\n",
       "      <td>1062</td>\n",
       "      <td>--</td>\n",
       "      <td>--</td>\n",
       "      <td>--</td>\n",
       "      <td>--</td>\n",
       "      <td>INTERGENIC</td>\n",
       "      <td>NaN</td>\n",
       "      <td>NaN</td>\n",
       "      <td>NaN</td>\n",
       "    </tr>\n",
       "    <tr>\n",
       "      <td>40846</td>\n",
       "      <td>NC_003197.2</td>\n",
       "      <td>4856558</td>\n",
       "      <td>T</td>\n",
       "      <td>C</td>\n",
       "      <td>SNP</td>\n",
       "      <td>Hom</td>\n",
       "      <td>221.9990</td>\n",
       "      <td>512</td>\n",
       "      <td>--</td>\n",
       "      <td>--</td>\n",
       "      <td>--</td>\n",
       "      <td>--</td>\n",
       "      <td>INTERGENIC</td>\n",
       "      <td>NaN</td>\n",
       "      <td>NaN</td>\n",
       "      <td>NaN</td>\n",
       "    </tr>\n",
       "    <tr>\n",
       "      <td>40847</td>\n",
       "      <td>NC_003197.2</td>\n",
       "      <td>4856655</td>\n",
       "      <td>A</td>\n",
       "      <td>C</td>\n",
       "      <td>SNP</td>\n",
       "      <td>Hom</td>\n",
       "      <td>221.9990</td>\n",
       "      <td>1209</td>\n",
       "      <td>--</td>\n",
       "      <td>--</td>\n",
       "      <td>--</td>\n",
       "      <td>--</td>\n",
       "      <td>INTERGENIC</td>\n",
       "      <td>NaN</td>\n",
       "      <td>NaN</td>\n",
       "      <td>NaN</td>\n",
       "    </tr>\n",
       "  </tbody>\n",
       "</table>\n",
       "<p>4418 rows × 16 columns</p>\n",
       "</div>"
      ],
      "text/plain": [
       "             Chrom  Position Reference Variant Type Zygosity   Quality  \\\n",
       "42     NC_003197.2      5890         T       C  SNP      Hom  221.9990   \n",
       "62     NC_003197.2      7420         G       T  SNP      Hom  221.9990   \n",
       "63     NC_003197.2      7432         A       G  SNP      Hom  221.9990   \n",
       "64     NC_003197.2      7508         T       C  SNP      Hom  221.9990   \n",
       "78     NC_003197.2      9326         A       G  SNP      Hom  221.9990   \n",
       "...            ...       ...       ...     ...  ...      ...       ...   \n",
       "40840  NC_003197.2   4855324         A       G  SNP      Hom   88.9974   \n",
       "40841  NC_003197.2   4855368         A       G  SNP      Hom  221.9990   \n",
       "40842  NC_003197.2   4855382         G       A  SNP      Hom  221.9990   \n",
       "40846  NC_003197.2   4856558         T       C  SNP      Hom  221.9990   \n",
       "40847  NC_003197.2   4856655         A       C  SNP      Hom  221.9990   \n",
       "\n",
       "       Coverage Gene_ID Trancript_ID Exon_ID Exon_Rank      Effect  \\\n",
       "42         1221      --           --      --        --  INTERGENIC   \n",
       "62         1090      --           --      --        --  INTERGENIC   \n",
       "63         1125      --           --      --        --  INTERGENIC   \n",
       "64         1287      --           --      --        --  INTERGENIC   \n",
       "78         1440      --           --      --        --  INTERGENIC   \n",
       "...         ...     ...          ...     ...       ...         ...   \n",
       "40840      1039      --           --      --        --  INTERGENIC   \n",
       "40841      1083      --           --      --        --  INTERGENIC   \n",
       "40842      1062      --           --      --        --  INTERGENIC   \n",
       "40846       512      --           --      --        --  INTERGENIC   \n",
       "40847      1209      --           --      --        --  INTERGENIC   \n",
       "\n",
       "      old_AA/new_AA Old_codon/New_codon  Codon_Num(CDS)  \n",
       "42              NaN                 NaN             NaN  \n",
       "62              NaN                 NaN             NaN  \n",
       "63              NaN                 NaN             NaN  \n",
       "64              NaN                 NaN             NaN  \n",
       "78              NaN                 NaN             NaN  \n",
       "...             ...                 ...             ...  \n",
       "40840           NaN                 NaN             NaN  \n",
       "40841           NaN                 NaN             NaN  \n",
       "40842           NaN                 NaN             NaN  \n",
       "40846           NaN                 NaN             NaN  \n",
       "40847           NaN                 NaN             NaN  \n",
       "\n",
       "[4418 rows x 16 columns]"
      ]
     },
     "execution_count": 17,
     "metadata": {},
     "output_type": "execute_result"
    }
   ],
   "source": [
    "arti_data[arti_data.Gene_ID=='--']"
   ]
  },
  {
   "cell_type": "code",
   "execution_count": 10,
   "metadata": {},
   "outputs": [
    {
     "data": {
      "text/html": [
       "<div>\n",
       "<style scoped>\n",
       "    .dataframe tbody tr th:only-of-type {\n",
       "        vertical-align: middle;\n",
       "    }\n",
       "\n",
       "    .dataframe tbody tr th {\n",
       "        vertical-align: top;\n",
       "    }\n",
       "\n",
       "    .dataframe thead th {\n",
       "        text-align: right;\n",
       "    }\n",
       "</style>\n",
       "<table border=\"1\" class=\"dataframe\">\n",
       "  <thead>\n",
       "    <tr style=\"text-align: right;\">\n",
       "      <th></th>\n",
       "      <th>Position</th>\n",
       "      <th>Reference</th>\n",
       "      <th>Variant</th>\n",
       "      <th>Quality</th>\n",
       "      <th>Coverage</th>\n",
       "      <th>Gene_ID</th>\n",
       "      <th>Exon_Rank</th>\n",
       "      <th>Effect</th>\n",
       "      <th>old_AA/new_AA</th>\n",
       "      <th>Old_codon/New_codon</th>\n",
       "      <th>Codon_Num(CDS)</th>\n",
       "    </tr>\n",
       "  </thead>\n",
       "  <tbody>\n",
       "    <tr>\n",
       "      <td>0</td>\n",
       "      <td>507</td>\n",
       "      <td>C</td>\n",
       "      <td>T</td>\n",
       "      <td>221.999</td>\n",
       "      <td>1028</td>\n",
       "      <td>thrA</td>\n",
       "      <td>1</td>\n",
       "      <td>SYNONYMOUS_CODING</td>\n",
       "      <td>G/G</td>\n",
       "      <td>ggC/ggT</td>\n",
       "      <td>57.0</td>\n",
       "    </tr>\n",
       "    <tr>\n",
       "      <td>1</td>\n",
       "      <td>537</td>\n",
       "      <td>A</td>\n",
       "      <td>C</td>\n",
       "      <td>221.999</td>\n",
       "      <td>1130</td>\n",
       "      <td>thrA</td>\n",
       "      <td>1</td>\n",
       "      <td>SYNONYMOUS_CODING</td>\n",
       "      <td>A/A</td>\n",
       "      <td>gcA/gcC</td>\n",
       "      <td>67.0</td>\n",
       "    </tr>\n",
       "    <tr>\n",
       "      <td>2</td>\n",
       "      <td>744</td>\n",
       "      <td>A</td>\n",
       "      <td>C</td>\n",
       "      <td>221.999</td>\n",
       "      <td>1316</td>\n",
       "      <td>thrA</td>\n",
       "      <td>1</td>\n",
       "      <td>SYNONYMOUS_CODING</td>\n",
       "      <td>G/G</td>\n",
       "      <td>ggA/ggC</td>\n",
       "      <td>136.0</td>\n",
       "    </tr>\n",
       "    <tr>\n",
       "      <td>3</td>\n",
       "      <td>747</td>\n",
       "      <td>T</td>\n",
       "      <td>C</td>\n",
       "      <td>221.999</td>\n",
       "      <td>1431</td>\n",
       "      <td>thrA</td>\n",
       "      <td>1</td>\n",
       "      <td>SYNONYMOUS_CODING</td>\n",
       "      <td>L/L</td>\n",
       "      <td>ctT/ctC</td>\n",
       "      <td>137.0</td>\n",
       "    </tr>\n",
       "    <tr>\n",
       "      <td>4</td>\n",
       "      <td>762</td>\n",
       "      <td>G</td>\n",
       "      <td>A</td>\n",
       "      <td>221.999</td>\n",
       "      <td>1355</td>\n",
       "      <td>thrA</td>\n",
       "      <td>1</td>\n",
       "      <td>SYNONYMOUS_CODING</td>\n",
       "      <td>G/G</td>\n",
       "      <td>ggG/ggA</td>\n",
       "      <td>142.0</td>\n",
       "    </tr>\n",
       "  </tbody>\n",
       "</table>\n",
       "</div>"
      ],
      "text/plain": [
       "   Position Reference Variant  Quality  Coverage Gene_ID Exon_Rank  \\\n",
       "0       507         C       T  221.999      1028    thrA         1   \n",
       "1       537         A       C  221.999      1130    thrA         1   \n",
       "2       744         A       C  221.999      1316    thrA         1   \n",
       "3       747         T       C  221.999      1431    thrA         1   \n",
       "4       762         G       A  221.999      1355    thrA         1   \n",
       "\n",
       "              Effect old_AA/new_AA Old_codon/New_codon  Codon_Num(CDS)  \n",
       "0  SYNONYMOUS_CODING           G/G             ggC/ggT            57.0  \n",
       "1  SYNONYMOUS_CODING           A/A             gcA/gcC            67.0  \n",
       "2  SYNONYMOUS_CODING           G/G             ggA/ggC           136.0  \n",
       "3  SYNONYMOUS_CODING           L/L             ctT/ctC           137.0  \n",
       "4  SYNONYMOUS_CODING           G/G             ggG/ggA           142.0  "
      ]
     },
     "execution_count": 10,
     "metadata": {},
     "output_type": "execute_result"
    }
   ],
   "source": [
    "rev_data=arti_data.drop(['Chrom','Type','Zygosity','Trancript_ID','Exon_ID'],axis=1)\n",
    "rev_data['Gene_ID']=rev_data['Gene_ID'].replace('--','Intergenic')\n",
    "#mutated=pd.value_counts(rev_data.Gene_ID)\n",
    "#highly_mutated=mutated[mutated>50]\n",
    "#highly_mutated.to_csv(\"highly_mutated.csv\")\n",
    "#mutated.to_csv(\"mutated.csv\")\n",
    "rev_data.head()"
   ]
  },
  {
   "cell_type": "code",
   "execution_count": 5,
   "metadata": {},
   "outputs": [],
   "source": [
    "high_mut_list=['STM4261','Gene_gene2690','metH','mukB','STM4489','gltB','rpoC']\n",
    "high_mut_df=rev_data.loc[rev_data['Gene_ID'].isin(high_mut_list)]"
   ]
  },
  {
   "cell_type": "code",
   "execution_count": 6,
   "metadata": {},
   "outputs": [
    {
     "name": "stderr",
     "output_type": "stream",
     "text": [
      "C:\\Users\\anubr\\Anaconda3\\lib\\site-packages\\ipykernel_launcher.py:2: FutureWarning: The signature of `Series.to_csv` was aligned to that of `DataFrame.to_csv`, and argument 'header' will change its default value from False to True: please pass an explicit value to suppress this warning.\n",
      "  \n"
     ]
    }
   ],
   "source": [
    "#out1=rev_data.groupby('Gene_ID')['Position'].value_counts(sort=True)    \n",
    "#out1.to_csv('out1.csv')"
   ]
  },
  {
   "cell_type": "code",
   "execution_count": 19,
   "metadata": {},
   "outputs": [],
   "source": [
    "#out2=rev_data.groupby(['Gene_ID','Position','Old_codon/New_codon','Effect'])['Gene_ID'].count()    \n",
    "#out2.head()\n",
    "#out2.to_csv('out2.csv')"
   ]
  },
  {
   "cell_type": "code",
   "execution_count": 18,
   "metadata": {},
   "outputs": [
    {
     "data": {
      "text/plain": [
       "SYNONYMOUS_CODING            30300\n",
       "NON_SYNONYMOUS_CODING         5636\n",
       "INTERGENIC                    4418\n",
       "INTRAGENIC: Gene_gene2690      151\n",
       "SYNONYMOUS_STOP                 28\n",
       "                             ...  \n",
       "INTRAGENIC: gene352              1\n",
       "INTRAGENIC: gene1269             1\n",
       "INTRAGENIC: gene1960             1\n",
       "INTRAGENIC: gene1207             1\n",
       "INTRAGENIC: gene2481             1\n",
       "Name: Effect, Length: 148, dtype: int64"
      ]
     },
     "execution_count": 18,
     "metadata": {},
     "output_type": "execute_result"
    }
   ],
   "source": [
    "rev_nonsyn=rev_data[rev_data.Effect=='NON_SYNONYMOUS_CODING']\n",
    "rev_syn=rev_data[rev_data.Effect=='SYNONYMOUS_CODING']\n",
    "#rev_nonsyn.reset_index(inplace=True)\n",
    "#arti_new_nonsyn.drop(\"index\",axis=1,inplace=True)\n",
    "#arti_new_nonsyn=arti_new_nonsyn.loc[:,[\"Gene_ID\",\"Position\",\"Reference\",\"Variant\",\"Old_codon/New_codon\"]]\n",
    "#l=list(arti_new_nonsyn.columns)\n",
    "#l[4]=\"OlCod_NwCod\"\n",
    "#arti_new_nonsyn.columns=l\n",
    "#arti_new_nonsyn.head()\n",
    "rev_syn[\"Effect\"].value_counts()\n",
    "rev_data[\"Effect\"].value_counts()"
   ]
  },
  {
   "cell_type": "code",
   "execution_count": 24,
   "metadata": {},
   "outputs": [
    {
     "data": {
      "image/png": "[encoded data removed]",
      "text/plain": [
       "<Figure size 432x288 with 1 Axes>"
      ]
     },
     "metadata": {
      "needs_background": "light"
     },
     "output_type": "display_data"
    }
   ],
   "source": [
    "fig,ax=plt.subplots()\n",
    "ax.bar([\"SYNONYMOUS\",\"NON_SYNONYMOUS\",\"INTERGENIC\"],[30300,5636,4418],0.3,color=\"gray\")\n",
    "plt.title(\"Distribution of SNPs\",fontsize=20)\n",
    "plt.xticks(fontsize=20,rotation=45)\n",
    "plt.yticks(fontsize=20)\n",
    "plt.xlabel=\"LOCATION\"\n",
    "plt.show\n",
    "plt.savefig(\"SNP location.jpg\",dpi=100,bbox_inches=\"tight\")"
   ]
  },
  {
   "cell_type": "code",
   "execution_count": null,
   "metadata": {},
   "outputs": [],
   "source": []
  },
  {
   "cell_type": "code",
   "execution_count": 9,
   "metadata": {},
   "outputs": [
    {
     "data": {
      "text/plain": [
       "Gene_ID\n",
       "Gene_gene1182     1\n",
       "Gene_gene1241     1\n",
       "Gene_gene1244     2\n",
       "Gene_gene1470    10\n",
       "Gene_gene1549     2\n",
       "Name: Gene_ID, dtype: int64"
      ]
     },
     "execution_count": 9,
     "metadata": {},
     "output_type": "execute_result"
    }
   ],
   "source": [
    "out3=rev_data.groupby('Gene_ID')['Gene_ID'].count()  \n",
    "out3.head()"
   ]
  },
  {
   "cell_type": "code",
   "execution_count": 10,
   "metadata": {},
   "outputs": [
    {
     "data": {
      "text/plain": [
       "Intergenic       4418\n",
       "STM4261           159\n",
       "Gene_gene2690     151\n",
       "metH               65\n",
       "mukB               55\n",
       "STM4489            53\n",
       "gltB               52\n",
       "rpoC               52\n",
       "Name: Gene_ID, dtype: int64"
      ]
     },
     "execution_count": 10,
     "metadata": {},
     "output_type": "execute_result"
    }
   ],
   "source": [
    "x=pd.value_counts(rev_data.Gene_ID)\n",
    "x[x>50]"
   ]
  },
  {
   "cell_type": "code",
   "execution_count": null,
   "metadata": {},
   "outputs": [],
   "source": []
  },
  {
   "cell_type": "code",
   "execution_count": 11,
   "metadata": {},
   "outputs": [],
   "source": [
    "arti_new_nonsyn.to_csv('arti_new_nonsyn')"
   ]
  },
  {
   "cell_type": "code",
   "execution_count": 12,
   "metadata": {},
   "outputs": [],
   "source": [
    "#arti_new_syn=arti_data[arti_data.Effect=='SYNONYMOUS_CODING']\n",
    "#arti_new_syn=arti_new_syn.loc[:,[\"Gene_ID\",\"Position\",\"Reference\",\"Variant\",\"Old_codon/New_codon\"]]\n",
    "#arti_new_syn.columns=l\n",
    "#arti_new_syn.reset_index(inplace=True)\n",
    "#arti_new_syn.drop(\"index\",axis=1,inplace=True)\n",
    "#pd.value_counts(arti_new_syn.Gene_ID)\n",
    "#a=arti_new_syn[arti_new_syn.Gene_ID==\"STM4261\"]\n",
    "#b=arti_new_syn[arti_new_syn.Reference==\"G\"]\n",
    "#arti_new_syn.to_csv('arti_new_syn')"
   ]
  },
  {
   "cell_type": "code",
   "execution_count": 21,
   "metadata": {},
   "outputs": [],
   "source": [
    "#arti_old_data=pd.read_csv(\"Cip_2B_SNP.csv\",encoding=\"utf-16\")\n",
    "#arti_old_data.info()\n",
    "#arti_old_nonsyn=arti_old_data[arti_old_data.Effect=='NON_SYNONYMOUS_CODING']\n",
    "#arti_old_syn=arti_old_data[arti_old_data.Effect=='SYNONYMOUS_CODING']\n",
    "#arti_old_nonsyn.reset_index(inplace=True)\n",
    "#arti_old_nonsyn.drop(\"index\",axis=1,inplace=True)\n",
    "#arti_old_nonsyn=arti_old_nonsyn.loc[:,[\"Gene_ID\",\"Position\",\"Reference\",\"Variant\",\"Old_codon/New_codon\"]]\n",
    "#arti_old_nonsyn.head()\n",
    "#arti_old_nonsyn.to_csv('arti_old_nonsyn')"
   ]
  },
  {
   "cell_type": "code",
   "execution_count": null,
   "metadata": {},
   "outputs": [],
   "source": [
    "#arti_old_syn=arti_old_data[arti_old_data.Effect=='SYNONYMOUS_CODING']\n",
    "#arti_old_syn=arti_old_syn.loc[:,[\"Gene_ID\",\"Position\",\"Reference\",\"Variant\",\"Old_codon/New_codon\"]]\n",
    "#arti_old_syn.head()\n",
    "#arti_old_syn.to_csv('arti_old_syn')"
   ]
  },
  {
   "cell_type": "code",
   "execution_count": null,
   "metadata": {},
   "outputs": [],
   "source": [
    "#arti_old_syn.head()"
   ]
  },
  {
   "cell_type": "code",
   "execution_count": null,
   "metadata": {},
   "outputs": [],
   "source": [
    "#arti_new_syn.drop('index',axis=1,inplace=True)\n",
    "#arti_new_syn_counts=pd.value_counts(arti_new_syn.Gene_ID)\n",
    "#arti_new_syn_counts=pd.DataFrame(arti_new_syn_counts)\n",
    "#arti_new_syn_counts.reset_index(inplace=True)\n",
    "#arti_new_syn_counts.columns=[\"Gene_ID\",\"count\"]\n",
    "#arti_new_syn_counts.head()\n",
    "#arti_new_syn_counts.to_csv('new_syn_counts')"
   ]
  },
  {
   "cell_type": "code",
   "execution_count": 23,
   "metadata": {},
   "outputs": [
    {
     "data": {
      "text/plain": [
       "'C:\\\\Users\\\\anubr'"
      ]
     },
     "execution_count": 23,
     "metadata": {},
     "output_type": "execute_result"
    }
   ],
   "source": [
    "import os\n",
    "os.getcwd()"
   ]
  },
  {
   "cell_type": "code",
   "execution_count": 22,
   "metadata": {},
   "outputs": [
    {
     "data": {
      "text/html": [
       "<div>\n",
       "<style scoped>\n",
       "    .dataframe tbody tr th:only-of-type {\n",
       "        vertical-align: middle;\n",
       "    }\n",
       "\n",
       "    .dataframe tbody tr th {\n",
       "        vertical-align: top;\n",
       "    }\n",
       "\n",
       "    .dataframe thead th {\n",
       "        text-align: right;\n",
       "    }\n",
       "</style>\n",
       "<table border=\"1\" class=\"dataframe\">\n",
       "  <thead>\n",
       "    <tr style=\"text-align: right;\">\n",
       "      <th></th>\n",
       "      <th>Position</th>\n",
       "      <th>Reference</th>\n",
       "      <th>Variant</th>\n",
       "      <th>Quality</th>\n",
       "      <th>Coverage</th>\n",
       "      <th>Gene_ID</th>\n",
       "      <th>Exon_Rank</th>\n",
       "      <th>Effect</th>\n",
       "      <th>old_AA/new_AA</th>\n",
       "      <th>Old_codon/New_codon</th>\n",
       "      <th>Codon_Num(CDS)</th>\n",
       "    </tr>\n",
       "  </thead>\n",
       "  <tbody>\n",
       "    <tr>\n",
       "      <td>0</td>\n",
       "      <td>507</td>\n",
       "      <td>C</td>\n",
       "      <td>T</td>\n",
       "      <td>221.999</td>\n",
       "      <td>1028</td>\n",
       "      <td>thrA</td>\n",
       "      <td>1</td>\n",
       "      <td>SYNONYMOUS_CODING</td>\n",
       "      <td>G/G</td>\n",
       "      <td>ggC/ggT</td>\n",
       "      <td>57.0</td>\n",
       "    </tr>\n",
       "    <tr>\n",
       "      <td>1</td>\n",
       "      <td>537</td>\n",
       "      <td>A</td>\n",
       "      <td>C</td>\n",
       "      <td>221.999</td>\n",
       "      <td>1130</td>\n",
       "      <td>thrA</td>\n",
       "      <td>1</td>\n",
       "      <td>SYNONYMOUS_CODING</td>\n",
       "      <td>A/A</td>\n",
       "      <td>gcA/gcC</td>\n",
       "      <td>67.0</td>\n",
       "    </tr>\n",
       "    <tr>\n",
       "      <td>2</td>\n",
       "      <td>744</td>\n",
       "      <td>A</td>\n",
       "      <td>C</td>\n",
       "      <td>221.999</td>\n",
       "      <td>1316</td>\n",
       "      <td>thrA</td>\n",
       "      <td>1</td>\n",
       "      <td>SYNONYMOUS_CODING</td>\n",
       "      <td>G/G</td>\n",
       "      <td>ggA/ggC</td>\n",
       "      <td>136.0</td>\n",
       "    </tr>\n",
       "    <tr>\n",
       "      <td>3</td>\n",
       "      <td>747</td>\n",
       "      <td>T</td>\n",
       "      <td>C</td>\n",
       "      <td>221.999</td>\n",
       "      <td>1431</td>\n",
       "      <td>thrA</td>\n",
       "      <td>1</td>\n",
       "      <td>SYNONYMOUS_CODING</td>\n",
       "      <td>L/L</td>\n",
       "      <td>ctT/ctC</td>\n",
       "      <td>137.0</td>\n",
       "    </tr>\n",
       "    <tr>\n",
       "      <td>4</td>\n",
       "      <td>762</td>\n",
       "      <td>G</td>\n",
       "      <td>A</td>\n",
       "      <td>221.999</td>\n",
       "      <td>1355</td>\n",
       "      <td>thrA</td>\n",
       "      <td>1</td>\n",
       "      <td>SYNONYMOUS_CODING</td>\n",
       "      <td>G/G</td>\n",
       "      <td>ggG/ggA</td>\n",
       "      <td>142.0</td>\n",
       "    </tr>\n",
       "  </tbody>\n",
       "</table>\n",
       "</div>"
      ],
      "text/plain": [
       "   Position Reference Variant  Quality  Coverage Gene_ID Exon_Rank  \\\n",
       "0       507         C       T  221.999      1028    thrA         1   \n",
       "1       537         A       C  221.999      1130    thrA         1   \n",
       "2       744         A       C  221.999      1316    thrA         1   \n",
       "3       747         T       C  221.999      1431    thrA         1   \n",
       "4       762         G       A  221.999      1355    thrA         1   \n",
       "\n",
       "              Effect old_AA/new_AA Old_codon/New_codon  Codon_Num(CDS)  \n",
       "0  SYNONYMOUS_CODING           G/G             ggC/ggT            57.0  \n",
       "1  SYNONYMOUS_CODING           A/A             gcA/gcC            67.0  \n",
       "2  SYNONYMOUS_CODING           G/G             ggA/ggC           136.0  \n",
       "3  SYNONYMOUS_CODING           L/L             ctT/ctC           137.0  \n",
       "4  SYNONYMOUS_CODING           G/G             ggG/ggA           142.0  "
      ]
     },
     "execution_count": 22,
     "metadata": {},
     "output_type": "execute_result"
    }
   ],
   "source": [
    "rev_data.head()\n",
    "#rev_data.shape"
   ]
  },
  {
   "cell_type": "code",
   "execution_count": 33,
   "metadata": {},
   "outputs": [
    {
     "data": {
      "text/plain": [
       "(4238, 52)"
      ]
     },
     "execution_count": 33,
     "metadata": {},
     "output_type": "execute_result"
    }
   ],
   "source": [
    "#rpoC mutation distribution\n",
    "rpoC_data=rev_data[rev_data.Gene_ID==\"rpoC\"]\n",
    "rpoC_mutSites=list(rpoC_data[\"Position\"])\n",
    "rpoC_mutSites\n",
    "rpoC_gene=[n for n in range(4370012,4374250)]\n",
    "len(rpoC_gene),len(rpoC_mutSites)"
   ]
  },
  {
   "cell_type": "code",
   "execution_count": 73,
   "metadata": {},
   "outputs": [
    {
     "name": "stderr",
     "output_type": "stream",
     "text": [
      "/home/anubrata/anaconda3/lib/python3.7/site-packages/ipykernel_launcher.py:2: UserWarning: In Matplotlib 3.3 individual lines on a stem plot will be added as a LineCollection instead of individual lines. This significantly improves the performance of a stem plot. To remove this warning and switch to the new behaviour, set the \"use_line_collection\" keyword argument to True.\n",
      "  \n"
     ]
    },
    {
     "data": {
      "image/png": "[encoded data removed]",
      "text/plain": [
       "<Figure size 432x288 with 1 Axes>"
      ]
     },
     "metadata": {
      "needs_background": "light"
     },
     "output_type": "display_data"
    }
   ],
   "source": [
    "values=np.random.uniform(size=52,low=0.2,high=0.5)\n",
    "plt.stem(rpoC_mutSites,values)\n",
    "plt.title(\"SNPs in rpoC\",fontsize=20)\n",
    "plt.xlim(4370157,4374198)\n",
    "plt.ylim(0,0.7)\n",
    "locs,labels=plt.xticks()\n",
    "lst=[n for n in range(0,4240,(4240//10))]\n",
    "plt.xticks(locs,lst)\n",
    "plt.savefig(\"SNP rpoC.jpg\",dpi=100,bbox_inches=\"tight\")"
   ]
  },
  {
   "cell_type": "code",
   "execution_count": 45,
   "metadata": {},
   "outputs": [
    {
     "data": {
      "text/plain": [
       "[4370157,\n",
       " 4370346,\n",
       " 4370568,\n",
       " 4370670,\n",
       " 4370709,\n",
       " 4370808,\n",
       " 4370811,\n",
       " 4370814,\n",
       " 4370817,\n",
       " 4370886,\n",
       " 4370904,\n",
       " 4370944,\n",
       " 4370994,\n",
       " 4371027,\n",
       " 4371030,\n",
       " 4371177,\n",
       " 4371234,\n",
       " 4371261,\n",
       " 4371306,\n",
       " 4371309,\n",
       " 4371393,\n",
       " 4371489,\n",
       " 4371561,\n",
       " 4372035,\n",
       " 4372107,\n",
       " 4372176,\n",
       " 4372245,\n",
       " 4372353,\n",
       " 4372449,\n",
       " 4372677,\n",
       " 4372725,\n",
       " 4373191,\n",
       " 4373298,\n",
       " 4373346,\n",
       " 4373400,\n",
       " 4373454,\n",
       " 4373481,\n",
       " 4373574,\n",
       " 4373577,\n",
       " 4373661,\n",
       " 4373682,\n",
       " 4373700,\n",
       " 4373724,\n",
       " 4373736,\n",
       " 4373871,\n",
       " 4373874,\n",
       " 4373910,\n",
       " 4374042,\n",
       " 4374087,\n",
       " 4374102,\n",
       " 4374144,\n",
       " 4374198]"
      ]
     },
     "execution_count": 45,
     "metadata": {},
     "output_type": "execute_result"
    }
   ],
   "source": [
    "rpoC_mutSites"
   ]
  },
  {
   "cell_type": "code",
   "execution_count": 24,
   "metadata": {},
   "outputs": [
    {
     "data": {
      "text/plain": [
       "39.60301532135689"
      ]
     },
     "execution_count": 24,
     "metadata": {},
     "output_type": "execute_result"
    }
   ],
   "source": [
    "AG_transition=rev_data[(rev_data.Reference=='A') & (rev_data.Variant=='G')].Position.count()\n",
    "GA_transition=rev_data[(rev_data.Reference=='G') & (rev_data.Variant=='A')].Position.count()\n",
    "sum_AG=AG_transition+GA_transition\n",
    "tot_count=rev_data.Position.count()\n",
    "perct_AG=(sum_AG/tot_count)*100\n",
    "perct_AG"
   ]
  },
  {
   "cell_type": "code",
   "execution_count": 25,
   "metadata": {},
   "outputs": [
    {
     "data": {
      "text/plain": [
       "39.63972783787752"
      ]
     },
     "execution_count": 25,
     "metadata": {},
     "output_type": "execute_result"
    }
   ],
   "source": [
    "CT_transition=rev_data[(rev_data.Reference=='C') & (rev_data.Variant=='T')].Position.count()\n",
    "TC_transition=rev_data[(rev_data.Reference=='T') & (rev_data.Variant=='C')].Position.count()\n",
    "sum_CT=CT_transition+TC_transition\n",
    "tot_count=rev_data.Position.count()\n",
    "perct_CT=(sum_CT/tot_count)*100\n",
    "perct_CT"
   ]
  },
  {
   "cell_type": "code",
   "execution_count": 26,
   "metadata": {},
   "outputs": [
    {
     "data": {
      "text/plain": [
       "79.24274315923441"
      ]
     },
     "execution_count": 26,
     "metadata": {},
     "output_type": "execute_result"
    }
   ],
   "source": [
    "perct_transition=perct_AG+perct_CT\n",
    "perct_transition"
   ]
  },
  {
   "cell_type": "code",
   "execution_count": 42,
   "metadata": {},
   "outputs": [
    {
     "data": {
      "text/plain": [
       "4.040824318370944"
      ]
     },
     "execution_count": 42,
     "metadata": {},
     "output_type": "execute_result"
    }
   ],
   "source": [
    "GC_transversion=rev_data[(rev_data.Reference=='G') & (rev_data.Variant=='C')].Position.count()\n",
    "CG_transversion=rev_data[(rev_data.Reference=='C') & (rev_data.Variant=='G')].Position.count()\n",
    "sum_GC=GC_transversion +CG_transversion\n",
    "tot_count=rev_data.Position.count()\n",
    "perct_GC=(sum_GC/tot_count)*100\n",
    "perct_GC"
   ]
  },
  {
   "cell_type": "code",
   "execution_count": 43,
   "metadata": {},
   "outputs": [
    {
     "data": {
      "text/plain": [
       "3.798521709334769"
      ]
     },
     "execution_count": 43,
     "metadata": {},
     "output_type": "execute_result"
    }
   ],
   "source": [
    "AT_transversion=rev_data[(rev_data.Reference=='A') & (rev_data.Variant=='T')].Position.count()\n",
    "TA_transversion=rev_data[(rev_data.Reference=='T') & (rev_data.Variant=='A')].Position.count()\n",
    "sum_AT=AT_transversion +TA_transversion\n",
    "tot_count=rev_data.Position.count()\n",
    "perct_AT=(sum_AT/tot_count)*100\n",
    "perct_AT"
   ]
  },
  {
   "cell_type": "code",
   "execution_count": 44,
   "metadata": {},
   "outputs": [
    {
     "data": {
      "text/plain": [
       "6.361055362474913"
      ]
     },
     "execution_count": 44,
     "metadata": {},
     "output_type": "execute_result"
    }
   ],
   "source": [
    "AC_transversion=rev_data[(rev_data.Reference=='A') & (rev_data.Variant=='C')].Position.count()\n",
    "CA_transversion=rev_data[(rev_data.Reference=='C') & (rev_data.Variant=='A')].Position.count()\n",
    "sum_AC=AC_transversion +CA_transversion\n",
    "tot_count=rev_data.Position.count()\n",
    "perct_AC=(sum_AC/tot_count)*100\n",
    "perct_AC"
   ]
  },
  {
   "cell_type": "code",
   "execution_count": 45,
   "metadata": {},
   "outputs": [
    {
     "data": {
      "text/plain": [
       "6.556855450584953"
      ]
     },
     "execution_count": 45,
     "metadata": {},
     "output_type": "execute_result"
    }
   ],
   "source": [
    "GT_transversion=rev_data[(rev_data.Reference=='G') & (rev_data.Variant=='T')].Position.count()\n",
    "TG_transversion=rev_data[(rev_data.Reference=='T') & (rev_data.Variant=='G')].Position.count()\n",
    "sum_GT=GT_transversion +TG_transversion\n",
    "tot_count=rev_data.Position.count()\n",
    "perct_GT=(sum_GT/tot_count)*100\n",
    "perct_GT"
   ]
  },
  {
   "cell_type": "code",
   "execution_count": 47,
   "metadata": {},
   "outputs": [
    {
     "data": {
      "text/plain": [
       "20.757256840765578"
      ]
     },
     "execution_count": 47,
     "metadata": {},
     "output_type": "execute_result"
    }
   ],
   "source": [
    "perct_transversion=perct_GC+perct_AT+perct_AC+perct_GT\n",
    "perct_transversion"
   ]
  },
  {
   "cell_type": "code",
   "execution_count": 27,
   "metadata": {},
   "outputs": [],
   "source": [
    "import matplotlib.pyplot as plt\n",
    "import seaborn as sns\n",
    "%matplotlib inline"
   ]
  },
  {
   "cell_type": "code",
   "execution_count": 70,
   "metadata": {},
   "outputs": [
    {
     "data": {
      "image/png": "[encoded data removed]",
      "text/plain": [
       "<Figure size 432x288 with 1 Axes>"
      ]
     },
     "metadata": {
      "needs_background": "light"
     },
     "output_type": "display_data"
    }
   ],
   "source": [
    "fig,ax=plt.subplots()\n",
    "ax.bar([\"Transitions\",\"Transversions\"],[79.24,20.75],0.3,color=\"gray\")\n",
    "plt.title(\"Distribution of SNPs\",fontsize=20)\n",
    "plt.xticks(fontsize=20)\n",
    "plt.yticks(fontsize=20)\n",
    "plt.xlabel=\"SNPs\"\n",
    "plt.show\n",
    "plt.savefig(\"SNP dist.png\")"
   ]
  },
  {
   "cell_type": "code",
   "execution_count": null,
   "metadata": {},
   "outputs": [],
   "source": [
    "vec=np.arange(437002,4374250)\n",
    "\n",
    "vec\n"
   ]
  },
  {
   "cell_type": "code",
   "execution_count": null,
   "metadata": {},
   "outputs": [],
   "source": [
    "rev_data.head()\n"
   ]
  },
  {
   "cell_type": "code",
   "execution_count": null,
   "metadata": {},
   "outputs": [],
   "source": []
  }
 ],
 "metadata": {
  "kernelspec": {
   "display_name": "Python 3",
   "language": "python",
   "name": "python3"
  },
  "language_info": {
   "codemirror_mode": {
    "name": "ipython",
    "version": 3
   },
   "file_extension": ".py",
   "mimetype": "text/x-python",
   "name": "python",
   "nbconvert_exporter": "python",
   "pygments_lexer": "ipython3",
   "version": "3.7.6"
  }
 },
 "nbformat": 4,
 "nbformat_minor": 4
}
