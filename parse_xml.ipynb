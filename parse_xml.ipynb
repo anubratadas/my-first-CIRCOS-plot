{
 "cells": [
  {
   "cell_type": "code",
   "execution_count": 1,
   "metadata": {},
   "outputs": [],
   "source": [
    "import xml.etree.ElementTree as ET"
   ]
  },
  {
   "cell_type": "code",
   "execution_count": 23,
   "metadata": {},
   "outputs": [],
   "source": [
    "# xml parsing from xml file downloaded by esearch utility of NCBI\n",
    "tree=ET.parse('cancer_inhib_affy_human')"
   ]
  },
  {
   "cell_type": "code",
   "execution_count": 24,
   "metadata": {},
   "outputs": [],
   "source": [
    "root=tree.getroot()"
   ]
  },
  {
   "cell_type": "code",
   "execution_count": 26,
   "metadata": {},
   "outputs": [
    {
     "name": "stdout",
     "output_type": "stream",
     "text": [
      "[<Element 'Count' at 0x000001DAEA55AE08>, <Element 'RetMax' at 0x000001DAEA55AEF8>, <Element 'RetStart' at 0x000001DAEA51AE58>, <Element 'IdList' at 0x000001DAEA51AC78>, <Element 'TranslationSet' at 0x000001DAEA800958>, <Element 'TranslationStack' at 0x000001DAEA800E58>, <Element 'QueryTranslation' at 0x000001DAEA8562C8>]\n"
     ]
    },
    {
     "name": "stderr",
     "output_type": "stream",
     "text": [
      "C:\\Users\\anubr\\Anaconda3\\lib\\site-packages\\ipykernel_launcher.py:1: DeprecationWarning: This method will be removed in future versions.  Use 'list(elem)' or iteration over elem instead.\n",
      "  \"\"\"Entry point for launching an IPython kernel.\n"
     ]
    }
   ],
   "source": [
    "print(root.getchildren())"
   ]
  },
  {
   "cell_type": "code",
   "execution_count": 50,
   "metadata": {},
   "outputs": [
    {
     "name": "stdout",
     "output_type": "stream",
     "text": [
      "200141170\n",
      "200149784\n",
      "200148858\n",
      "200148851\n",
      "200125975\n",
      "200148242\n",
      "200136614\n",
      "200136613\n",
      "200128400\n",
      "200133513\n",
      "200147484\n",
      "200128737\n",
      "200128649\n",
      "200146911\n",
      "200143007\n",
      "200052099\n",
      "200145725\n",
      "200137178\n",
      "200141176\n",
      "200114457\n"
     ]
    }
   ],
   "source": [
    "for item in root.iter('Id'):\n",
    "    print(item.text)"
   ]
  },
  {
   "cell_type": "code",
   "execution_count": 2,
   "metadata": {},
   "outputs": [],
   "source": [
    "# script imported from POSTMAN for downloading record from GEO dataset for cancer + inhibitor + human + affymetrix\n",
    "import requests\n",
    "\n",
    "url = \"https://eutils.ncbi.nlm.nih.gov/entrez/eutils/esearch.fcgi?db=gds&term=cancer+AND+inhibitor+AND+Human+AND+Affymetrix\"\n",
    "payload = {}\n",
    "headers = {\n",
    "  'Cookie': 'ncbi_sid=6855898911E7D263_9047SID'\n",
    "}\n",
    "response = requests.request(\"GET\", url, headers=headers, data = payload)"
   ]
  },
  {
   "cell_type": "code",
   "execution_count": 3,
   "metadata": {},
   "outputs": [],
   "source": [
    "# io is needed if we get data as python request object. if saved as xml file then directly the file can be parsed \n",
    "import io\n",
    "tree=ET.parse(io.StringIO(response.text))"
   ]
  },
  {
   "cell_type": "code",
   "execution_count": 5,
   "metadata": {},
   "outputs": [],
   "source": [
    "# getting the root of the xml file\n",
    "root=tree.getroot()"
   ]
  },
  {
   "cell_type": "code",
   "execution_count": 6,
   "metadata": {},
   "outputs": [
    {
     "name": "stdout",
     "output_type": "stream",
     "text": [
      "Count {} 918\n",
      "RetMax {} 20\n",
      "RetStart {} 0\n",
      "IdList {} \n",
      "\n",
      "TranslationSet {} None\n",
      "TranslationStack {}    \n",
      "QueryTranslation {} (\"neoplasms\"[MeSH Terms] OR cancer[All Fields]) AND inhibitor[All Fields] AND (\"humans\"[MeSH Terms] OR \"Homo sapiens\"[Organism] OR Human[All Fields]) AND Affymetrix[All Fields]\n"
     ]
    }
   ],
   "source": [
    "# Count is the number of matches found, RetMax is a parameter for results returned, the default is 20. IdList is the list of GEO files\n",
    "for element in root:\n",
    "    print(element.tag,element.attrib,element.text)"
   ]
  },
  {
   "cell_type": "code",
   "execution_count": 26,
   "metadata": {},
   "outputs": [
    {
     "name": "stdout",
     "output_type": "stream",
     "text": [
      "918\n"
     ]
    }
   ],
   "source": [
    "# \n",
    "for item in root.findall('Count'):\n",
    "    print(item.text)"
   ]
  },
  {
   "cell_type": "code",
   "execution_count": 27,
   "metadata": {},
   "outputs": [
    {
     "name": "stdout",
     "output_type": "stream",
     "text": [
      "20\n"
     ]
    }
   ],
   "source": [
    "# RetMax is the maximal value of results returned\n",
    "for item in root.findall('RetMax'):\n",
    "    print(item.text)"
   ]
  },
  {
   "cell_type": "code",
   "execution_count": 7,
   "metadata": {},
   "outputs": [
    {
     "name": "stderr",
     "output_type": "stream",
     "text": [
      "/home/anubratadas/anaconda3/lib/python3.7/site-packages/ipykernel_launcher.py:2: DeprecationWarning: This method will be removed in future versions.  Use 'list(elem)' or iteration over elem instead.\n",
      "  \n"
     ]
    },
    {
     "data": {
      "text/plain": [
       "[<Element 'Count' at 0x7fcbba772650>,\n",
       " <Element 'RetMax' at 0x7fcbba7726b0>,\n",
       " <Element 'RetStart' at 0x7fcbba772710>,\n",
       " <Element 'IdList' at 0x7fcbba772770>,\n",
       " <Element 'TranslationSet' at 0x7fcbba772fb0>,\n",
       " <Element 'TranslationStack' at 0x7fcbba6e4350>,\n",
       " <Element 'QueryTranslation' at 0x7fcbba6e6410>]"
      ]
     },
     "execution_count": 7,
     "metadata": {},
     "output_type": "execute_result"
    }
   ],
   "source": [
    "# the child nodes of the root\n",
    "root.getchildren()"
   ]
  },
  {
   "cell_type": "code",
   "execution_count": 8,
   "metadata": {},
   "outputs": [
    {
     "name": "stdout",
     "output_type": "stream",
     "text": [
      "<Element 'IdList' at 0x7fcbba772770>\n"
     ]
    }
   ],
   "source": [
    "# collect a child by tag\n",
    "x=root.find('IdList')\n",
    "print(x)"
   ]
  },
  {
   "cell_type": "code",
   "execution_count": 9,
   "metadata": {},
   "outputs": [
    {
     "name": "stdout",
     "output_type": "stream",
     "text": [
      "<Element 'IdList' at 0x7fcbba772770>\n"
     ]
    },
    {
     "name": "stderr",
     "output_type": "stream",
     "text": [
      "/home/anubratadas/anaconda3/lib/python3.7/site-packages/ipykernel_launcher.py:2: DeprecationWarning: This method will be removed in future versions.  Use 'list(elem)' or iteration over elem instead.\n",
      "  \n"
     ]
    }
   ],
   "source": [
    "# collect a child by subscription\n",
    "y=root.getchildren()[3]\n",
    "print(y)"
   ]
  },
  {
   "cell_type": "code",
   "execution_count": 10,
   "metadata": {},
   "outputs": [
    {
     "name": "stdout",
     "output_type": "stream",
     "text": [
      "Id {} 200141170\n",
      "Id {} 200149784\n",
      "Id {} 200148858\n",
      "Id {} 200148851\n",
      "Id {} 200125975\n",
      "Id {} 200148242\n",
      "Id {} 200136614\n",
      "Id {} 200136613\n",
      "Id {} 200128400\n",
      "Id {} 200133513\n",
      "Id {} 200147484\n",
      "Id {} 200128737\n",
      "Id {} 200128649\n",
      "Id {} 200146911\n",
      "Id {} 200143007\n",
      "Id {} 200052099\n",
      "Id {} 200145725\n",
      "Id {} 200137178\n",
      "Id {} 200141176\n",
      "Id {} 200114457\n"
     ]
    }
   ],
   "source": [
    "# loop for printing the list of ids\n",
    "for item in x:\n",
    "    print(item.tag,item.attrib,item.text)"
   ]
  },
  {
   "cell_type": "code",
   "execution_count": 11,
   "metadata": {},
   "outputs": [
    {
     "name": "stdout",
     "output_type": "stream",
     "text": [
      "['200141170', '200149784', '200148858', '200148851', '200125975', '200148242', '200136614', '200136613', '200128400', '200133513', '200147484', '200128737', '200128649', '200146911', '200143007', '200052099', '200145725', '200137178', '200141176', '200114457']\n"
     ]
    }
   ],
   "source": [
    "# the IDs are collected in a list \n",
    "lst_dwnld=[]\n",
    "for item in x:\n",
    "    lst_dwnld.append(item.text)\n",
    "print(lst_dwnld)    "
   ]
  },
  {
   "cell_type": "code",
   "execution_count": 23,
   "metadata": {},
   "outputs": [],
   "source": [
    "#the list is saved as a file\n",
    "fh=open('lst_dwnld','w+')\n",
    "fh.write(str(lst_dwnld))\n",
    "fh.close()"
   ]
  },
  {
   "cell_type": "code",
   "execution_count": 99,
   "metadata": {},
   "outputs": [],
   "source": [
    "# since count has shown 918 records we will modify our response to get all the 918 records\n",
    "import requests\n",
    "# adding RetMax value to url\n",
    "new_url = \"https://eutils.ncbi.nlm.nih.gov/entrez/eutils/esearch.fcgi?RetMax=1000&db=gds&term=cancer+AND+inhibitor+AND+Human+AND+Affymetrix\"\n",
    "payload = {}\n",
    "headers = {\n",
    "  'Cookie': 'ncbi_sid=6855898911E7D263_9047SID'\n",
    "}\n",
    "new_response = requests.request(\"GET\", new_url, headers=headers, data = payload)"
   ]
  },
  {
   "cell_type": "code",
   "execution_count": 100,
   "metadata": {},
   "outputs": [],
   "source": [
    "new_tree=ET.parse(io.StringIO(new_response.text))"
   ]
  },
  {
   "cell_type": "code",
   "execution_count": 101,
   "metadata": {},
   "outputs": [],
   "source": [
    "new_root=new_tree.getroot()"
   ]
  },
  {
   "cell_type": "code",
   "execution_count": 102,
   "metadata": {},
   "outputs": [
    {
     "name": "stderr",
     "output_type": "stream",
     "text": [
      "C:\\Users\\anubr\\Anaconda3\\lib\\site-packages\\ipykernel_launcher.py:1: DeprecationWarning: This method will be removed in future versions.  Use 'list(elem)' or iteration over elem instead.\n",
      "  \"\"\"Entry point for launching an IPython kernel.\n"
     ]
    },
    {
     "data": {
      "text/plain": [
       "[<Element 'Count' at 0x000001E3FC465D18>,\n",
       " <Element 'RetMax' at 0x000001E3FC465BD8>,\n",
       " <Element 'RetStart' at 0x000001E3FC4656D8>,\n",
       " <Element 'IdList' at 0x000001E3FC4655E8>,\n",
       " <Element 'TranslationSet' at 0x000001E3FB74F6D8>,\n",
       " <Element 'TranslationStack' at 0x000001E3FB74FA98>,\n",
       " <Element 'QueryTranslation' at 0x000001E3FB7573B8>]"
      ]
     },
     "execution_count": 102,
     "metadata": {},
     "output_type": "execute_result"
    }
   ],
   "source": [
    "new_root.getchildren()"
   ]
  },
  {
   "cell_type": "code",
   "execution_count": 89,
   "metadata": {},
   "outputs": [
    {
     "name": "stdout",
     "output_type": "stream",
     "text": [
      "Count {} 918\n",
      "RetMax {} 918\n",
      "RetStart {} 0\n",
      "IdList {} \n",
      "\n",
      "TranslationSet {} None\n",
      "TranslationStack {}    \n",
      "QueryTranslation {} (\"neoplasms\"[MeSH Terms] OR cancer[All Fields]) AND inhibitor[All Fields] AND (\"humans\"[MeSH Terms] OR \"Homo sapiens\"[Organism] OR Human[All Fields]) AND Affymetrix[All Fields]\n"
     ]
    }
   ],
   "source": [
    "# the returned results has increased to 918\n",
    "for element in new_root:\n",
    "    print(element.tag,element.attrib,element.text)"
   ]
  },
  {
   "cell_type": "code",
   "execution_count": 105,
   "metadata": {},
   "outputs": [
    {
     "name": "stdout",
     "output_type": "stream",
     "text": [
      "<Element 'IdList' at 0x000001E3FC4655E8>\n"
     ]
    }
   ],
   "source": [
    "idlist=new_root.find('IdList')\n",
    "print(idlist)"
   ]
  },
  {
   "cell_type": "code",
   "execution_count": 107,
   "metadata": {},
   "outputs": [],
   "source": [
    "listofID=[]\n",
    "for child in idlist:\n",
    "    listofID.append(child.text)"
   ]
  },
  {
   "cell_type": "code",
   "execution_count": 108,
   "metadata": {},
   "outputs": [
    {
     "data": {
      "text/plain": [
       "918"
      ]
     },
     "execution_count": 108,
     "metadata": {},
     "output_type": "execute_result"
    }
   ],
   "source": [
    "len(listofID)"
   ]
  },
  {
   "cell_type": "code",
   "execution_count": null,
   "metadata": {},
   "outputs": [],
   "source": []
  }
 ],
 "metadata": {
  "kernelspec": {
   "display_name": "Python 3",
   "language": "python",
   "name": "python3"
  },
  "language_info": {
   "codemirror_mode": {
    "name": "ipython",
    "version": 3
   },
   "file_extension": ".py",
   "mimetype": "text/x-python",
   "name": "python",
   "nbconvert_exporter": "python",
   "pygments_lexer": "ipython3",
   "version": "3.7.6"
  }
 },
 "nbformat": 4,
 "nbformat_minor": 4
}
