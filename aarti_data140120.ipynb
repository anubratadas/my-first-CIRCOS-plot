{
 "cells": [
  {
   "cell_type": "code",
   "execution_count": 39,
   "metadata": {},
   "outputs": [
    {
     "data": {
      "text/plain": [
       "'/home/anubrata/Documents/datascience'"
      ]
     },
     "execution_count": 39,
     "metadata": {},
     "output_type": "execute_result"
    }
   ],
   "source": [
    "import os\n",
    "import numpy as np\n",
    "import pandas as pd\n",
    "\n",
    "os.getcwd()"
   ]
  },
  {
   "cell_type": "code",
   "execution_count": 40,
   "metadata": {},
   "outputs": [],
   "source": [
    "arti_data=pd.read_csv(\"A_cip-1_SNP.csv\",encoding=\"utf-16\")"
   ]
  },
  {
   "cell_type": "code",
   "execution_count": 44,
   "metadata": {},
   "outputs": [
    {
     "name": "stdout",
     "output_type": "stream",
     "text": [
      "<class 'pandas.core.frame.DataFrame'>\n",
      "RangeIndex: 40858 entries, 0 to 40857\n",
      "Data columns (total 16 columns):\n",
      "Chrom                  40858 non-null object\n",
      "Position               40858 non-null int64\n",
      "Reference              40858 non-null object\n",
      "Variant                40858 non-null object\n",
      "Type                   40858 non-null object\n",
      "Zygosity               40858 non-null object\n",
      "Quality                40858 non-null float64\n",
      "Coverage               40858 non-null int64\n",
      "Gene_ID                40858 non-null object\n",
      "Trancript_ID           40858 non-null object\n",
      "Exon_ID                40858 non-null object\n",
      "Exon_Rank              40858 non-null object\n",
      "Effect                 40858 non-null object\n",
      "old_AA/new_AA          36001 non-null object\n",
      "Old_codon/New_codon    36001 non-null object\n",
      "Codon_Num(CDS)         36001 non-null float64\n",
      "dtypes: float64(2), int64(2), object(12)\n",
      "memory usage: 5.0+ MB\n"
     ]
    }
   ],
   "source": [
    "arti_data.info()"
   ]
  },
  {
   "cell_type": "code",
   "execution_count": 56,
   "metadata": {},
   "outputs": [
    {
     "data": {
      "text/plain": [
       "Intergenic       4418\n",
       "STM4261           159\n",
       "Gene_gene2690     151\n",
       "metH               65\n",
       "mukB               55\n",
       "STM4489            53\n",
       "gltB               52\n",
       "rpoC               52\n",
       "Name: Gene_ID, dtype: int64"
      ]
     },
     "execution_count": 56,
     "metadata": {},
     "output_type": "execute_result"
    }
   ],
   "source": [
    "rev_data=arti_data.drop(['Chrom','Type','Zygosity','Trancript_ID','Exon_ID'],axis=1)\n",
    "rev_data['Gene_ID']=rev_data['Gene_ID'].replace('--','Intergenic')\n",
    "highly_mutated=pd.value_counts(rev_data.Gene_ID)\n",
    "highly_mutated[highly_mutated>50]"
   ]
  },
  {
   "cell_type": "code",
   "execution_count": 58,
   "metadata": {},
   "outputs": [],
   "source": [
    "high_mut_list=['STM4261','Gene_gene2690','metH','mukB','STM4489','gltB','rpoC']\n",
    "high_mut_df=rev_data.loc[rev_data['Gene_ID'].isin(high_mut_list)]"
   ]
  },
  {
   "cell_type": "code",
   "execution_count": 37,
   "metadata": {},
   "outputs": [
    {
     "data": {
      "text/html": [
       "<div>\n",
       "<style scoped>\n",
       "    .dataframe tbody tr th:only-of-type {\n",
       "        vertical-align: middle;\n",
       "    }\n",
       "\n",
       "    .dataframe tbody tr th {\n",
       "        vertical-align: top;\n",
       "    }\n",
       "\n",
       "    .dataframe thead th {\n",
       "        text-align: right;\n",
       "    }\n",
       "</style>\n",
       "<table border=\"1\" class=\"dataframe\">\n",
       "  <thead>\n",
       "    <tr style=\"text-align: right;\">\n",
       "      <th></th>\n",
       "      <th>Chrom</th>\n",
       "      <th>Position</th>\n",
       "      <th>Reference</th>\n",
       "      <th>Variant</th>\n",
       "      <th>Type</th>\n",
       "      <th>Zygosity</th>\n",
       "      <th>Quality</th>\n",
       "      <th>Coverage</th>\n",
       "      <th>Gene_ID</th>\n",
       "      <th>Trancript_ID</th>\n",
       "      <th>Exon_ID</th>\n",
       "      <th>Exon_Rank</th>\n",
       "      <th>Effect</th>\n",
       "      <th>old_AA/new_AA</th>\n",
       "      <th>Old_codon/New_codon</th>\n",
       "      <th>Codon_Num(CDS)</th>\n",
       "    </tr>\n",
       "  </thead>\n",
       "  <tbody>\n",
       "    <tr>\n",
       "      <td>42</td>\n",
       "      <td>NC_003197.2</td>\n",
       "      <td>5890</td>\n",
       "      <td>T</td>\n",
       "      <td>C</td>\n",
       "      <td>SNP</td>\n",
       "      <td>Hom</td>\n",
       "      <td>221.9990</td>\n",
       "      <td>1221</td>\n",
       "      <td>--</td>\n",
       "      <td>--</td>\n",
       "      <td>--</td>\n",
       "      <td>--</td>\n",
       "      <td>INTERGENIC</td>\n",
       "      <td>NaN</td>\n",
       "      <td>NaN</td>\n",
       "      <td>NaN</td>\n",
       "    </tr>\n",
       "    <tr>\n",
       "      <td>62</td>\n",
       "      <td>NC_003197.2</td>\n",
       "      <td>7420</td>\n",
       "      <td>G</td>\n",
       "      <td>T</td>\n",
       "      <td>SNP</td>\n",
       "      <td>Hom</td>\n",
       "      <td>221.9990</td>\n",
       "      <td>1090</td>\n",
       "      <td>--</td>\n",
       "      <td>--</td>\n",
       "      <td>--</td>\n",
       "      <td>--</td>\n",
       "      <td>INTERGENIC</td>\n",
       "      <td>NaN</td>\n",
       "      <td>NaN</td>\n",
       "      <td>NaN</td>\n",
       "    </tr>\n",
       "    <tr>\n",
       "      <td>63</td>\n",
       "      <td>NC_003197.2</td>\n",
       "      <td>7432</td>\n",
       "      <td>A</td>\n",
       "      <td>G</td>\n",
       "      <td>SNP</td>\n",
       "      <td>Hom</td>\n",
       "      <td>221.9990</td>\n",
       "      <td>1125</td>\n",
       "      <td>--</td>\n",
       "      <td>--</td>\n",
       "      <td>--</td>\n",
       "      <td>--</td>\n",
       "      <td>INTERGENIC</td>\n",
       "      <td>NaN</td>\n",
       "      <td>NaN</td>\n",
       "      <td>NaN</td>\n",
       "    </tr>\n",
       "    <tr>\n",
       "      <td>64</td>\n",
       "      <td>NC_003197.2</td>\n",
       "      <td>7508</td>\n",
       "      <td>T</td>\n",
       "      <td>C</td>\n",
       "      <td>SNP</td>\n",
       "      <td>Hom</td>\n",
       "      <td>221.9990</td>\n",
       "      <td>1287</td>\n",
       "      <td>--</td>\n",
       "      <td>--</td>\n",
       "      <td>--</td>\n",
       "      <td>--</td>\n",
       "      <td>INTERGENIC</td>\n",
       "      <td>NaN</td>\n",
       "      <td>NaN</td>\n",
       "      <td>NaN</td>\n",
       "    </tr>\n",
       "    <tr>\n",
       "      <td>78</td>\n",
       "      <td>NC_003197.2</td>\n",
       "      <td>9326</td>\n",
       "      <td>A</td>\n",
       "      <td>G</td>\n",
       "      <td>SNP</td>\n",
       "      <td>Hom</td>\n",
       "      <td>221.9990</td>\n",
       "      <td>1440</td>\n",
       "      <td>--</td>\n",
       "      <td>--</td>\n",
       "      <td>--</td>\n",
       "      <td>--</td>\n",
       "      <td>INTERGENIC</td>\n",
       "      <td>NaN</td>\n",
       "      <td>NaN</td>\n",
       "      <td>NaN</td>\n",
       "    </tr>\n",
       "    <tr>\n",
       "      <td>...</td>\n",
       "      <td>...</td>\n",
       "      <td>...</td>\n",
       "      <td>...</td>\n",
       "      <td>...</td>\n",
       "      <td>...</td>\n",
       "      <td>...</td>\n",
       "      <td>...</td>\n",
       "      <td>...</td>\n",
       "      <td>...</td>\n",
       "      <td>...</td>\n",
       "      <td>...</td>\n",
       "      <td>...</td>\n",
       "      <td>...</td>\n",
       "      <td>...</td>\n",
       "      <td>...</td>\n",
       "      <td>...</td>\n",
       "    </tr>\n",
       "    <tr>\n",
       "      <td>40840</td>\n",
       "      <td>NC_003197.2</td>\n",
       "      <td>4855324</td>\n",
       "      <td>A</td>\n",
       "      <td>G</td>\n",
       "      <td>SNP</td>\n",
       "      <td>Hom</td>\n",
       "      <td>88.9974</td>\n",
       "      <td>1039</td>\n",
       "      <td>--</td>\n",
       "      <td>--</td>\n",
       "      <td>--</td>\n",
       "      <td>--</td>\n",
       "      <td>INTERGENIC</td>\n",
       "      <td>NaN</td>\n",
       "      <td>NaN</td>\n",
       "      <td>NaN</td>\n",
       "    </tr>\n",
       "    <tr>\n",
       "      <td>40841</td>\n",
       "      <td>NC_003197.2</td>\n",
       "      <td>4855368</td>\n",
       "      <td>A</td>\n",
       "      <td>G</td>\n",
       "      <td>SNP</td>\n",
       "      <td>Hom</td>\n",
       "      <td>221.9990</td>\n",
       "      <td>1083</td>\n",
       "      <td>--</td>\n",
       "      <td>--</td>\n",
       "      <td>--</td>\n",
       "      <td>--</td>\n",
       "      <td>INTERGENIC</td>\n",
       "      <td>NaN</td>\n",
       "      <td>NaN</td>\n",
       "      <td>NaN</td>\n",
       "    </tr>\n",
       "    <tr>\n",
       "      <td>40842</td>\n",
       "      <td>NC_003197.2</td>\n",
       "      <td>4855382</td>\n",
       "      <td>G</td>\n",
       "      <td>A</td>\n",
       "      <td>SNP</td>\n",
       "      <td>Hom</td>\n",
       "      <td>221.9990</td>\n",
       "      <td>1062</td>\n",
       "      <td>--</td>\n",
       "      <td>--</td>\n",
       "      <td>--</td>\n",
       "      <td>--</td>\n",
       "      <td>INTERGENIC</td>\n",
       "      <td>NaN</td>\n",
       "      <td>NaN</td>\n",
       "      <td>NaN</td>\n",
       "    </tr>\n",
       "    <tr>\n",
       "      <td>40846</td>\n",
       "      <td>NC_003197.2</td>\n",
       "      <td>4856558</td>\n",
       "      <td>T</td>\n",
       "      <td>C</td>\n",
       "      <td>SNP</td>\n",
       "      <td>Hom</td>\n",
       "      <td>221.9990</td>\n",
       "      <td>512</td>\n",
       "      <td>--</td>\n",
       "      <td>--</td>\n",
       "      <td>--</td>\n",
       "      <td>--</td>\n",
       "      <td>INTERGENIC</td>\n",
       "      <td>NaN</td>\n",
       "      <td>NaN</td>\n",
       "      <td>NaN</td>\n",
       "    </tr>\n",
       "    <tr>\n",
       "      <td>40847</td>\n",
       "      <td>NC_003197.2</td>\n",
       "      <td>4856655</td>\n",
       "      <td>A</td>\n",
       "      <td>C</td>\n",
       "      <td>SNP</td>\n",
       "      <td>Hom</td>\n",
       "      <td>221.9990</td>\n",
       "      <td>1209</td>\n",
       "      <td>--</td>\n",
       "      <td>--</td>\n",
       "      <td>--</td>\n",
       "      <td>--</td>\n",
       "      <td>INTERGENIC</td>\n",
       "      <td>NaN</td>\n",
       "      <td>NaN</td>\n",
       "      <td>NaN</td>\n",
       "    </tr>\n",
       "  </tbody>\n",
       "</table>\n",
       "<p>4418 rows × 16 columns</p>\n",
       "</div>"
      ],
      "text/plain": [
       "             Chrom  Position Reference Variant Type Zygosity   Quality  \\\n",
       "42     NC_003197.2      5890         T       C  SNP      Hom  221.9990   \n",
       "62     NC_003197.2      7420         G       T  SNP      Hom  221.9990   \n",
       "63     NC_003197.2      7432         A       G  SNP      Hom  221.9990   \n",
       "64     NC_003197.2      7508         T       C  SNP      Hom  221.9990   \n",
       "78     NC_003197.2      9326         A       G  SNP      Hom  221.9990   \n",
       "...            ...       ...       ...     ...  ...      ...       ...   \n",
       "40840  NC_003197.2   4855324         A       G  SNP      Hom   88.9974   \n",
       "40841  NC_003197.2   4855368         A       G  SNP      Hom  221.9990   \n",
       "40842  NC_003197.2   4855382         G       A  SNP      Hom  221.9990   \n",
       "40846  NC_003197.2   4856558         T       C  SNP      Hom  221.9990   \n",
       "40847  NC_003197.2   4856655         A       C  SNP      Hom  221.9990   \n",
       "\n",
       "       Coverage Gene_ID Trancript_ID Exon_ID Exon_Rank      Effect  \\\n",
       "42         1221      --           --      --        --  INTERGENIC   \n",
       "62         1090      --           --      --        --  INTERGENIC   \n",
       "63         1125      --           --      --        --  INTERGENIC   \n",
       "64         1287      --           --      --        --  INTERGENIC   \n",
       "78         1440      --           --      --        --  INTERGENIC   \n",
       "...         ...     ...          ...     ...       ...         ...   \n",
       "40840      1039      --           --      --        --  INTERGENIC   \n",
       "40841      1083      --           --      --        --  INTERGENIC   \n",
       "40842      1062      --           --      --        --  INTERGENIC   \n",
       "40846       512      --           --      --        --  INTERGENIC   \n",
       "40847      1209      --           --      --        --  INTERGENIC   \n",
       "\n",
       "      old_AA/new_AA Old_codon/New_codon  Codon_Num(CDS)  \n",
       "42              NaN                 NaN             NaN  \n",
       "62              NaN                 NaN             NaN  \n",
       "63              NaN                 NaN             NaN  \n",
       "64              NaN                 NaN             NaN  \n",
       "78              NaN                 NaN             NaN  \n",
       "...             ...                 ...             ...  \n",
       "40840           NaN                 NaN             NaN  \n",
       "40841           NaN                 NaN             NaN  \n",
       "40842           NaN                 NaN             NaN  \n",
       "40846           NaN                 NaN             NaN  \n",
       "40847           NaN                 NaN             NaN  \n",
       "\n",
       "[4418 rows x 16 columns]"
      ]
     },
     "execution_count": 37,
     "metadata": {},
     "output_type": "execute_result"
    }
   ],
   "source": [
    "\n",
    "arti_data[arti_data.Gene_ID=='--']"
   ]
  },
  {
   "cell_type": "code",
   "execution_count": null,
   "metadata": {},
   "outputs": [],
   "source": []
  },
  {
   "cell_type": "code",
   "execution_count": 14,
   "metadata": {},
   "outputs": [
    {
     "name": "stderr",
     "output_type": "stream",
     "text": [
      "/home/anubrata/anaconda3/lib/python3.7/site-packages/ipykernel_launcher.py:2: FutureWarning: The signature of `Series.to_csv` was aligned to that of `DataFrame.to_csv`, and argument 'header' will change its default value from False to True: please pass an explicit value to suppress this warning.\n",
      "  \n"
     ]
    }
   ],
   "source": [
    "out1=rev_data.groupby('Gene_ID')['Position'].value_counts(sort=True)    \n",
    "out1.to_csv('out1.csv')\n"
   ]
  },
  {
   "cell_type": "code",
   "execution_count": 15,
   "metadata": {},
   "outputs": [
    {
     "data": {
      "text/plain": [
       "Gene_ID  Position  Old_codon/New_codon  Effect               \n",
       "STM0014  15175     gaG/gaA              SYNONYMOUS_CODING        1\n",
       "         15271     gaT/gaC              SYNONYMOUS_CODING        1\n",
       "         15289     agC/agT              SYNONYMOUS_CODING        1\n",
       "         15404     Tcc/Acc              NON_SYNONYMOUS_CODING    1\n",
       "         15406     tcC/tcT              SYNONYMOUS_CODING        1\n",
       "Name: Gene_ID, dtype: int64"
      ]
     },
     "execution_count": 15,
     "metadata": {},
     "output_type": "execute_result"
    }
   ],
   "source": [
    "out2=rev_data.groupby(['Gene_ID','Position','Old_codon/New_codon','Effect'])['Gene_ID'].count()    \n",
    "out2.head()\n",
    "#out2.to_csv('out2.csv')"
   ]
  },
  {
   "cell_type": "code",
   "execution_count": 7,
   "metadata": {},
   "outputs": [
    {
     "name": "stderr",
     "output_type": "stream",
     "text": [
      "/home/anubrata/anaconda3/lib/python3.7/site-packages/pandas/core/frame.py:4102: SettingWithCopyWarning: \n",
      "A value is trying to be set on a copy of a slice from a DataFrame\n",
      "\n",
      "See the caveats in the documentation: http://pandas.pydata.org/pandas-docs/stable/user_guide/indexing.html#returning-a-view-versus-a-copy\n",
      "  errors=errors,\n"
     ]
    },
    {
     "data": {
      "text/html": [
       "<div>\n",
       "<style scoped>\n",
       "    .dataframe tbody tr th:only-of-type {\n",
       "        vertical-align: middle;\n",
       "    }\n",
       "\n",
       "    .dataframe tbody tr th {\n",
       "        vertical-align: top;\n",
       "    }\n",
       "\n",
       "    .dataframe thead th {\n",
       "        text-align: right;\n",
       "    }\n",
       "</style>\n",
       "<table border=\"1\" class=\"dataframe\">\n",
       "  <thead>\n",
       "    <tr style=\"text-align: right;\">\n",
       "      <th></th>\n",
       "      <th>Gene_ID</th>\n",
       "      <th>Position</th>\n",
       "      <th>Reference</th>\n",
       "      <th>Variant</th>\n",
       "      <th>OlCod_NwCod</th>\n",
       "    </tr>\n",
       "  </thead>\n",
       "  <tbody>\n",
       "    <tr>\n",
       "      <td>0</td>\n",
       "      <td>thrA</td>\n",
       "      <td>877</td>\n",
       "      <td>G</td>\n",
       "      <td>T</td>\n",
       "      <td>Gcc/Tcc</td>\n",
       "    </tr>\n",
       "    <tr>\n",
       "      <td>1</td>\n",
       "      <td>thrA</td>\n",
       "      <td>2455</td>\n",
       "      <td>A</td>\n",
       "      <td>G</td>\n",
       "      <td>Aac/Gac</td>\n",
       "    </tr>\n",
       "    <tr>\n",
       "      <td>2</td>\n",
       "      <td>thrA</td>\n",
       "      <td>2485</td>\n",
       "      <td>G</td>\n",
       "      <td>A</td>\n",
       "      <td>Gcc/Acc</td>\n",
       "    </tr>\n",
       "    <tr>\n",
       "      <td>3</td>\n",
       "      <td>thrC</td>\n",
       "      <td>3835</td>\n",
       "      <td>T</td>\n",
       "      <td>A</td>\n",
       "      <td>gaT/gaA</td>\n",
       "    </tr>\n",
       "    <tr>\n",
       "      <td>4</td>\n",
       "      <td>yaaJ</td>\n",
       "      <td>5984</td>\n",
       "      <td>C</td>\n",
       "      <td>A</td>\n",
       "      <td>gaG/gaT</td>\n",
       "    </tr>\n",
       "  </tbody>\n",
       "</table>\n",
       "</div>"
      ],
      "text/plain": [
       "  Gene_ID  Position Reference Variant OlCod_NwCod\n",
       "0    thrA       877         G       T     Gcc/Tcc\n",
       "1    thrA      2455         A       G     Aac/Gac\n",
       "2    thrA      2485         G       A     Gcc/Acc\n",
       "3    thrC      3835         T       A     gaT/gaA\n",
       "4    yaaJ      5984         C       A     gaG/gaT"
      ]
     },
     "execution_count": 7,
     "metadata": {},
     "output_type": "execute_result"
    }
   ],
   "source": [
    "arti_new_nonsyn=arti_data[arti_data.Effect=='NON_SYNONYMOUS_CODING']\n",
    "arti_new_syn=arti_data[arti_data.Effect=='SYNONYMOUS_CODING']\n",
    "arti_new_nonsyn.reset_index(inplace=True)\n",
    "arti_new_nonsyn.drop(\"index\",axis=1,inplace=True)\n",
    "arti_new_nonsyn=arti_new_nonsyn.loc[:,[\"Gene_ID\",\"Position\",\"Reference\",\"Variant\",\"Old_codon/New_codon\"]]\n",
    "l=list(arti_new_nonsyn.columns)\n",
    "l[4]=\"OlCod_NwCod\"\n",
    "arti_new_nonsyn.columns=l\n",
    "arti_new_nonsyn.head()"
   ]
  },
  {
   "cell_type": "code",
   "execution_count": 16,
   "metadata": {},
   "outputs": [
    {
     "data": {
      "text/plain": [
       "Gene_ID\n",
       "--               4418\n",
       "Gene_gene1182       1\n",
       "Gene_gene1241       1\n",
       "Gene_gene1244       2\n",
       "Gene_gene1470      10\n",
       "Name: Gene_ID, dtype: int64"
      ]
     },
     "execution_count": 16,
     "metadata": {},
     "output_type": "execute_result"
    }
   ],
   "source": [
    "out3=rev_data.groupby('Gene_ID')['Gene_ID'].count()  \n",
    "out3.head()"
   ]
  },
  {
   "cell_type": "code",
   "execution_count": 24,
   "metadata": {},
   "outputs": [
    {
     "data": {
      "text/plain": [
       "--               4418\n",
       "STM4261           159\n",
       "Gene_gene2690     151\n",
       "metH               65\n",
       "mukB               55\n",
       "STM4489            53\n",
       "gltB               52\n",
       "rpoC               52\n",
       "Name: Gene_ID, dtype: int64"
      ]
     },
     "execution_count": 24,
     "metadata": {},
     "output_type": "execute_result"
    }
   ],
   "source": [
    "x=pd.value_counts(rev_data.Gene_ID)\n",
    "x[x>50]"
   ]
  },
  {
   "cell_type": "code",
   "execution_count": null,
   "metadata": {},
   "outputs": [],
   "source": []
  },
  {
   "cell_type": "code",
   "execution_count": 8,
   "metadata": {},
   "outputs": [],
   "source": [
    "arti_new_nonsyn.to_csv('arti_new_nonsyn')"
   ]
  },
  {
   "cell_type": "code",
   "execution_count": 9,
   "metadata": {},
   "outputs": [],
   "source": [
    "arti_new_syn=arti_data[arti_data.Effect=='SYNONYMOUS_CODING']\n",
    "arti_new_syn=arti_new_syn.loc[:,[\"Gene_ID\",\"Position\",\"Reference\",\"Variant\",\"Old_codon/New_codon\"]]\n",
    "arti_new_syn.columns=l\n",
    "arti_new_syn.reset_index(inplace=True)\n",
    "arti_new_syn.drop(\"index\",axis=1,inplace=True)\n",
    "pd.value_counts(arti_new_syn.Gene_ID)\n",
    "a=arti_new_syn[arti_new_syn.Gene_ID==\"STM4261\"]\n",
    "b=arti_new_syn[arti_new_syn.Reference==\"G\"]\n",
    "\n",
    "#arti_new_syn.to_csv('arti_new_syn')"
   ]
  },
  {
   "cell_type": "code",
   "execution_count": 10,
   "metadata": {},
   "outputs": [
    {
     "ename": "NameError",
     "evalue": "name 'arti_old_nonsyn' is not defined",
     "output_type": "error",
     "traceback": [
      "\u001b[0;31m---------------------------------------------------------------------------\u001b[0m",
      "\u001b[0;31mNameError\u001b[0m                                 Traceback (most recent call last)",
      "\u001b[0;32m<ipython-input-10-dfa0bbb505b9>\u001b[0m in \u001b[0;36m<module>\u001b[0;34m\u001b[0m\n\u001b[1;32m      5\u001b[0m \u001b[0;31m#arti_old_nonsyn.reset_index(inplace=True)\u001b[0m\u001b[0;34m\u001b[0m\u001b[0;34m\u001b[0m\u001b[0;34m\u001b[0m\u001b[0m\n\u001b[1;32m      6\u001b[0m \u001b[0;31m#arti_old_nonsyn.drop(\"index\",axis=1,inplace=True)\u001b[0m\u001b[0;34m\u001b[0m\u001b[0;34m\u001b[0m\u001b[0;34m\u001b[0m\u001b[0m\n\u001b[0;32m----> 7\u001b[0;31m \u001b[0marti_old_nonsyn\u001b[0m\u001b[0;34m=\u001b[0m\u001b[0marti_old_nonsyn\u001b[0m\u001b[0;34m.\u001b[0m\u001b[0mloc\u001b[0m\u001b[0;34m[\u001b[0m\u001b[0;34m:\u001b[0m\u001b[0;34m,\u001b[0m\u001b[0;34m[\u001b[0m\u001b[0;34m\"Gene_ID\"\u001b[0m\u001b[0;34m,\u001b[0m\u001b[0;34m\"Position\"\u001b[0m\u001b[0;34m,\u001b[0m\u001b[0;34m\"Reference\"\u001b[0m\u001b[0;34m,\u001b[0m\u001b[0;34m\"Variant\"\u001b[0m\u001b[0;34m,\u001b[0m\u001b[0;34m\"Old_codon/New_codon\"\u001b[0m\u001b[0;34m]\u001b[0m\u001b[0;34m]\u001b[0m\u001b[0;34m\u001b[0m\u001b[0;34m\u001b[0m\u001b[0m\n\u001b[0m\u001b[1;32m      8\u001b[0m \u001b[0marti_old_nonsyn\u001b[0m\u001b[0;34m.\u001b[0m\u001b[0mhead\u001b[0m\u001b[0;34m(\u001b[0m\u001b[0;34m)\u001b[0m\u001b[0;34m\u001b[0m\u001b[0;34m\u001b[0m\u001b[0m\n\u001b[1;32m      9\u001b[0m \u001b[0marti_old_nonsyn\u001b[0m\u001b[0;34m.\u001b[0m\u001b[0mto_csv\u001b[0m\u001b[0;34m(\u001b[0m\u001b[0;34m'arti_old_nonsyn'\u001b[0m\u001b[0;34m)\u001b[0m\u001b[0;34m\u001b[0m\u001b[0;34m\u001b[0m\u001b[0m\n",
      "\u001b[0;31mNameError\u001b[0m: name 'arti_old_nonsyn' is not defined"
     ]
    }
   ],
   "source": [
    "#arti_old_data=pd.read_csv(\"Cip_2B_SNP.csv\",encoding=\"utf-16\")\n",
    "#arti_old_data.info()\n",
    "#arti_old_nonsyn=arti_old_data[arti_old_data.Effect=='NON_SYNONYMOUS_CODING']\n",
    "#arti_old_syn=arti_old_data[arti_old_data.Effect=='SYNONYMOUS_CODING']\n",
    "#arti_old_nonsyn.reset_index(inplace=True)\n",
    "#arti_old_nonsyn.drop(\"index\",axis=1,inplace=True)\n",
    "arti_old_nonsyn=arti_old_nonsyn.loc[:,[\"Gene_ID\",\"Position\",\"Reference\",\"Variant\",\"Old_codon/New_codon\"]]\n",
    "arti_old_nonsyn.head()\n",
    "arti_old_nonsyn.to_csv('arti_old_nonsyn')"
   ]
  },
  {
   "cell_type": "code",
   "execution_count": null,
   "metadata": {},
   "outputs": [],
   "source": [
    "arti_old_syn=arti_old_data[arti_old_data.Effect=='SYNONYMOUS_CODING']\n",
    "arti_old_syn=arti_old_syn.loc[:,[\"Gene_ID\",\"Position\",\"Reference\",\"Variant\",\"Old_codon/New_codon\"]]\n",
    "arti_old_syn.head()\n",
    "arti_old_syn.to_csv('arti_old_syn')"
   ]
  },
  {
   "cell_type": "code",
   "execution_count": null,
   "metadata": {},
   "outputs": [],
   "source": [
    "arti_old_syn.head()"
   ]
  },
  {
   "cell_type": "code",
   "execution_count": null,
   "metadata": {},
   "outputs": [],
   "source": [
    "#arti_new_syn.drop('index',axis=1,inplace=True)\n",
    "arti_new_syn_counts=pd.value_counts(arti_new_syn.Gene_ID)\n",
    "arti_new_syn_counts=pd.DataFrame(arti_new_syn_counts)\n",
    "arti_new_syn_counts.reset_index(inplace=True)\n",
    "\n",
    "arti_new_syn_counts.columns=[\"Gene_ID\",\"count\"]\n",
    "arti_new_syn_counts.head()\n",
    "arti_new_syn_counts.to_csv('new_syn_counts')"
   ]
  },
  {
   "cell_type": "code",
   "execution_count": 12,
   "metadata": {},
   "outputs": [
    {
     "data": {
      "text/plain": [
       "'/home/anubrata/Documents/datascience'"
      ]
     },
     "execution_count": 12,
     "metadata": {},
     "output_type": "execute_result"
    }
   ],
   "source": [
    "import os\n",
    "os.getcwd()"
   ]
  },
  {
   "cell_type": "code",
   "execution_count": null,
   "metadata": {},
   "outputs": [],
   "source": []
  }
 ],
 "metadata": {
  "kernelspec": {
   "display_name": "Python 3",
   "language": "python",
   "name": "python3"
  },
  "language_info": {
   "codemirror_mode": {
    "name": "ipython",
    "version": 3
   },
   "file_extension": ".py",
   "mimetype": "text/x-python",
   "name": "python",
   "nbconvert_exporter": "python",
   "pygments_lexer": "ipython3",
   "version": "3.7.4"
  }
 },
 "nbformat": 4,
 "nbformat_minor": 4
}
