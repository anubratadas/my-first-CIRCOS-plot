{
 "cells": [
  {
   "cell_type": "code",
   "execution_count": 1,
   "metadata": {},
   "outputs": [
    {
     "data": {
      "text/plain": [
       "'/home/anubratadas/Documents/Aarti_Data_Linux/Final_Analysis'"
      ]
     },
     "execution_count": 1,
     "metadata": {},
     "output_type": "execute_result"
    }
   ],
   "source": [
    "import os\n",
    "import numpy as np\n",
    "import pandas as pd\n",
    "import matplotlib.pyplot as plt\n",
    "import seaborn as sns\n",
    "%matplotlib inline\n",
    "pd.set_option('display.max_columns',None)\n",
    "#os.chdir(\"/home/anubrata/Documents/datascience\")\n",
    "os.getcwd()"
   ]
  },
  {
   "cell_type": "code",
   "execution_count": 2,
   "metadata": {},
   "outputs": [],
   "source": [
    "arti_data=pd.read_excel(\"all_samples.xls\")"
   ]
  },
  {
   "cell_type": "code",
   "execution_count": 3,
   "metadata": {},
   "outputs": [
    {
     "data": {
      "text/html": [
       "<div>\n",
       "<style scoped>\n",
       "    .dataframe tbody tr th:only-of-type {\n",
       "        vertical-align: middle;\n",
       "    }\n",
       "\n",
       "    .dataframe tbody tr th {\n",
       "        vertical-align: top;\n",
       "    }\n",
       "\n",
       "    .dataframe thead th {\n",
       "        text-align: right;\n",
       "    }\n",
       "</style>\n",
       "<table border=\"1\" class=\"dataframe\">\n",
       "  <thead>\n",
       "    <tr style=\"text-align: right;\">\n",
       "      <th></th>\n",
       "      <th>Position</th>\n",
       "      <th>REF</th>\n",
       "      <th>ALT</th>\n",
       "      <th>stm_1_S13</th>\n",
       "      <th>C_Cip</th>\n",
       "      <th>A_cip</th>\n",
       "      <th>cip_2B_S14</th>\n",
       "      <th>ntrc_gDNA_2</th>\n",
       "      <th>SCV_2</th>\n",
       "      <th>Repl2_244M</th>\n",
       "      <th>Change_type</th>\n",
       "      <th>Coverage</th>\n",
       "      <th>Warnings</th>\n",
       "      <th>Gene_ID</th>\n",
       "      <th>Gene_name</th>\n",
       "      <th>Bio_type</th>\n",
       "      <th>Trancript_ID</th>\n",
       "      <th>Exon_ID</th>\n",
       "      <th>Exon_Rank</th>\n",
       "      <th>Effect</th>\n",
       "      <th>old_AA/new_AA</th>\n",
       "      <th>Old_codon/New_codon</th>\n",
       "      <th>Codon_Num(CDS)</th>\n",
       "      <th>Codon_Degeneracy</th>\n",
       "      <th>CDS_size</th>\n",
       "      <th>Codons_around</th>\n",
       "      <th>AAs_around</th>\n",
       "      <th>Custom_interval_ID</th>\n",
       "      <th>Unnamed: 28</th>\n",
       "      <th>Unnamed: 29</th>\n",
       "    </tr>\n",
       "  </thead>\n",
       "  <tbody>\n",
       "    <tr>\n",
       "      <th>0</th>\n",
       "      <td>507</td>\n",
       "      <td>C</td>\n",
       "      <td>T</td>\n",
       "      <td>./.</td>\n",
       "      <td>1/1</td>\n",
       "      <td>1/1</td>\n",
       "      <td>1/1</td>\n",
       "      <td>./.</td>\n",
       "      <td>./.</td>\n",
       "      <td>1/1</td>\n",
       "      <td>SNP</td>\n",
       "      <td>4179.0</td>\n",
       "      <td>gene1</td>\n",
       "      <td>thrA</td>\n",
       "      <td>Transcript_gene1</td>\n",
       "      <td>Exon_NC_003197.2_336_2798</td>\n",
       "      <td>1</td>\n",
       "      <td>SYNONYMOUS_CODING</td>\n",
       "      <td>G/G</td>\n",
       "      <td>ggC/ggT</td>\n",
       "      <td>57</td>\n",
       "      <td>4.0</td>\n",
       "      <td>NaN</td>\n",
       "      <td>NaN</td>\n",
       "      <td>NaN</td>\n",
       "      <td>NaN</td>\n",
       "      <td>NaN</td>\n",
       "      <td>NaN</td>\n",
       "      <td>NaN</td>\n",
       "      <td>NaN</td>\n",
       "    </tr>\n",
       "    <tr>\n",
       "      <th>1</th>\n",
       "      <td>537</td>\n",
       "      <td>A</td>\n",
       "      <td>C</td>\n",
       "      <td>./.</td>\n",
       "      <td>1/1</td>\n",
       "      <td>1/1</td>\n",
       "      <td>1/1</td>\n",
       "      <td>./.</td>\n",
       "      <td>./.</td>\n",
       "      <td>1/1</td>\n",
       "      <td>SNP</td>\n",
       "      <td>4690.0</td>\n",
       "      <td>gene1</td>\n",
       "      <td>thrA</td>\n",
       "      <td>Transcript_gene1</td>\n",
       "      <td>Exon_NC_003197.2_336_2798</td>\n",
       "      <td>1</td>\n",
       "      <td>SYNONYMOUS_CODING</td>\n",
       "      <td>A/A</td>\n",
       "      <td>gcA/gcC</td>\n",
       "      <td>67</td>\n",
       "      <td>4.0</td>\n",
       "      <td>NaN</td>\n",
       "      <td>NaN</td>\n",
       "      <td>NaN</td>\n",
       "      <td>NaN</td>\n",
       "      <td>NaN</td>\n",
       "      <td>NaN</td>\n",
       "      <td>NaN</td>\n",
       "      <td>NaN</td>\n",
       "    </tr>\n",
       "    <tr>\n",
       "      <th>2</th>\n",
       "      <td>744</td>\n",
       "      <td>A</td>\n",
       "      <td>C</td>\n",
       "      <td>./.</td>\n",
       "      <td>1/1</td>\n",
       "      <td>1/1</td>\n",
       "      <td>1/1</td>\n",
       "      <td>./.</td>\n",
       "      <td>./.</td>\n",
       "      <td>1/1</td>\n",
       "      <td>SNP</td>\n",
       "      <td>5187.0</td>\n",
       "      <td>gene1</td>\n",
       "      <td>thrA</td>\n",
       "      <td>Transcript_gene1</td>\n",
       "      <td>Exon_NC_003197.2_336_2798</td>\n",
       "      <td>1</td>\n",
       "      <td>SYNONYMOUS_CODING</td>\n",
       "      <td>G/G</td>\n",
       "      <td>ggA/ggC</td>\n",
       "      <td>136</td>\n",
       "      <td>4.0</td>\n",
       "      <td>NaN</td>\n",
       "      <td>NaN</td>\n",
       "      <td>NaN</td>\n",
       "      <td>NaN</td>\n",
       "      <td>NaN</td>\n",
       "      <td>NaN</td>\n",
       "      <td>NaN</td>\n",
       "      <td>NaN</td>\n",
       "    </tr>\n",
       "    <tr>\n",
       "      <th>3</th>\n",
       "      <td>747</td>\n",
       "      <td>T</td>\n",
       "      <td>C</td>\n",
       "      <td>./.</td>\n",
       "      <td>1/1</td>\n",
       "      <td>1/1</td>\n",
       "      <td>1/1</td>\n",
       "      <td>./.</td>\n",
       "      <td>./.</td>\n",
       "      <td>1/1</td>\n",
       "      <td>SNP</td>\n",
       "      <td>5560.0</td>\n",
       "      <td>gene1</td>\n",
       "      <td>thrA</td>\n",
       "      <td>Transcript_gene1</td>\n",
       "      <td>Exon_NC_003197.2_336_2798</td>\n",
       "      <td>1</td>\n",
       "      <td>SYNONYMOUS_CODING</td>\n",
       "      <td>L/L</td>\n",
       "      <td>ctT/ctC</td>\n",
       "      <td>137</td>\n",
       "      <td>4.0</td>\n",
       "      <td>NaN</td>\n",
       "      <td>NaN</td>\n",
       "      <td>NaN</td>\n",
       "      <td>NaN</td>\n",
       "      <td>NaN</td>\n",
       "      <td>NaN</td>\n",
       "      <td>NaN</td>\n",
       "      <td>NaN</td>\n",
       "    </tr>\n",
       "    <tr>\n",
       "      <th>4</th>\n",
       "      <td>762</td>\n",
       "      <td>G</td>\n",
       "      <td>A</td>\n",
       "      <td>./.</td>\n",
       "      <td>1/1</td>\n",
       "      <td>1/1</td>\n",
       "      <td>1/1</td>\n",
       "      <td>./.</td>\n",
       "      <td>./.</td>\n",
       "      <td>1/1</td>\n",
       "      <td>SNP</td>\n",
       "      <td>5371.0</td>\n",
       "      <td>gene1</td>\n",
       "      <td>thrA</td>\n",
       "      <td>Transcript_gene1</td>\n",
       "      <td>Exon_NC_003197.2_336_2798</td>\n",
       "      <td>1</td>\n",
       "      <td>SYNONYMOUS_CODING</td>\n",
       "      <td>G/G</td>\n",
       "      <td>ggG/ggA</td>\n",
       "      <td>142</td>\n",
       "      <td>4.0</td>\n",
       "      <td>NaN</td>\n",
       "      <td>NaN</td>\n",
       "      <td>NaN</td>\n",
       "      <td>NaN</td>\n",
       "      <td>NaN</td>\n",
       "      <td>NaN</td>\n",
       "      <td>NaN</td>\n",
       "      <td>NaN</td>\n",
       "    </tr>\n",
       "  </tbody>\n",
       "</table>\n",
       "</div>"
      ],
      "text/plain": [
       "   Position REF ALT stm_1_S13 C_Cip A_cip cip_2B_S14 ntrc_gDNA_2 SCV_2  \\\n",
       "0       507   C   T       ./.   1/1   1/1        1/1         ./.   ./.   \n",
       "1       537   A   C       ./.   1/1   1/1        1/1         ./.   ./.   \n",
       "2       744   A   C       ./.   1/1   1/1        1/1         ./.   ./.   \n",
       "3       747   T   C       ./.   1/1   1/1        1/1         ./.   ./.   \n",
       "4       762   G   A       ./.   1/1   1/1        1/1         ./.   ./.   \n",
       "\n",
       "  Repl2_244M Change_type  Coverage Warnings Gene_ID         Gene_name  \\\n",
       "0        1/1         SNP    4179.0    gene1    thrA  Transcript_gene1   \n",
       "1        1/1         SNP    4690.0    gene1    thrA  Transcript_gene1   \n",
       "2        1/1         SNP    5187.0    gene1    thrA  Transcript_gene1   \n",
       "3        1/1         SNP    5560.0    gene1    thrA  Transcript_gene1   \n",
       "4        1/1         SNP    5371.0    gene1    thrA  Transcript_gene1   \n",
       "\n",
       "                    Bio_type Trancript_ID            Exon_ID Exon_Rank  \\\n",
       "0  Exon_NC_003197.2_336_2798            1  SYNONYMOUS_CODING       G/G   \n",
       "1  Exon_NC_003197.2_336_2798            1  SYNONYMOUS_CODING       A/A   \n",
       "2  Exon_NC_003197.2_336_2798            1  SYNONYMOUS_CODING       G/G   \n",
       "3  Exon_NC_003197.2_336_2798            1  SYNONYMOUS_CODING       L/L   \n",
       "4  Exon_NC_003197.2_336_2798            1  SYNONYMOUS_CODING       G/G   \n",
       "\n",
       "    Effect old_AA/new_AA  Old_codon/New_codon  Codon_Num(CDS)  \\\n",
       "0  ggC/ggT            57                  4.0             NaN   \n",
       "1  gcA/gcC            67                  4.0             NaN   \n",
       "2  ggA/ggC           136                  4.0             NaN   \n",
       "3  ctT/ctC           137                  4.0             NaN   \n",
       "4  ggG/ggA           142                  4.0             NaN   \n",
       "\n",
       "   Codon_Degeneracy  CDS_size  Codons_around  AAs_around  Custom_interval_ID  \\\n",
       "0               NaN       NaN            NaN         NaN                 NaN   \n",
       "1               NaN       NaN            NaN         NaN                 NaN   \n",
       "2               NaN       NaN            NaN         NaN                 NaN   \n",
       "3               NaN       NaN            NaN         NaN                 NaN   \n",
       "4               NaN       NaN            NaN         NaN                 NaN   \n",
       "\n",
       "   Unnamed: 28  Unnamed: 29  \n",
       "0          NaN          NaN  \n",
       "1          NaN          NaN  \n",
       "2          NaN          NaN  \n",
       "3          NaN          NaN  \n",
       "4          NaN          NaN  "
      ]
     },
     "execution_count": 3,
     "metadata": {},
     "output_type": "execute_result"
    }
   ],
   "source": [
    "arti_data.head()"
   ]
  },
  {
   "cell_type": "code",
   "execution_count": 4,
   "metadata": {},
   "outputs": [
    {
     "data": {
      "text/plain": [
       "Exon_ID\n",
       "1                         3010\n",
       "CODON_INSERTION              1\n",
       "FRAME_SHIFT                 11\n",
       "NON_SYNONYMOUS_CODING     5491\n",
       "NON_SYNONYMOUS_START         2\n",
       "START_LOST                   4\n",
       "STOP_GAINED                 25\n",
       "STOP_LOST                    9\n",
       "SYNONYMOUS_CODING        28830\n",
       "SYNONYMOUS_START             2\n",
       "SYNONYMOUS_STOP             27\n",
       "Name: Gene_ID, dtype: int64"
      ]
     },
     "execution_count": 4,
     "metadata": {},
     "output_type": "execute_result"
    }
   ],
   "source": [
    "arti_data.groupby('Exon_ID')['Gene_ID'].count()"
   ]
  },
  {
   "cell_type": "code",
   "execution_count": 5,
   "metadata": {},
   "outputs": [],
   "source": [
    "rev_df_1=arti_data.iloc[:,[0,10,12,13,14,15,17]]          # select only significant coloumns\n",
    "cr_plt_dt=rev_df_1[rev_df_1.Change_type==\"SNP\"]           # select only SNPs as we want to map mutations in genes"
   ]
  },
  {
   "cell_type": "code",
   "execution_count": 6,
   "metadata": {},
   "outputs": [
    {
     "data": {
      "text/html": [
       "<div>\n",
       "<style scoped>\n",
       "    .dataframe tbody tr th:only-of-type {\n",
       "        vertical-align: middle;\n",
       "    }\n",
       "\n",
       "    .dataframe tbody tr th {\n",
       "        vertical-align: top;\n",
       "    }\n",
       "\n",
       "    .dataframe thead th {\n",
       "        text-align: right;\n",
       "    }\n",
       "</style>\n",
       "<table border=\"1\" class=\"dataframe\">\n",
       "  <thead>\n",
       "    <tr style=\"text-align: right;\">\n",
       "      <th></th>\n",
       "      <th>Position</th>\n",
       "      <th>Change_type</th>\n",
       "      <th>Warnings</th>\n",
       "      <th>Gene_ID</th>\n",
       "      <th>Gene_name</th>\n",
       "      <th>Bio_type</th>\n",
       "      <th>Exon_ID</th>\n",
       "    </tr>\n",
       "  </thead>\n",
       "  <tbody>\n",
       "    <tr>\n",
       "      <th>0</th>\n",
       "      <td>507</td>\n",
       "      <td>SNP</td>\n",
       "      <td>gene1</td>\n",
       "      <td>thrA</td>\n",
       "      <td>Transcript_gene1</td>\n",
       "      <td>Exon_NC_003197.2_336_2798</td>\n",
       "      <td>SYNONYMOUS_CODING</td>\n",
       "    </tr>\n",
       "    <tr>\n",
       "      <th>1</th>\n",
       "      <td>537</td>\n",
       "      <td>SNP</td>\n",
       "      <td>gene1</td>\n",
       "      <td>thrA</td>\n",
       "      <td>Transcript_gene1</td>\n",
       "      <td>Exon_NC_003197.2_336_2798</td>\n",
       "      <td>SYNONYMOUS_CODING</td>\n",
       "    </tr>\n",
       "    <tr>\n",
       "      <th>2</th>\n",
       "      <td>744</td>\n",
       "      <td>SNP</td>\n",
       "      <td>gene1</td>\n",
       "      <td>thrA</td>\n",
       "      <td>Transcript_gene1</td>\n",
       "      <td>Exon_NC_003197.2_336_2798</td>\n",
       "      <td>SYNONYMOUS_CODING</td>\n",
       "    </tr>\n",
       "    <tr>\n",
       "      <th>3</th>\n",
       "      <td>747</td>\n",
       "      <td>SNP</td>\n",
       "      <td>gene1</td>\n",
       "      <td>thrA</td>\n",
       "      <td>Transcript_gene1</td>\n",
       "      <td>Exon_NC_003197.2_336_2798</td>\n",
       "      <td>SYNONYMOUS_CODING</td>\n",
       "    </tr>\n",
       "    <tr>\n",
       "      <th>4</th>\n",
       "      <td>762</td>\n",
       "      <td>SNP</td>\n",
       "      <td>gene1</td>\n",
       "      <td>thrA</td>\n",
       "      <td>Transcript_gene1</td>\n",
       "      <td>Exon_NC_003197.2_336_2798</td>\n",
       "      <td>SYNONYMOUS_CODING</td>\n",
       "    </tr>\n",
       "  </tbody>\n",
       "</table>\n",
       "</div>"
      ],
      "text/plain": [
       "   Position Change_type Warnings Gene_ID         Gene_name  \\\n",
       "0       507         SNP    gene1    thrA  Transcript_gene1   \n",
       "1       537         SNP    gene1    thrA  Transcript_gene1   \n",
       "2       744         SNP    gene1    thrA  Transcript_gene1   \n",
       "3       747         SNP    gene1    thrA  Transcript_gene1   \n",
       "4       762         SNP    gene1    thrA  Transcript_gene1   \n",
       "\n",
       "                    Bio_type            Exon_ID  \n",
       "0  Exon_NC_003197.2_336_2798  SYNONYMOUS_CODING  \n",
       "1  Exon_NC_003197.2_336_2798  SYNONYMOUS_CODING  \n",
       "2  Exon_NC_003197.2_336_2798  SYNONYMOUS_CODING  \n",
       "3  Exon_NC_003197.2_336_2798  SYNONYMOUS_CODING  \n",
       "4  Exon_NC_003197.2_336_2798  SYNONYMOUS_CODING  "
      ]
     },
     "execution_count": 6,
     "metadata": {},
     "output_type": "execute_result"
    }
   ],
   "source": [
    "cr_plt_dt.head()"
   ]
  },
  {
   "cell_type": "code",
   "execution_count": 9,
   "metadata": {},
   "outputs": [],
   "source": [
    "gene_with_biotype=cr_plt_dt.groupby(['Gene_ID',\"Bio_type\"])[\"Gene_ID\"].count().sort_values(ascending=False)  \n",
    "gene_index=gene_with_biotype.index                                                            "
   ]
  },
  {
   "cell_type": "code",
   "execution_count": 10,
   "metadata": {},
   "outputs": [
    {
     "data": {
      "text/plain": [
       "Gene_ID        Bio_type                        \n",
       "Gene_gene2690  Gene_gene2690                       179\n",
       "STM4261        Exon_NC_003197.2_4482489_4499168    174\n",
       "STM4489        Exon_NC_003197.2_4731980_4735495     72\n",
       "metH           Exon_NC_003197.2_4408264_4412034     69\n",
       "carB           Exon_NC_003197.2_77046_80273         59\n",
       "Name: Gene_ID, dtype: int64"
      ]
     },
     "execution_count": 10,
     "metadata": {},
     "output_type": "execute_result"
    }
   ],
   "source": [
    "gene_with_biotype.head()"
   ]
  },
  {
   "cell_type": "code",
   "execution_count": 10,
   "metadata": {},
   "outputs": [],
   "source": [
    "# function to collect genes and their chromosome\n",
    "# not used here\n",
    "def mutation_per_gene():\n",
    "        lst=[]\n",
    "        for gene,gene_details in gene_index:\n",
    "            values=gene_details.split('_')\n",
    "            if \"Exon\" in values:\n",
    "                tup=(gene,values[2],values[3],values[4])\n",
    "                lst.append(tup)\n",
    "#print(lst)        "
   ]
  },
  {
   "cell_type": "code",
   "execution_count": 54,
   "metadata": {},
   "outputs": [],
   "source": [
    "new_data=zip(gene_index,gene_with_biotype.values)"
   ]
  },
  {
   "cell_type": "code",
   "execution_count": 55,
   "metadata": {},
   "outputs": [],
   "source": [
    "new_data_list=list(new_data)"
   ]
  },
  {
   "cell_type": "code",
   "execution_count": 69,
   "metadata": {},
   "outputs": [],
   "source": [
    "trial=new_data_list[0:5] # subset of data for initialization"
   ]
  },
  {
   "cell_type": "code",
   "execution_count": 74,
   "metadata": {},
   "outputs": [
    {
     "name": "stdout",
     "output_type": "stream",
     "text": [
      "4482489 4499168\n",
      "4731980 4735495\n",
      "4408264 4412034\n",
      "77046 80273\n"
     ]
    }
   ],
   "source": [
    "for a,b in trial:\n",
    "    if \"Exon\" in a[1]:\n",
    "        var=a[1].split(\"_\")\n",
    "        print(var[3],var[4])"
   ]
  },
  {
   "cell_type": "code",
   "execution_count": null,
   "metadata": {},
   "outputs": [],
   "source": []
  },
  {
   "cell_type": "code",
   "execution_count": 75,
   "metadata": {},
   "outputs": [],
   "source": [
    "# function to collect genes, their chromosome and mutations \n",
    "def mutation_df(data_list):\n",
    "    genn=[] # create empty list for gene names\n",
    "    chrn=[] # create empty list for chromosome\n",
    "    gene_start=[] # create empty list for gene start\n",
    "    gene_end=[] # create empty list for gene end\n",
    "    mut_num=[] # create empty list for mutations\n",
    "    for id1,id2 in data_list:\n",
    "        if \"Exon\" in id1[1]: # collect only mutations mapped to chromosomes\n",
    "            genn.append(id1[0])\n",
    "            chrn.append(id1[1].split('_')[2]) # collect the chromosome ids only using split\n",
    "            gene_start.append(id1[1].split('_')[3]) # collect the chromosome ids only using split\n",
    "            gene_end.append(id1[1].split('_')[4]) # collect the chromosome ids only using split\n",
    "            mut_num.append(id2)\n",
    "    return chrn,gene_start,gene_end,mut_num,genn                 \n",
    "           \n",
    "mutation_data_circos=mutation_df(new_data_list)   "
   ]
  },
  {
   "cell_type": "code",
   "execution_count": 76,
   "metadata": {},
   "outputs": [],
   "source": [
    "circos_df_dict={\"chrm\":mutation_data_circos[0],\"start\":mutation_data_circos[1],\"end\":mutation_data_circos[2],\"mutations\":mutation_data_circos[3],\"gene\":mutation_data_circos[4]}"
   ]
  },
  {
   "cell_type": "code",
   "execution_count": 77,
   "metadata": {},
   "outputs": [],
   "source": [
    "circos_df=pd.DataFrame.from_dict(circos_df_dict)"
   ]
  },
  {
   "cell_type": "code",
   "execution_count": 78,
   "metadata": {},
   "outputs": [
    {
     "data": {
      "text/html": [
       "<div>\n",
       "<style scoped>\n",
       "    .dataframe tbody tr th:only-of-type {\n",
       "        vertical-align: middle;\n",
       "    }\n",
       "\n",
       "    .dataframe tbody tr th {\n",
       "        vertical-align: top;\n",
       "    }\n",
       "\n",
       "    .dataframe thead th {\n",
       "        text-align: right;\n",
       "    }\n",
       "</style>\n",
       "<table border=\"1\" class=\"dataframe\">\n",
       "  <thead>\n",
       "    <tr style=\"text-align: right;\">\n",
       "      <th></th>\n",
       "      <th>chrm</th>\n",
       "      <th>start</th>\n",
       "      <th>end</th>\n",
       "      <th>mutations</th>\n",
       "      <th>gene</th>\n",
       "    </tr>\n",
       "  </thead>\n",
       "  <tbody>\n",
       "    <tr>\n",
       "      <th>0</th>\n",
       "      <td>003197.2</td>\n",
       "      <td>4482489</td>\n",
       "      <td>4499168</td>\n",
       "      <td>174</td>\n",
       "      <td>STM4261</td>\n",
       "    </tr>\n",
       "    <tr>\n",
       "      <th>1</th>\n",
       "      <td>003197.2</td>\n",
       "      <td>4731980</td>\n",
       "      <td>4735495</td>\n",
       "      <td>72</td>\n",
       "      <td>STM4489</td>\n",
       "    </tr>\n",
       "    <tr>\n",
       "      <th>2</th>\n",
       "      <td>003197.2</td>\n",
       "      <td>4408264</td>\n",
       "      <td>4412034</td>\n",
       "      <td>69</td>\n",
       "      <td>metH</td>\n",
       "    </tr>\n",
       "    <tr>\n",
       "      <th>3</th>\n",
       "      <td>003197.2</td>\n",
       "      <td>77046</td>\n",
       "      <td>80273</td>\n",
       "      <td>59</td>\n",
       "      <td>carB</td>\n",
       "    </tr>\n",
       "    <tr>\n",
       "      <th>4</th>\n",
       "      <td>003197.2</td>\n",
       "      <td>3494529</td>\n",
       "      <td>3498989</td>\n",
       "      <td>57</td>\n",
       "      <td>gltB</td>\n",
       "    </tr>\n",
       "  </tbody>\n",
       "</table>\n",
       "</div>"
      ],
      "text/plain": [
       "       chrm    start      end  mutations     gene\n",
       "0  003197.2  4482489  4499168        174  STM4261\n",
       "1  003197.2  4731980  4735495         72  STM4489\n",
       "2  003197.2  4408264  4412034         69     metH\n",
       "3  003197.2    77046    80273         59     carB\n",
       "4  003197.2  3494529  3498989         57     gltB"
      ]
     },
     "execution_count": 78,
     "metadata": {},
     "output_type": "execute_result"
    }
   ],
   "source": [
    "circos_df.head()"
   ]
  },
  {
   "cell_type": "code",
   "execution_count": 79,
   "metadata": {},
   "outputs": [
    {
     "name": "stderr",
     "output_type": "stream",
     "text": [
      "/home/anubratadas/anaconda3/lib/python3.7/site-packages/ipykernel_launcher.py:1: FutureWarning: Indexing with multiple keys (implicitly converted to a tuple of keys) will be deprecated, use a list instead.\n",
      "  \"\"\"Entry point for launching an IPython kernel.\n"
     ]
    },
    {
     "data": {
      "text/html": [
       "<div>\n",
       "<style scoped>\n",
       "    .dataframe tbody tr th:only-of-type {\n",
       "        vertical-align: middle;\n",
       "    }\n",
       "\n",
       "    .dataframe tbody tr th {\n",
       "        vertical-align: top;\n",
       "    }\n",
       "\n",
       "    .dataframe thead th {\n",
       "        text-align: right;\n",
       "    }\n",
       "</style>\n",
       "<table border=\"1\" class=\"dataframe\">\n",
       "  <thead>\n",
       "    <tr style=\"text-align: right;\">\n",
       "      <th></th>\n",
       "      <th>gene</th>\n",
       "      <th>mutations</th>\n",
       "    </tr>\n",
       "    <tr>\n",
       "      <th>chrm</th>\n",
       "      <th></th>\n",
       "      <th></th>\n",
       "    </tr>\n",
       "  </thead>\n",
       "  <tbody>\n",
       "    <tr>\n",
       "      <th>003197.2</th>\n",
       "      <td>3523</td>\n",
       "      <td>3523</td>\n",
       "    </tr>\n",
       "    <tr>\n",
       "      <th>003277.2</th>\n",
       "      <td>1</td>\n",
       "      <td>1</td>\n",
       "    </tr>\n",
       "  </tbody>\n",
       "</table>\n",
       "</div>"
      ],
      "text/plain": [
       "          gene  mutations\n",
       "chrm                     \n",
       "003197.2  3523       3523\n",
       "003277.2     1          1"
      ]
     },
     "execution_count": 79,
     "metadata": {},
     "output_type": "execute_result"
    }
   ],
   "source": [
    "circos_df.groupby(\"chrm\")[\"gene\",\"mutations\"].count()"
   ]
  },
  {
   "cell_type": "code",
   "execution_count": 35,
   "metadata": {},
   "outputs": [],
   "source": [
    "rename_chrm=np.where(circos_df.chrm==\"003277.2\",\"sal2\",\"sal1\")"
   ]
  },
  {
   "cell_type": "code",
   "execution_count": 37,
   "metadata": {},
   "outputs": [
    {
     "data": {
      "text/plain": [
       "((3524,), (3524, 3))"
      ]
     },
     "execution_count": 37,
     "metadata": {},
     "output_type": "execute_result"
    }
   ],
   "source": [
    "rename_chrm.shape,circos_df.shape"
   ]
  },
  {
   "cell_type": "code",
   "execution_count": 80,
   "metadata": {},
   "outputs": [],
   "source": [
    "circos_df.chrm = np.where(circos_df.chrm==\"003277.2\",\"sal2\",\"sal1\")"
   ]
  },
  {
   "cell_type": "code",
   "execution_count": 81,
   "metadata": {},
   "outputs": [
    {
     "data": {
      "text/html": [
       "<div>\n",
       "<style scoped>\n",
       "    .dataframe tbody tr th:only-of-type {\n",
       "        vertical-align: middle;\n",
       "    }\n",
       "\n",
       "    .dataframe tbody tr th {\n",
       "        vertical-align: top;\n",
       "    }\n",
       "\n",
       "    .dataframe thead th {\n",
       "        text-align: right;\n",
       "    }\n",
       "</style>\n",
       "<table border=\"1\" class=\"dataframe\">\n",
       "  <thead>\n",
       "    <tr style=\"text-align: right;\">\n",
       "      <th></th>\n",
       "      <th>chrm</th>\n",
       "      <th>start</th>\n",
       "      <th>end</th>\n",
       "      <th>mutations</th>\n",
       "      <th>gene</th>\n",
       "    </tr>\n",
       "  </thead>\n",
       "  <tbody>\n",
       "    <tr>\n",
       "      <th>0</th>\n",
       "      <td>sal1</td>\n",
       "      <td>4482489</td>\n",
       "      <td>4499168</td>\n",
       "      <td>174</td>\n",
       "      <td>STM4261</td>\n",
       "    </tr>\n",
       "    <tr>\n",
       "      <th>1</th>\n",
       "      <td>sal1</td>\n",
       "      <td>4731980</td>\n",
       "      <td>4735495</td>\n",
       "      <td>72</td>\n",
       "      <td>STM4489</td>\n",
       "    </tr>\n",
       "    <tr>\n",
       "      <th>2</th>\n",
       "      <td>sal1</td>\n",
       "      <td>4408264</td>\n",
       "      <td>4412034</td>\n",
       "      <td>69</td>\n",
       "      <td>metH</td>\n",
       "    </tr>\n",
       "    <tr>\n",
       "      <th>3</th>\n",
       "      <td>sal1</td>\n",
       "      <td>77046</td>\n",
       "      <td>80273</td>\n",
       "      <td>59</td>\n",
       "      <td>carB</td>\n",
       "    </tr>\n",
       "    <tr>\n",
       "      <th>4</th>\n",
       "      <td>sal1</td>\n",
       "      <td>3494529</td>\n",
       "      <td>3498989</td>\n",
       "      <td>57</td>\n",
       "      <td>gltB</td>\n",
       "    </tr>\n",
       "  </tbody>\n",
       "</table>\n",
       "</div>"
      ],
      "text/plain": [
       "   chrm    start      end  mutations     gene\n",
       "0  sal1  4482489  4499168        174  STM4261\n",
       "1  sal1  4731980  4735495         72  STM4489\n",
       "2  sal1  4408264  4412034         69     metH\n",
       "3  sal1    77046    80273         59     carB\n",
       "4  sal1  3494529  3498989         57     gltB"
      ]
     },
     "execution_count": 81,
     "metadata": {},
     "output_type": "execute_result"
    }
   ],
   "source": [
    "circos_df.head()"
   ]
  },
  {
   "cell_type": "code",
   "execution_count": 82,
   "metadata": {},
   "outputs": [],
   "source": [
    "circos_df.to_csv(\"all_samples_mutations.csv\",index=False,sep=\"\\t\")"
   ]
  },
  {
   "cell_type": "code",
   "execution_count": null,
   "metadata": {},
   "outputs": [],
   "source": []
  },
  {
   "cell_type": "code",
   "execution_count": null,
   "metadata": {},
   "outputs": [],
   "source": []
  },
  {
   "cell_type": "code",
   "execution_count": null,
   "metadata": {},
   "outputs": [],
   "source": []
  },
  {
   "cell_type": "code",
   "execution_count": 4,
   "metadata": {},
   "outputs": [
    {
     "data": {
      "text/plain": [
       "(array(['SNP'], dtype=object),\n",
       " array(['Exon_NC_003197.2_336_2798', 'Exon_NC_003197.2_2800_3729',\n",
       "        'Exon_NC_003197.2_3733_5019', ...,\n",
       "        'Exon_NC_003197.2_4855387_4856103',\n",
       "        'Exon_NC_003197.2_4856739_4857425', 'Exon_NC_003277.2_32922_33959'],\n",
       "       dtype=object))"
      ]
     },
     "execution_count": 4,
     "metadata": {},
     "output_type": "execute_result"
    }
   ],
   "source": [
    "cr_plt_dt.Change_type.unique(),cr_plt_dt.Bio_type.unique()"
   ]
  },
  {
   "cell_type": "code",
   "execution_count": 5,
   "metadata": {},
   "outputs": [],
   "source": [
    "# function to derive NCBI ids from Bio_type\n",
    "def get_id(inpt):\n",
    "    inpt_as_str=str(inpt)\n",
    "    rev_str_inpt=inpt_as_str[8:16]\n",
    "    if len(rev_str_inpt)>=0:\n",
    "        return rev_str_inpt\n",
    "bio_type=cr_plt_dt.Bio_type.map(get_id)    "
   ]
  },
  {
   "cell_type": "code",
   "execution_count": 53,
   "metadata": {},
   "outputs": [],
   "source": [
    "bio_type.name=\"NCBI_ID\""
   ]
  },
  {
   "cell_type": "code",
   "execution_count": 37,
   "metadata": {},
   "outputs": [],
   "source": [
    "def count_genes_chr(input_dataframe): # count the number of genes for 003197.2 and 003277.2\n",
    "    unique_ids=cr_plt_dt.Bio_type.unique()\n",
    "    for item in unique_ids:\n",
    "        item=str(item)\n",
    "        nitem=item.split(\"_\")\n",
    "        if len(nitem)>3:\n",
    "            z_object=zip(item[2],item[3],item[4])\n",
    "            print(z_object)\n",
    "#count_genes_chr(cr_plt_dt)    "
   ]
  },
  {
   "cell_type": "code",
   "execution_count": 54,
   "metadata": {},
   "outputs": [
    {
     "data": {
      "text/plain": [
       "((42952, 7),\n",
       " (42952,),\n",
       " array(['003197.2', '', 'pt_gene3', 'pt_gene9', 'pt_gene1', 'pt_gene2',\n",
       "        'e240', 'e297', 'e313', 'e325', 'pt_gene4', 'pt_gene5', 'e559',\n",
       "        'pt_gene6', 'pt_gene7', 'e789', 'pt_gene8', 'e1182', 'e1241',\n",
       "        'e1244', 'e1470', 'e1549', 'e1662', 'e1929', 'e2002', 'e2131',\n",
       "        'e2210', 'e2665', 'e2690', 'e2975', 'e3302', 'e3460', 'e3520',\n",
       "        'e3530', 'e3655', 'e3810', 'e3948', 'e4458', '003277.2'],\n",
       "       dtype=object))"
      ]
     },
     "execution_count": 54,
     "metadata": {},
     "output_type": "execute_result"
    }
   ],
   "source": [
    "cr_plt_dt.shape, bio_type.shape,bio_type.unique()"
   ]
  },
  {
   "cell_type": "code",
   "execution_count": 55,
   "metadata": {},
   "outputs": [],
   "source": [
    "df_circos=pd.concat([cr_plt_dt,bio_type],axis=1)"
   ]
  },
  {
   "cell_type": "code",
   "execution_count": 56,
   "metadata": {},
   "outputs": [
    {
     "data": {
      "text/plain": [
       "Index(['Position', 'Change_type', 'Warnings', 'Gene_ID', 'Gene_name',\n",
       "       'Bio_type', 'Exon_ID', 'NCBI_ID'],\n",
       "      dtype='object')"
      ]
     },
     "execution_count": 56,
     "metadata": {},
     "output_type": "execute_result"
    }
   ],
   "source": [
    "df_circos.columns"
   ]
  },
  {
   "cell_type": "code",
   "execution_count": 59,
   "metadata": {},
   "outputs": [
    {
     "data": {
      "text/html": [
       "<div>\n",
       "<style scoped>\n",
       "    .dataframe tbody tr th:only-of-type {\n",
       "        vertical-align: middle;\n",
       "    }\n",
       "\n",
       "    .dataframe tbody tr th {\n",
       "        vertical-align: top;\n",
       "    }\n",
       "\n",
       "    .dataframe thead th {\n",
       "        text-align: right;\n",
       "    }\n",
       "</style>\n",
       "<table border=\"1\" class=\"dataframe\">\n",
       "  <thead>\n",
       "    <tr style=\"text-align: right;\">\n",
       "      <th></th>\n",
       "      <th>Position</th>\n",
       "      <th>Change_type</th>\n",
       "      <th>Warnings</th>\n",
       "      <th>Gene_ID</th>\n",
       "      <th>Gene_name</th>\n",
       "      <th>Bio_type</th>\n",
       "      <th>Exon_ID</th>\n",
       "      <th>NCBI_ID</th>\n",
       "    </tr>\n",
       "  </thead>\n",
       "  <tbody>\n",
       "    <tr>\n",
       "      <th>3448</th>\n",
       "      <td>359230</td>\n",
       "      <td>SNP</td>\n",
       "      <td>Gene_gene313</td>\n",
       "      <td>Gene_gene313</td>\n",
       "      <td>INTRAGENIC:</td>\n",
       "      <td>Gene_gene313</td>\n",
       "      <td>NaN</td>\n",
       "      <td>e313</td>\n",
       "    </tr>\n",
       "    <tr>\n",
       "      <th>3449</th>\n",
       "      <td>359236</td>\n",
       "      <td>SNP</td>\n",
       "      <td>Gene_gene313</td>\n",
       "      <td>Gene_gene313</td>\n",
       "      <td>INTRAGENIC:</td>\n",
       "      <td>Gene_gene313</td>\n",
       "      <td>NaN</td>\n",
       "      <td>e313</td>\n",
       "    </tr>\n",
       "    <tr>\n",
       "      <th>3450</th>\n",
       "      <td>359384</td>\n",
       "      <td>SNP</td>\n",
       "      <td>Gene_gene313</td>\n",
       "      <td>Gene_gene313</td>\n",
       "      <td>INTRAGENIC:</td>\n",
       "      <td>Gene_gene313</td>\n",
       "      <td>NaN</td>\n",
       "      <td>e313</td>\n",
       "    </tr>\n",
       "    <tr>\n",
       "      <th>3451</th>\n",
       "      <td>359529</td>\n",
       "      <td>SNP</td>\n",
       "      <td>Gene_gene313</td>\n",
       "      <td>Gene_gene313</td>\n",
       "      <td>INTRAGENIC:</td>\n",
       "      <td>Gene_gene313</td>\n",
       "      <td>NaN</td>\n",
       "      <td>e313</td>\n",
       "    </tr>\n",
       "    <tr>\n",
       "      <th>3452</th>\n",
       "      <td>359542</td>\n",
       "      <td>SNP</td>\n",
       "      <td>Gene_gene313</td>\n",
       "      <td>Gene_gene313</td>\n",
       "      <td>INTRAGENIC:</td>\n",
       "      <td>Gene_gene313</td>\n",
       "      <td>NaN</td>\n",
       "      <td>e313</td>\n",
       "    </tr>\n",
       "    <tr>\n",
       "      <th>3453</th>\n",
       "      <td>359603</td>\n",
       "      <td>SNP</td>\n",
       "      <td>Gene_gene313</td>\n",
       "      <td>Gene_gene313</td>\n",
       "      <td>INTRAGENIC:</td>\n",
       "      <td>Gene_gene313</td>\n",
       "      <td>NaN</td>\n",
       "      <td>e313</td>\n",
       "    </tr>\n",
       "    <tr>\n",
       "      <th>3454</th>\n",
       "      <td>359757</td>\n",
       "      <td>SNP</td>\n",
       "      <td>Gene_gene313</td>\n",
       "      <td>Gene_gene313</td>\n",
       "      <td>INTRAGENIC:</td>\n",
       "      <td>Gene_gene313</td>\n",
       "      <td>NaN</td>\n",
       "      <td>e313</td>\n",
       "    </tr>\n",
       "    <tr>\n",
       "      <th>3455</th>\n",
       "      <td>359839</td>\n",
       "      <td>SNP</td>\n",
       "      <td>Gene_gene313</td>\n",
       "      <td>Gene_gene313</td>\n",
       "      <td>INTRAGENIC:</td>\n",
       "      <td>Gene_gene313</td>\n",
       "      <td>NaN</td>\n",
       "      <td>e313</td>\n",
       "    </tr>\n",
       "    <tr>\n",
       "      <th>3456</th>\n",
       "      <td>359976</td>\n",
       "      <td>SNP</td>\n",
       "      <td>Gene_gene313</td>\n",
       "      <td>Gene_gene313</td>\n",
       "      <td>INTRAGENIC:</td>\n",
       "      <td>Gene_gene313</td>\n",
       "      <td>NaN</td>\n",
       "      <td>e313</td>\n",
       "    </tr>\n",
       "    <tr>\n",
       "      <th>3457</th>\n",
       "      <td>360078</td>\n",
       "      <td>SNP</td>\n",
       "      <td>Gene_gene313</td>\n",
       "      <td>Gene_gene313</td>\n",
       "      <td>INTRAGENIC:</td>\n",
       "      <td>Gene_gene313</td>\n",
       "      <td>NaN</td>\n",
       "      <td>e313</td>\n",
       "    </tr>\n",
       "    <tr>\n",
       "      <th>3458</th>\n",
       "      <td>360114</td>\n",
       "      <td>SNP</td>\n",
       "      <td>Gene_gene313</td>\n",
       "      <td>Gene_gene313</td>\n",
       "      <td>INTRAGENIC:</td>\n",
       "      <td>Gene_gene313</td>\n",
       "      <td>NaN</td>\n",
       "      <td>e313</td>\n",
       "    </tr>\n",
       "    <tr>\n",
       "      <th>3459</th>\n",
       "      <td>360150</td>\n",
       "      <td>SNP</td>\n",
       "      <td>Gene_gene313</td>\n",
       "      <td>Gene_gene313</td>\n",
       "      <td>INTRAGENIC:</td>\n",
       "      <td>Gene_gene313</td>\n",
       "      <td>NaN</td>\n",
       "      <td>e313</td>\n",
       "    </tr>\n",
       "  </tbody>\n",
       "</table>\n",
       "</div>"
      ],
      "text/plain": [
       "      Position Change_type      Warnings       Gene_ID    Gene_name  \\\n",
       "3448    359230         SNP  Gene_gene313  Gene_gene313  INTRAGENIC:   \n",
       "3449    359236         SNP  Gene_gene313  Gene_gene313  INTRAGENIC:   \n",
       "3450    359384         SNP  Gene_gene313  Gene_gene313  INTRAGENIC:   \n",
       "3451    359529         SNP  Gene_gene313  Gene_gene313  INTRAGENIC:   \n",
       "3452    359542         SNP  Gene_gene313  Gene_gene313  INTRAGENIC:   \n",
       "3453    359603         SNP  Gene_gene313  Gene_gene313  INTRAGENIC:   \n",
       "3454    359757         SNP  Gene_gene313  Gene_gene313  INTRAGENIC:   \n",
       "3455    359839         SNP  Gene_gene313  Gene_gene313  INTRAGENIC:   \n",
       "3456    359976         SNP  Gene_gene313  Gene_gene313  INTRAGENIC:   \n",
       "3457    360078         SNP  Gene_gene313  Gene_gene313  INTRAGENIC:   \n",
       "3458    360114         SNP  Gene_gene313  Gene_gene313  INTRAGENIC:   \n",
       "3459    360150         SNP  Gene_gene313  Gene_gene313  INTRAGENIC:   \n",
       "\n",
       "          Bio_type Exon_ID NCBI_ID  \n",
       "3448  Gene_gene313     NaN    e313  \n",
       "3449  Gene_gene313     NaN    e313  \n",
       "3450  Gene_gene313     NaN    e313  \n",
       "3451  Gene_gene313     NaN    e313  \n",
       "3452  Gene_gene313     NaN    e313  \n",
       "3453  Gene_gene313     NaN    e313  \n",
       "3454  Gene_gene313     NaN    e313  \n",
       "3455  Gene_gene313     NaN    e313  \n",
       "3456  Gene_gene313     NaN    e313  \n",
       "3457  Gene_gene313     NaN    e313  \n",
       "3458  Gene_gene313     NaN    e313  \n",
       "3459  Gene_gene313     NaN    e313  "
      ]
     },
     "execution_count": 59,
     "metadata": {},
     "output_type": "execute_result"
    }
   ],
   "source": [
    "df_circos[df_circos.NCBI_ID=='e313'] # red flag: this should be intergenic"
   ]
  },
  {
   "cell_type": "code",
   "execution_count": null,
   "metadata": {},
   "outputs": [],
   "source": []
  },
  {
   "cell_type": "code",
   "execution_count": null,
   "metadata": {},
   "outputs": [],
   "source": []
  },
  {
   "cell_type": "code",
   "execution_count": 42,
   "metadata": {},
   "outputs": [],
   "source": [
    "#cr_plt_dt.Bio_type.map(lambda x:str(x))"
   ]
  },
  {
   "cell_type": "code",
   "execution_count": 6,
   "metadata": {},
   "outputs": [],
   "source": [
    "non_synonymous_genes=arti_data[arti_data.Exon_ID==\"NON_SYNONYMOUS_CODING\"]"
   ]
  },
  {
   "cell_type": "code",
   "execution_count": 7,
   "metadata": {},
   "outputs": [
    {
     "data": {
      "text/plain": [
       "STM4261    64\n",
       "STM4489    21\n",
       "ratA       20\n",
       "slrP       19\n",
       "STM0019    18\n",
       "Name: Gene_ID, dtype: int64"
      ]
     },
     "execution_count": 7,
     "metadata": {},
     "output_type": "execute_result"
    }
   ],
   "source": [
    "pd.set_option('display.max_rows',None)\n",
    "pd.value_counts(non_synonymous_genes.Gene_ID).sort_values(ascending=False).head()"
   ]
  },
  {
   "cell_type": "code",
   "execution_count": null,
   "metadata": {},
   "outputs": [],
   "source": []
  }
 ],
 "metadata": {
  "kernelspec": {
   "display_name": "Python 3",
   "language": "python",
   "name": "python3"
  },
  "language_info": {
   "codemirror_mode": {
    "name": "ipython",
    "version": 3
   },
   "file_extension": ".py",
   "mimetype": "text/x-python",
   "name": "python",
   "nbconvert_exporter": "python",
   "pygments_lexer": "ipython3",
   "version": "3.7.6"
  }
 },
 "nbformat": 4,
 "nbformat_minor": 4
}
