{
 "cells": [
  {
   "cell_type": "code",
   "execution_count": 7,
   "metadata": {},
   "outputs": [
    {
     "data": {
      "text/plain": [
       "'/home/anubrata/Documents/aarti_data/Aarti_Data'"
      ]
     },
     "execution_count": 7,
     "metadata": {},
     "output_type": "execute_result"
    }
   ],
   "source": [
    "import os\n",
    "import numpy as np\n",
    "import pandas as pd\n",
    "\n",
    "os.getcwd()"
   ]
  },
  {
   "cell_type": "code",
   "execution_count": 2,
   "metadata": {},
   "outputs": [],
   "source": [
    "os.chdir('/home/anubrata/Documents/aarti_data/Aarti_Data/')"
   ]
  },
  {
   "cell_type": "code",
   "execution_count": 5,
   "metadata": {},
   "outputs": [
    {
     "name": "stdout",
     "output_type": "stream",
     "text": [
      "['geneID\\tcount\\n', 'aadA\\t15\\n', 'aarF\\t4\\n', 'aas\\t22\\n', 'aat\\t7\\n']\n"
     ]
    }
   ],
   "source": [
    "with open ('geneID.txt','r') as fh1:\n",
    "    data1=fh1.readlines()\n",
    "    print(data1[0:5])\n",
    "fh1.close()    \n",
    "    "
   ]
  },
  {
   "cell_type": "code",
   "execution_count": 10,
   "metadata": {},
   "outputs": [
    {
     "data": {
      "text/html": [
       "<div>\n",
       "<style scoped>\n",
       "    .dataframe tbody tr th:only-of-type {\n",
       "        vertical-align: middle;\n",
       "    }\n",
       "\n",
       "    .dataframe tbody tr th {\n",
       "        vertical-align: top;\n",
       "    }\n",
       "\n",
       "    .dataframe thead th {\n",
       "        text-align: right;\n",
       "    }\n",
       "</style>\n",
       "<table border=\"1\" class=\"dataframe\">\n",
       "  <thead>\n",
       "    <tr style=\"text-align: right;\">\n",
       "      <th></th>\n",
       "      <th>name</th>\n",
       "      <th>Entry</th>\n",
       "      <th>Entry.1</th>\n",
       "      <th>Gene</th>\n",
       "      <th>names</th>\n",
       "    </tr>\n",
       "  </thead>\n",
       "  <tbody>\n",
       "    <tr>\n",
       "      <td>0</td>\n",
       "      <td>aadA</td>\n",
       "      <td>Q8ZPX9</td>\n",
       "      <td>Q8ZPX9_SALTY</td>\n",
       "      <td>STM1264</td>\n",
       "      <td>aadA</td>\n",
       "    </tr>\n",
       "    <tr>\n",
       "      <td>1</td>\n",
       "      <td>aas</td>\n",
       "      <td>Q8ZMA4</td>\n",
       "      <td>AAS_SALTY</td>\n",
       "      <td>STM3010</td>\n",
       "      <td>aas</td>\n",
       "    </tr>\n",
       "    <tr>\n",
       "      <td>2</td>\n",
       "      <td>aat</td>\n",
       "      <td>P67613</td>\n",
       "      <td>LFTR_SALTY</td>\n",
       "      <td>STM0955</td>\n",
       "      <td>aat</td>\n",
       "    </tr>\n",
       "    <tr>\n",
       "      <td>3</td>\n",
       "      <td>abrB</td>\n",
       "      <td>Q8ZQU5</td>\n",
       "      <td>Q8ZQU5_SALTY</td>\n",
       "      <td>STM0729</td>\n",
       "      <td>abrB</td>\n",
       "    </tr>\n",
       "    <tr>\n",
       "      <td>4</td>\n",
       "      <td>accA</td>\n",
       "      <td>P0A1C3</td>\n",
       "      <td>ACCA_SALTY</td>\n",
       "      <td>STM0232</td>\n",
       "      <td>accA</td>\n",
       "    </tr>\n",
       "  </tbody>\n",
       "</table>\n",
       "</div>"
      ],
      "text/plain": [
       "   name   Entry       Entry.1     Gene names\n",
       "0  aadA  Q8ZPX9  Q8ZPX9_SALTY  STM1264  aadA\n",
       "1   aas  Q8ZMA4     AAS_SALTY  STM3010   aas\n",
       "2   aat  P67613    LFTR_SALTY  STM0955   aat\n",
       "3  abrB  Q8ZQU5  Q8ZQU5_SALTY  STM0729  abrB\n",
       "4  accA  P0A1C3    ACCA_SALTY  STM0232  accA"
      ]
     },
     "execution_count": 10,
     "metadata": {},
     "output_type": "execute_result"
    }
   ],
   "source": [
    "geneID=pd.read_csv('geneIDt.csv')\n",
    "geneID=geneID.iloc[:,:5]\n",
    "geneID.head()"
   ]
  },
  {
   "cell_type": "code",
   "execution_count": 14,
   "metadata": {},
   "outputs": [
    {
     "data": {
      "text/html": [
       "<div>\n",
       "<style scoped>\n",
       "    .dataframe tbody tr th:only-of-type {\n",
       "        vertical-align: middle;\n",
       "    }\n",
       "\n",
       "    .dataframe tbody tr th {\n",
       "        vertical-align: top;\n",
       "    }\n",
       "\n",
       "    .dataframe thead th {\n",
       "        text-align: right;\n",
       "    }\n",
       "</style>\n",
       "<table border=\"1\" class=\"dataframe\">\n",
       "  <thead>\n",
       "    <tr style=\"text-align: right;\">\n",
       "      <th></th>\n",
       "      <th>0</th>\n",
       "      <th>1</th>\n",
       "    </tr>\n",
       "  </thead>\n",
       "  <tbody>\n",
       "    <tr>\n",
       "      <td>0</td>\n",
       "      <td>aadA</td>\n",
       "      <td>15</td>\n",
       "    </tr>\n",
       "    <tr>\n",
       "      <td>1</td>\n",
       "      <td>aas</td>\n",
       "      <td>22</td>\n",
       "    </tr>\n",
       "    <tr>\n",
       "      <td>2</td>\n",
       "      <td>aceE</td>\n",
       "      <td>31</td>\n",
       "    </tr>\n",
       "    <tr>\n",
       "      <td>3</td>\n",
       "      <td>aceF</td>\n",
       "      <td>26</td>\n",
       "    </tr>\n",
       "    <tr>\n",
       "      <td>4</td>\n",
       "      <td>acnA</td>\n",
       "      <td>44</td>\n",
       "    </tr>\n",
       "  </tbody>\n",
       "</table>\n",
       "</div>"
      ],
      "text/plain": [
       "      0   1\n",
       "0  aadA  15\n",
       "1   aas  22\n",
       "2  aceE  31\n",
       "3  aceF  26\n",
       "4  acnA  44"
      ]
     },
     "execution_count": 14,
     "metadata": {},
     "output_type": "execute_result"
    }
   ],
   "source": [
    "highSNP=pd.read_csv('highSNP.csv',header=None)\n",
    "highSNP.head()"
   ]
  },
  {
   "cell_type": "code",
   "execution_count": 33,
   "metadata": {},
   "outputs": [
    {
     "data": {
      "text/plain": [
       "'/home/anubrata/Documents/aarti_data/Aarti_Data'"
      ]
     },
     "execution_count": 33,
     "metadata": {},
     "output_type": "execute_result"
    }
   ],
   "source": [
    "highSNP.columns=['name','num']\n",
    "highSNP.head()\n",
    "highSNP_unp=pd.merge(highSNP,geneID,how=\"inner\",on='name')  \n",
    "highSNP_unp.head()\n",
    "highSNP_unp.to_csv('highSNPuniprot.csv')\n",
    "os.getcwd()"
   ]
  },
  {
   "cell_type": "code",
   "execution_count": 25,
   "metadata": {},
   "outputs": [],
   "source": [
    "highSNP.columns=['gene','count']\n",
    "name_high=list(highSNP.gene)\n",
    "match_high=geneID.loc[geneID.name.isin(name_high),['name','Entry']]\n"
   ]
  },
  {
   "cell_type": "code",
   "execution_count": 26,
   "metadata": {},
   "outputs": [
    {
     "data": {
      "text/plain": [
       "<bound method DataFrame.info of      gene  count\n",
       "0    aadA     15\n",
       "1     aas     22\n",
       "2    aceE     31\n",
       "3    aceF     26\n",
       "4    acnA     44\n",
       "..    ...    ...\n",
       "898  yraL     14\n",
       "899  yraM     26\n",
       "900  yrfF     15\n",
       "901  ytfN     40\n",
       "902  zntA     33\n",
       "\n",
       "[903 rows x 2 columns]>"
      ]
     },
     "execution_count": 26,
     "metadata": {},
     "output_type": "execute_result"
    }
   ],
   "source": [
    "highSNP.info"
   ]
  },
  {
   "cell_type": "code",
   "execution_count": 27,
   "metadata": {},
   "outputs": [
    {
     "data": {
      "text/plain": [
       "<bound method DataFrame.info of       name   Entry       Entry.1     Gene names\n",
       "0     aadA  Q8ZPX9  Q8ZPX9_SALTY  STM1264  aadA\n",
       "1      aas  Q8ZMA4     AAS_SALTY  STM3010   aas\n",
       "2      aat  P67613    LFTR_SALTY  STM0955   aat\n",
       "3     abrB  Q8ZQU5  Q8ZQU5_SALTY  STM0729  abrB\n",
       "4     accA  P0A1C3    ACCA_SALTY  STM0232  accA\n",
       "...    ...     ...           ...      ...   ...\n",
       "2731  znuB  Q8ZNV6  Q8ZNV6_SALTY  STM1893  znuB\n",
       "2732  znuC  Q8ZNV7    ZNUC_SALTY  STM1892  znuC\n",
       "2733  zraP  Q9L9I0    ZRAP_SALTY  STM4172  zraP\n",
       "2734   zur  Q8ZKH6  Q8ZKH6_SALTY  STM4241   zur\n",
       "2735   zwf  Q8ZNW2  Q8ZNW2_SALTY  STM1886   zwf\n",
       "\n",
       "[2736 rows x 5 columns]>"
      ]
     },
     "execution_count": 27,
     "metadata": {},
     "output_type": "execute_result"
    }
   ],
   "source": [
    "geneID.info"
   ]
  },
  {
   "cell_type": "code",
   "execution_count": null,
   "metadata": {},
   "outputs": [],
   "source": []
  }
 ],
 "metadata": {
  "kernelspec": {
   "display_name": "Python 3",
   "language": "python",
   "name": "python3"
  },
  "language_info": {
   "codemirror_mode": {
    "name": "ipython",
    "version": 3
   },
   "file_extension": ".py",
   "mimetype": "text/x-python",
   "name": "python",
   "nbconvert_exporter": "python",
   "pygments_lexer": "ipython3",
   "version": "3.7.4"
  }
 },
 "nbformat": 4,
 "nbformat_minor": 4
}
